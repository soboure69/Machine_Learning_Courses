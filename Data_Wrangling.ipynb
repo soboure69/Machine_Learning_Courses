{
 "cells": [
  {
   "cell_type": "markdown",
   "id": "ce3bce59",
   "metadata": {},
   "source": [
    "# 📘 Introduction\n",
    "\n",
    "Le **data wrangling** est un terme général souvent utilisé de façon informelle pour désigner le **processus qui consiste à transformer des données brutes en un format propre et organisé, prêt à être exploité**.\n",
    "\n",
    "Dans notre cas, le data wrangling constitue une étape parmi d'autres dans le prétraitement des données, mais c’est une étape essentielle.\n",
    "\n",
    "📊 Le rôle des DataFrames\n",
    "La structure de données la plus couramment utilisée pour \"manipuler\" des données est le DataFrame, qui est à la fois intuitif et extrêmement polyvalent.\n",
    "Un DataFrame est une structure tabulaire, comme dans une feuille de calcul, avec des lignes et des colonnes.\n",
    "\n",
    "📌 Exemple : Passagers du Titanic\n",
    "\n"
   ]
  },
  {
   "cell_type": "code",
   "execution_count": 1,
   "id": "d9920942",
   "metadata": {},
   "outputs": [
    {
     "data": {
      "application/vnd.microsoft.datawrangler.viewer.v0+json": {
       "columns": [
        {
         "name": "index",
         "rawType": "int64",
         "type": "integer"
        },
        {
         "name": "Name",
         "rawType": "object",
         "type": "string"
        },
        {
         "name": "PClass",
         "rawType": "object",
         "type": "string"
        },
        {
         "name": "Age",
         "rawType": "float64",
         "type": "float"
        },
        {
         "name": "Sex",
         "rawType": "object",
         "type": "string"
        },
        {
         "name": "Survived",
         "rawType": "int64",
         "type": "integer"
        },
        {
         "name": "SexCode",
         "rawType": "int64",
         "type": "integer"
        }
       ],
       "ref": "52242206-7011-473b-b5eb-9597df2517c8",
       "rows": [
        [
         "0",
         "Allen, Miss Elisabeth Walton",
         "1st",
         "29.0",
         "female",
         "1",
         "1"
        ],
        [
         "1",
         "Allison, Miss Helen Loraine",
         "1st",
         "2.0",
         "female",
         "0",
         "1"
        ],
        [
         "2",
         "Allison, Mr Hudson Joshua Creighton",
         "1st",
         "30.0",
         "male",
         "0",
         "0"
        ],
        [
         "3",
         "Allison, Mrs Hudson JC (Bessie Waldo Daniels)",
         "1st",
         "25.0",
         "female",
         "0",
         "1"
        ],
        [
         "4",
         "Allison, Master Hudson Trevor",
         "1st",
         "0.92",
         "male",
         "1",
         "0"
        ]
       ],
       "shape": {
        "columns": 6,
        "rows": 5
       }
      },
      "text/html": [
       "<div>\n",
       "<style scoped>\n",
       "    .dataframe tbody tr th:only-of-type {\n",
       "        vertical-align: middle;\n",
       "    }\n",
       "\n",
       "    .dataframe tbody tr th {\n",
       "        vertical-align: top;\n",
       "    }\n",
       "\n",
       "    .dataframe thead th {\n",
       "        text-align: right;\n",
       "    }\n",
       "</style>\n",
       "<table border=\"1\" class=\"dataframe\">\n",
       "  <thead>\n",
       "    <tr style=\"text-align: right;\">\n",
       "      <th></th>\n",
       "      <th>Name</th>\n",
       "      <th>PClass</th>\n",
       "      <th>Age</th>\n",
       "      <th>Sex</th>\n",
       "      <th>Survived</th>\n",
       "      <th>SexCode</th>\n",
       "    </tr>\n",
       "  </thead>\n",
       "  <tbody>\n",
       "    <tr>\n",
       "      <th>0</th>\n",
       "      <td>Allen, Miss Elisabeth Walton</td>\n",
       "      <td>1st</td>\n",
       "      <td>29.00</td>\n",
       "      <td>female</td>\n",
       "      <td>1</td>\n",
       "      <td>1</td>\n",
       "    </tr>\n",
       "    <tr>\n",
       "      <th>1</th>\n",
       "      <td>Allison, Miss Helen Loraine</td>\n",
       "      <td>1st</td>\n",
       "      <td>2.00</td>\n",
       "      <td>female</td>\n",
       "      <td>0</td>\n",
       "      <td>1</td>\n",
       "    </tr>\n",
       "    <tr>\n",
       "      <th>2</th>\n",
       "      <td>Allison, Mr Hudson Joshua Creighton</td>\n",
       "      <td>1st</td>\n",
       "      <td>30.00</td>\n",
       "      <td>male</td>\n",
       "      <td>0</td>\n",
       "      <td>0</td>\n",
       "    </tr>\n",
       "    <tr>\n",
       "      <th>3</th>\n",
       "      <td>Allison, Mrs Hudson JC (Bessie Waldo Daniels)</td>\n",
       "      <td>1st</td>\n",
       "      <td>25.00</td>\n",
       "      <td>female</td>\n",
       "      <td>0</td>\n",
       "      <td>1</td>\n",
       "    </tr>\n",
       "    <tr>\n",
       "      <th>4</th>\n",
       "      <td>Allison, Master Hudson Trevor</td>\n",
       "      <td>1st</td>\n",
       "      <td>0.92</td>\n",
       "      <td>male</td>\n",
       "      <td>1</td>\n",
       "      <td>0</td>\n",
       "    </tr>\n",
       "  </tbody>\n",
       "</table>\n",
       "</div>"
      ],
      "text/plain": [
       "                                            Name PClass    Age     Sex  \\\n",
       "0                   Allen, Miss Elisabeth Walton    1st  29.00  female   \n",
       "1                    Allison, Miss Helen Loraine    1st   2.00  female   \n",
       "2            Allison, Mr Hudson Joshua Creighton    1st  30.00    male   \n",
       "3  Allison, Mrs Hudson JC (Bessie Waldo Daniels)    1st  25.00  female   \n",
       "4                  Allison, Master Hudson Trevor    1st   0.92    male   \n",
       "\n",
       "   Survived  SexCode  \n",
       "0         1        1  \n",
       "1         0        1  \n",
       "2         0        0  \n",
       "3         0        1  \n",
       "4         1        0  "
      ]
     },
     "execution_count": 1,
     "metadata": {},
     "output_type": "execute_result"
    }
   ],
   "source": [
    "# Charger la bibliothèque\n",
    "import pandas as pd\n",
    "\n",
    "# Définir l'URL du fichier\n",
    "url = 'https://raw.githubusercontent.com/chrisalbon/sim_data/master/titanic.csv'\n",
    "\n",
    "# Charger les données sous forme de DataFrame\n",
    "dataframe = pd.read_csv(url)\n",
    "\n",
    "# Afficher les cinq premières lignes\n",
    "dataframe.head(5)"
   ]
  },
  {
   "cell_type": "markdown",
   "id": "31d4dff3",
   "metadata": {},
   "source": [
    "\n",
    "🔍 Trois éléments essentiels à noter\n",
    "- Chaque ligne représente une observation (ex. un passager) et chaque colonne une variable (sexe, âge, classe, etc.).\n",
    "Par exemple, pour la première ligne, on apprend que Miss Elisabeth Walton Allen était en première classe, âgée de 29 ans, de sexe féminin, et qu’elle a survécu au naufrage.\n",
    "- Chaque colonne possède un nom (ex. Name, Age, Sex) et chaque ligne un index (ex. 0 pour Elisabeth Walton Allen).\n",
    "\n",
    "Ces éléments sont cruciaux pour sélectionner et manipuler les données.\n",
    "- Les colonnes Sex et SexCode contiennent la même information sous des formats différents :\n",
    "  - Sex : chaîne de caractères (female, male)\n",
    "  - SexCode : entier (1 pour femme, 0 pour homme)\n",
    "  \n",
    "Afin d’éviter la redondance, il est préférable de supprimer l’une de ces deux colonnes.\n",
    "\n",
    "🎯 Dans ce chapitre, nous allons explorer de nombreuses techniques pour manipuler les DataFrames avec pandas, dans le but de créer un jeu de données propre, cohérent et prêt pour une analyse ou un entraînement en machine learning."
   ]
  },
  {
   "cell_type": "markdown",
   "id": "e44bbc89",
   "metadata": {},
   "source": [
    "# 📋 Création d’un DataFrame\n",
    "\n",
    "On souhaite créer un nouveau DataFrame dans Python.\n",
    "\n",
    "La bibliothèque pandas propose donc plusieurs méthodes pour créer un DataFrame. Une façon simple consiste à utiliser un dictionnaire Python, où chaque clé représente le nom d’une colonne et chaque valeur est une liste contenant les données de chaque ligne :\n"
   ]
  },
  {
   "cell_type": "code",
   "execution_count": 2,
   "id": "8b70f575",
   "metadata": {},
   "outputs": [
    {
     "name": "stdout",
     "output_type": "stream",
     "text": [
      "               Name  Age  Driver\n",
      "0     Jacky Jackson   38    True\n",
      "1  Steven Stevenson   25   False\n"
     ]
    }
   ],
   "source": [
    "# Charger la bibliothèque pandas\n",
    "import pandas as pd\n",
    "\n",
    "# Créer un dictionnaire\n",
    "dictionary = {\n",
    "    \"Name\": ['Jacky Jackson', 'Steven Stevenson'],\n",
    "    \"Age\": [38, 25],\n",
    "    \"Driver\": [True, False]\n",
    "}\n",
    "\n",
    "# Créer un DataFrame à partir du dictionnaire\n",
    "dataframe = pd.DataFrame(dictionary)\n",
    "\n",
    "# Afficher le DataFrame\n",
    "print(dataframe)"
   ]
  },
  {
   "cell_type": "markdown",
   "id": "bbe50d53",
   "metadata": {},
   "source": [
    "🟨 Ajouter une colonne facilement\n",
    "Il est très facile d’ajouter une nouvelle colonne à un DataFrame à l’aide d’une simple liste :"
   ]
  },
  {
   "cell_type": "code",
   "execution_count": 3,
   "id": "92c9983b",
   "metadata": {},
   "outputs": [
    {
     "name": "stdout",
     "output_type": "stream",
     "text": [
      "               Name  Age  Driver   Eyes\n",
      "0     Jacky Jackson   38    True  Brown\n",
      "1  Steven Stevenson   25   False   Blue\n"
     ]
    }
   ],
   "source": [
    "# Ajouter une colonne pour la couleur des yeux\n",
    "dataframe[\"Eyes\"] = [\"Brown\", \"Blue\"]\n",
    "\n",
    "# Afficher le DataFrame mis à jour\n",
    "print(dataframe)"
   ]
  },
  {
   "cell_type": "markdown",
   "id": "9c064bce",
   "metadata": {},
   "source": [
    "pandas offre une multitude de façons de créer un DataFrame, mais dans la pratique, on crée rarement un DataFrame vide qu'on remplit à la main.\n",
    "✅ Les DataFrames proviennent le plus souvent de données externes, comme :\n",
    "- des fichiers CSV\n",
    "- des bases de données\n",
    "- des API\n",
    "- des fichiers Excel, JSON, etc."
   ]
  },
  {
   "cell_type": "markdown",
   "id": "5d7af19c",
   "metadata": {},
   "source": [
    "# 🔎 Obtenir des informations sur un DataFrame\n",
    "\n",
    "On souhaite explorer les caractéristiques de base d’un DataFrame.\n",
    "\n",
    "L'une des premières choses à faire après avoir chargé des données est de consulter les premières lignes à l’aide de ``head()`` :"
   ]
  },
  {
   "cell_type": "code",
   "execution_count": 4,
   "id": "12d0d284",
   "metadata": {},
   "outputs": [
    {
     "data": {
      "application/vnd.microsoft.datawrangler.viewer.v0+json": {
       "columns": [
        {
         "name": "index",
         "rawType": "int64",
         "type": "integer"
        },
        {
         "name": "Name",
         "rawType": "object",
         "type": "string"
        },
        {
         "name": "PClass",
         "rawType": "object",
         "type": "string"
        },
        {
         "name": "Age",
         "rawType": "float64",
         "type": "float"
        },
        {
         "name": "Sex",
         "rawType": "object",
         "type": "string"
        },
        {
         "name": "Survived",
         "rawType": "int64",
         "type": "integer"
        },
        {
         "name": "SexCode",
         "rawType": "int64",
         "type": "integer"
        }
       ],
       "ref": "475ac9c0-7f9b-4bbf-b85c-993f824cf76d",
       "rows": [
        [
         "0",
         "Allen, Miss Elisabeth Walton",
         "1st",
         "29.0",
         "female",
         "1",
         "1"
        ],
        [
         "1",
         "Allison, Miss Helen Loraine",
         "1st",
         "2.0",
         "female",
         "0",
         "1"
        ]
       ],
       "shape": {
        "columns": 6,
        "rows": 2
       }
      },
      "text/html": [
       "<div>\n",
       "<style scoped>\n",
       "    .dataframe tbody tr th:only-of-type {\n",
       "        vertical-align: middle;\n",
       "    }\n",
       "\n",
       "    .dataframe tbody tr th {\n",
       "        vertical-align: top;\n",
       "    }\n",
       "\n",
       "    .dataframe thead th {\n",
       "        text-align: right;\n",
       "    }\n",
       "</style>\n",
       "<table border=\"1\" class=\"dataframe\">\n",
       "  <thead>\n",
       "    <tr style=\"text-align: right;\">\n",
       "      <th></th>\n",
       "      <th>Name</th>\n",
       "      <th>PClass</th>\n",
       "      <th>Age</th>\n",
       "      <th>Sex</th>\n",
       "      <th>Survived</th>\n",
       "      <th>SexCode</th>\n",
       "    </tr>\n",
       "  </thead>\n",
       "  <tbody>\n",
       "    <tr>\n",
       "      <th>0</th>\n",
       "      <td>Allen, Miss Elisabeth Walton</td>\n",
       "      <td>1st</td>\n",
       "      <td>29.0</td>\n",
       "      <td>female</td>\n",
       "      <td>1</td>\n",
       "      <td>1</td>\n",
       "    </tr>\n",
       "    <tr>\n",
       "      <th>1</th>\n",
       "      <td>Allison, Miss Helen Loraine</td>\n",
       "      <td>1st</td>\n",
       "      <td>2.0</td>\n",
       "      <td>female</td>\n",
       "      <td>0</td>\n",
       "      <td>1</td>\n",
       "    </tr>\n",
       "  </tbody>\n",
       "</table>\n",
       "</div>"
      ],
      "text/plain": [
       "                           Name PClass   Age     Sex  Survived  SexCode\n",
       "0  Allen, Miss Elisabeth Walton    1st  29.0  female         1        1\n",
       "1   Allison, Miss Helen Loraine    1st   2.0  female         0        1"
      ]
     },
     "execution_count": 4,
     "metadata": {},
     "output_type": "execute_result"
    }
   ],
   "source": [
    "# Importer la bibliothèque\n",
    "import pandas as pd\n",
    "\n",
    "# Définir l’URL du dataset\n",
    "url = 'https://raw.githubusercontent.com/chrisalbon/sim_data/master/titanic.csv'\n",
    "\n",
    "# Charger les données\n",
    "dataframe = pd.read_csv(url)\n",
    "\n",
    "# Afficher les deux premières lignes\n",
    "dataframe.head(2)"
   ]
  },
  {
   "cell_type": "markdown",
   "id": "f3398de8",
   "metadata": {},
   "source": [
    "✅ Méthodes utiles pour explorer un DataFrame\n",
    "\n",
    "| Méthode | Description | \n",
    "|----------|-------------|\n",
    "| ``head(n)`` | Affiche les n premières lignes (par défaut 5) | \n",
    "| ``tail(n)`` | Affiche les n dernières lignes | \n",
    "| ``shape`` | Donne les dimensions du DataFrame (lignes, colonnes) | \n",
    "| ``describe()`` | Calcule des statistiques descriptives sur les colonnes numériques | \n",
    "| ``info()`` | Affiche les types de données, le nombre de valeurs non nulles et l’utilisation mémoire | "
   ]
  },
  {
   "cell_type": "markdown",
   "id": "4f7ecc30",
   "metadata": {},
   "source": [
    "📊 Exemples supplémentaires"
   ]
  },
  {
   "cell_type": "code",
   "execution_count": 5,
   "id": "8953a3e5",
   "metadata": {},
   "outputs": [
    {
     "name": "stdout",
     "output_type": "stream",
     "text": [
      "(1313, 6)\n"
     ]
    }
   ],
   "source": [
    "# Dimensions\n",
    "print(dataframe.shape)"
   ]
  },
  {
   "cell_type": "code",
   "execution_count": 6,
   "id": "1af9864a",
   "metadata": {},
   "outputs": [
    {
     "name": "stdout",
     "output_type": "stream",
     "text": [
      "              Age     Survived      SexCode\n",
      "count  756.000000  1313.000000  1313.000000\n",
      "mean    30.397989     0.342727     0.351866\n",
      "std     14.259049     0.474802     0.477734\n",
      "min      0.170000     0.000000     0.000000\n",
      "25%     21.000000     0.000000     0.000000\n",
      "50%     28.000000     0.000000     0.000000\n",
      "75%     39.000000     1.000000     1.000000\n",
      "max     71.000000     1.000000     1.000000\n"
     ]
    }
   ],
   "source": [
    "# Statistiques descriptives\n",
    "print(dataframe.describe())"
   ]
  },
  {
   "cell_type": "code",
   "execution_count": 7,
   "id": "32454a3a",
   "metadata": {},
   "outputs": [
    {
     "name": "stdout",
     "output_type": "stream",
     "text": [
      "<class 'pandas.core.frame.DataFrame'>\n",
      "RangeIndex: 1313 entries, 0 to 1312\n",
      "Data columns (total 6 columns):\n",
      " #   Column    Non-Null Count  Dtype  \n",
      "---  ------    --------------  -----  \n",
      " 0   Name      1313 non-null   object \n",
      " 1   PClass    1313 non-null   object \n",
      " 2   Age       756 non-null    float64\n",
      " 3   Sex       1313 non-null   object \n",
      " 4   Survived  1313 non-null   int64  \n",
      " 5   SexCode   1313 non-null   int64  \n",
      "dtypes: float64(1), int64(2), object(3)\n",
      "memory usage: 61.7+ KB\n",
      "None\n"
     ]
    }
   ],
   "source": [
    "# Informations générales\n",
    "print(dataframe.info())"
   ]
  },
  {
   "cell_type": "markdown",
   "id": "0f85f4be",
   "metadata": {},
   "source": [
    "🧠 À retenir\n",
    "Bien que ``describe()`` fournisse des statistiques numériques utiles, certaines colonnes comme ``Survived`` ou ``SexCode`` sont en réalité des **variables catégorielles** codées en chiffres. Ainsi, des mesures comme l’écart type peuvent ne pas être pertinentes dans ce contexte."
   ]
  },
  {
   "cell_type": "markdown",
   "id": "48cf0786",
   "metadata": {},
   "source": [
    "# ✂️ Découpage (slicing) d’un DataFrame\n",
    "\n",
    "On souhaite sélectionner un sous-ensemble spécifique de données dans un DataFrame pandas.\n",
    "\n",
    "✅ On utilise donc les méthodes ``.iloc[]`` ou ``.loc[]`` pour accéder aux lignes et valeurs :"
   ]
  },
  {
   "cell_type": "code",
   "execution_count": 8,
   "id": "2d80ea29",
   "metadata": {},
   "outputs": [
    {
     "data": {
      "application/vnd.microsoft.datawrangler.viewer.v0+json": {
       "columns": [
        {
         "name": "index",
         "rawType": "object",
         "type": "string"
        },
        {
         "name": "0",
         "rawType": "object",
         "type": "unknown"
        }
       ],
       "ref": "4e2a65c5-118e-444b-b59e-63b7ca7a687f",
       "rows": [
        [
         "Name",
         "Allen, Miss Elisabeth Walton"
        ],
        [
         "PClass",
         "1st"
        ],
        [
         "Age",
         "29.0"
        ],
        [
         "Sex",
         "female"
        ],
        [
         "Survived",
         "1"
        ],
        [
         "SexCode",
         "1"
        ]
       ],
       "shape": {
        "columns": 1,
        "rows": 6
       }
      },
      "text/plain": [
       "Name        Allen, Miss Elisabeth Walton\n",
       "PClass                               1st\n",
       "Age                                 29.0\n",
       "Sex                               female\n",
       "Survived                               1\n",
       "SexCode                                1\n",
       "Name: 0, dtype: object"
      ]
     },
     "execution_count": 8,
     "metadata": {},
     "output_type": "execute_result"
    }
   ],
   "source": [
    "# Charger la bibliothèque pandas\n",
    "import pandas as pd\n",
    "\n",
    "# Définir l'URL du jeu de données Titanic\n",
    "url = 'https://raw.githubusercontent.com/chrisalbon/sim_data/master/titanic.csv'\n",
    "\n",
    "# Charger le DataFrame\n",
    "dataframe = pd.read_csv(url)\n",
    "\n",
    "# Sélectionner la première ligne par position\n",
    "dataframe.iloc[0]"
   ]
  },
  {
   "cell_type": "markdown",
   "id": "a034b075",
   "metadata": {},
   "source": [
    "🔹 Sélectionner un intervalle de lignes"
   ]
  },
  {
   "cell_type": "code",
   "execution_count": 9,
   "id": "bde21e8c",
   "metadata": {},
   "outputs": [
    {
     "data": {
      "application/vnd.microsoft.datawrangler.viewer.v0+json": {
       "columns": [
        {
         "name": "index",
         "rawType": "int64",
         "type": "integer"
        },
        {
         "name": "Name",
         "rawType": "object",
         "type": "string"
        },
        {
         "name": "PClass",
         "rawType": "object",
         "type": "string"
        },
        {
         "name": "Age",
         "rawType": "float64",
         "type": "float"
        },
        {
         "name": "Sex",
         "rawType": "object",
         "type": "string"
        },
        {
         "name": "Survived",
         "rawType": "int64",
         "type": "integer"
        },
        {
         "name": "SexCode",
         "rawType": "int64",
         "type": "integer"
        }
       ],
       "ref": "0229341e-13ab-4783-bfc1-94bb02569a8b",
       "rows": [
        [
         "1",
         "Allison, Miss Helen Loraine",
         "1st",
         "2.0",
         "female",
         "0",
         "1"
        ],
        [
         "2",
         "Allison, Mr Hudson Joshua Creighton",
         "1st",
         "30.0",
         "male",
         "0",
         "0"
        ],
        [
         "3",
         "Allison, Mrs Hudson JC (Bessie Waldo Daniels)",
         "1st",
         "25.0",
         "female",
         "0",
         "1"
        ]
       ],
       "shape": {
        "columns": 6,
        "rows": 3
       }
      },
      "text/html": [
       "<div>\n",
       "<style scoped>\n",
       "    .dataframe tbody tr th:only-of-type {\n",
       "        vertical-align: middle;\n",
       "    }\n",
       "\n",
       "    .dataframe tbody tr th {\n",
       "        vertical-align: top;\n",
       "    }\n",
       "\n",
       "    .dataframe thead th {\n",
       "        text-align: right;\n",
       "    }\n",
       "</style>\n",
       "<table border=\"1\" class=\"dataframe\">\n",
       "  <thead>\n",
       "    <tr style=\"text-align: right;\">\n",
       "      <th></th>\n",
       "      <th>Name</th>\n",
       "      <th>PClass</th>\n",
       "      <th>Age</th>\n",
       "      <th>Sex</th>\n",
       "      <th>Survived</th>\n",
       "      <th>SexCode</th>\n",
       "    </tr>\n",
       "  </thead>\n",
       "  <tbody>\n",
       "    <tr>\n",
       "      <th>1</th>\n",
       "      <td>Allison, Miss Helen Loraine</td>\n",
       "      <td>1st</td>\n",
       "      <td>2.0</td>\n",
       "      <td>female</td>\n",
       "      <td>0</td>\n",
       "      <td>1</td>\n",
       "    </tr>\n",
       "    <tr>\n",
       "      <th>2</th>\n",
       "      <td>Allison, Mr Hudson Joshua Creighton</td>\n",
       "      <td>1st</td>\n",
       "      <td>30.0</td>\n",
       "      <td>male</td>\n",
       "      <td>0</td>\n",
       "      <td>0</td>\n",
       "    </tr>\n",
       "    <tr>\n",
       "      <th>3</th>\n",
       "      <td>Allison, Mrs Hudson JC (Bessie Waldo Daniels)</td>\n",
       "      <td>1st</td>\n",
       "      <td>25.0</td>\n",
       "      <td>female</td>\n",
       "      <td>0</td>\n",
       "      <td>1</td>\n",
       "    </tr>\n",
       "  </tbody>\n",
       "</table>\n",
       "</div>"
      ],
      "text/plain": [
       "                                            Name PClass   Age     Sex  \\\n",
       "1                    Allison, Miss Helen Loraine    1st   2.0  female   \n",
       "2            Allison, Mr Hudson Joshua Creighton    1st  30.0    male   \n",
       "3  Allison, Mrs Hudson JC (Bessie Waldo Daniels)    1st  25.0  female   \n",
       "\n",
       "   Survived  SexCode  \n",
       "1         0        1  \n",
       "2         0        0  \n",
       "3         0        1  "
      ]
     },
     "execution_count": 9,
     "metadata": {},
     "output_type": "execute_result"
    }
   ],
   "source": [
    "# Sélectionner les lignes 1 à 3 (positions 1, 2 et 3)\n",
    "dataframe.iloc[1:4]"
   ]
  },
  {
   "cell_type": "code",
   "execution_count": 10,
   "id": "ab809b23",
   "metadata": {},
   "outputs": [
    {
     "data": {
      "application/vnd.microsoft.datawrangler.viewer.v0+json": {
       "columns": [
        {
         "name": "index",
         "rawType": "int64",
         "type": "integer"
        },
        {
         "name": "Name",
         "rawType": "object",
         "type": "string"
        },
        {
         "name": "PClass",
         "rawType": "object",
         "type": "string"
        },
        {
         "name": "Age",
         "rawType": "float64",
         "type": "float"
        },
        {
         "name": "Sex",
         "rawType": "object",
         "type": "string"
        },
        {
         "name": "Survived",
         "rawType": "int64",
         "type": "integer"
        },
        {
         "name": "SexCode",
         "rawType": "int64",
         "type": "integer"
        }
       ],
       "ref": "4c0bb5f7-0024-482f-a35b-0b57280e3530",
       "rows": [
        [
         "0",
         "Allen, Miss Elisabeth Walton",
         "1st",
         "29.0",
         "female",
         "1",
         "1"
        ],
        [
         "1",
         "Allison, Miss Helen Loraine",
         "1st",
         "2.0",
         "female",
         "0",
         "1"
        ],
        [
         "2",
         "Allison, Mr Hudson Joshua Creighton",
         "1st",
         "30.0",
         "male",
         "0",
         "0"
        ],
        [
         "3",
         "Allison, Mrs Hudson JC (Bessie Waldo Daniels)",
         "1st",
         "25.0",
         "female",
         "0",
         "1"
        ]
       ],
       "shape": {
        "columns": 6,
        "rows": 4
       }
      },
      "text/html": [
       "<div>\n",
       "<style scoped>\n",
       "    .dataframe tbody tr th:only-of-type {\n",
       "        vertical-align: middle;\n",
       "    }\n",
       "\n",
       "    .dataframe tbody tr th {\n",
       "        vertical-align: top;\n",
       "    }\n",
       "\n",
       "    .dataframe thead th {\n",
       "        text-align: right;\n",
       "    }\n",
       "</style>\n",
       "<table border=\"1\" class=\"dataframe\">\n",
       "  <thead>\n",
       "    <tr style=\"text-align: right;\">\n",
       "      <th></th>\n",
       "      <th>Name</th>\n",
       "      <th>PClass</th>\n",
       "      <th>Age</th>\n",
       "      <th>Sex</th>\n",
       "      <th>Survived</th>\n",
       "      <th>SexCode</th>\n",
       "    </tr>\n",
       "  </thead>\n",
       "  <tbody>\n",
       "    <tr>\n",
       "      <th>0</th>\n",
       "      <td>Allen, Miss Elisabeth Walton</td>\n",
       "      <td>1st</td>\n",
       "      <td>29.0</td>\n",
       "      <td>female</td>\n",
       "      <td>1</td>\n",
       "      <td>1</td>\n",
       "    </tr>\n",
       "    <tr>\n",
       "      <th>1</th>\n",
       "      <td>Allison, Miss Helen Loraine</td>\n",
       "      <td>1st</td>\n",
       "      <td>2.0</td>\n",
       "      <td>female</td>\n",
       "      <td>0</td>\n",
       "      <td>1</td>\n",
       "    </tr>\n",
       "    <tr>\n",
       "      <th>2</th>\n",
       "      <td>Allison, Mr Hudson Joshua Creighton</td>\n",
       "      <td>1st</td>\n",
       "      <td>30.0</td>\n",
       "      <td>male</td>\n",
       "      <td>0</td>\n",
       "      <td>0</td>\n",
       "    </tr>\n",
       "    <tr>\n",
       "      <th>3</th>\n",
       "      <td>Allison, Mrs Hudson JC (Bessie Waldo Daniels)</td>\n",
       "      <td>1st</td>\n",
       "      <td>25.0</td>\n",
       "      <td>female</td>\n",
       "      <td>0</td>\n",
       "      <td>1</td>\n",
       "    </tr>\n",
       "  </tbody>\n",
       "</table>\n",
       "</div>"
      ],
      "text/plain": [
       "                                            Name PClass   Age     Sex  \\\n",
       "0                   Allen, Miss Elisabeth Walton    1st  29.0  female   \n",
       "1                    Allison, Miss Helen Loraine    1st   2.0  female   \n",
       "2            Allison, Mr Hudson Joshua Creighton    1st  30.0    male   \n",
       "3  Allison, Mrs Hudson JC (Bessie Waldo Daniels)    1st  25.0  female   \n",
       "\n",
       "   Survived  SexCode  \n",
       "0         1        1  \n",
       "1         0        1  \n",
       "2         0        0  \n",
       "3         0        1  "
      ]
     },
     "execution_count": 10,
     "metadata": {},
     "output_type": "execute_result"
    }
   ],
   "source": [
    "# Sélectionner toutes les lignes jusqu’à la quatrième incluse\n",
    "dataframe.iloc[:4]"
   ]
  },
  {
   "cell_type": "markdown",
   "id": "fb2ea12b",
   "metadata": {},
   "source": [
    "🔹 Utiliser des index textuels avec .loc[]\n",
    "\n",
    "On peut réindexer le DataFrame avec une colonne textuelle unique comme les noms des passagers :"
   ]
  },
  {
   "cell_type": "code",
   "execution_count": 11,
   "id": "06c811cd",
   "metadata": {},
   "outputs": [
    {
     "data": {
      "application/vnd.microsoft.datawrangler.viewer.v0+json": {
       "columns": [
        {
         "name": "Name",
         "rawType": "object",
         "type": "string"
        },
        {
         "name": "Name",
         "rawType": "object",
         "type": "string"
        },
        {
         "name": "PClass",
         "rawType": "object",
         "type": "string"
        },
        {
         "name": "Age",
         "rawType": "float64",
         "type": "float"
        },
        {
         "name": "Sex",
         "rawType": "object",
         "type": "string"
        },
        {
         "name": "Survived",
         "rawType": "int64",
         "type": "integer"
        },
        {
         "name": "SexCode",
         "rawType": "int64",
         "type": "integer"
        }
       ],
       "ref": "ef0b8809-3b43-4f23-baa9-62c8f08d6b5b",
       "rows": [
        [
         "Allen, Miss Elisabeth Walton",
         "Allen, Miss Elisabeth Walton",
         "1st",
         "29.0",
         "female",
         "1",
         "1"
        ],
        [
         "Allison, Miss Helen Loraine",
         "Allison, Miss Helen Loraine",
         "1st",
         "2.0",
         "female",
         "0",
         "1"
        ],
        [
         "Allison, Mr Hudson Joshua Creighton",
         "Allison, Mr Hudson Joshua Creighton",
         "1st",
         "30.0",
         "male",
         "0",
         "0"
        ],
        [
         "Allison, Mrs Hudson JC (Bessie Waldo Daniels)",
         "Allison, Mrs Hudson JC (Bessie Waldo Daniels)",
         "1st",
         "25.0",
         "female",
         "0",
         "1"
        ],
        [
         "Allison, Master Hudson Trevor",
         "Allison, Master Hudson Trevor",
         "1st",
         "0.92",
         "male",
         "1",
         "0"
        ]
       ],
       "shape": {
        "columns": 6,
        "rows": 5
       }
      },
      "text/html": [
       "<div>\n",
       "<style scoped>\n",
       "    .dataframe tbody tr th:only-of-type {\n",
       "        vertical-align: middle;\n",
       "    }\n",
       "\n",
       "    .dataframe tbody tr th {\n",
       "        vertical-align: top;\n",
       "    }\n",
       "\n",
       "    .dataframe thead th {\n",
       "        text-align: right;\n",
       "    }\n",
       "</style>\n",
       "<table border=\"1\" class=\"dataframe\">\n",
       "  <thead>\n",
       "    <tr style=\"text-align: right;\">\n",
       "      <th></th>\n",
       "      <th>Name</th>\n",
       "      <th>PClass</th>\n",
       "      <th>Age</th>\n",
       "      <th>Sex</th>\n",
       "      <th>Survived</th>\n",
       "      <th>SexCode</th>\n",
       "    </tr>\n",
       "    <tr>\n",
       "      <th>Name</th>\n",
       "      <th></th>\n",
       "      <th></th>\n",
       "      <th></th>\n",
       "      <th></th>\n",
       "      <th></th>\n",
       "      <th></th>\n",
       "    </tr>\n",
       "  </thead>\n",
       "  <tbody>\n",
       "    <tr>\n",
       "      <th>Allen, Miss Elisabeth Walton</th>\n",
       "      <td>Allen, Miss Elisabeth Walton</td>\n",
       "      <td>1st</td>\n",
       "      <td>29.00</td>\n",
       "      <td>female</td>\n",
       "      <td>1</td>\n",
       "      <td>1</td>\n",
       "    </tr>\n",
       "    <tr>\n",
       "      <th>Allison, Miss Helen Loraine</th>\n",
       "      <td>Allison, Miss Helen Loraine</td>\n",
       "      <td>1st</td>\n",
       "      <td>2.00</td>\n",
       "      <td>female</td>\n",
       "      <td>0</td>\n",
       "      <td>1</td>\n",
       "    </tr>\n",
       "    <tr>\n",
       "      <th>Allison, Mr Hudson Joshua Creighton</th>\n",
       "      <td>Allison, Mr Hudson Joshua Creighton</td>\n",
       "      <td>1st</td>\n",
       "      <td>30.00</td>\n",
       "      <td>male</td>\n",
       "      <td>0</td>\n",
       "      <td>0</td>\n",
       "    </tr>\n",
       "    <tr>\n",
       "      <th>Allison, Mrs Hudson JC (Bessie Waldo Daniels)</th>\n",
       "      <td>Allison, Mrs Hudson JC (Bessie Waldo Daniels)</td>\n",
       "      <td>1st</td>\n",
       "      <td>25.00</td>\n",
       "      <td>female</td>\n",
       "      <td>0</td>\n",
       "      <td>1</td>\n",
       "    </tr>\n",
       "    <tr>\n",
       "      <th>Allison, Master Hudson Trevor</th>\n",
       "      <td>Allison, Master Hudson Trevor</td>\n",
       "      <td>1st</td>\n",
       "      <td>0.92</td>\n",
       "      <td>male</td>\n",
       "      <td>1</td>\n",
       "      <td>0</td>\n",
       "    </tr>\n",
       "  </tbody>\n",
       "</table>\n",
       "</div>"
      ],
      "text/plain": [
       "                                                                                        Name  \\\n",
       "Name                                                                                           \n",
       "Allen, Miss Elisabeth Walton                                    Allen, Miss Elisabeth Walton   \n",
       "Allison, Miss Helen Loraine                                      Allison, Miss Helen Loraine   \n",
       "Allison, Mr Hudson Joshua Creighton                      Allison, Mr Hudson Joshua Creighton   \n",
       "Allison, Mrs Hudson JC (Bessie Waldo Daniels)  Allison, Mrs Hudson JC (Bessie Waldo Daniels)   \n",
       "Allison, Master Hudson Trevor                                  Allison, Master Hudson Trevor   \n",
       "\n",
       "                                              PClass    Age     Sex  Survived  \\\n",
       "Name                                                                            \n",
       "Allen, Miss Elisabeth Walton                     1st  29.00  female         1   \n",
       "Allison, Miss Helen Loraine                      1st   2.00  female         0   \n",
       "Allison, Mr Hudson Joshua Creighton              1st  30.00    male         0   \n",
       "Allison, Mrs Hudson JC (Bessie Waldo Daniels)    1st  25.00  female         0   \n",
       "Allison, Master Hudson Trevor                    1st   0.92    male         1   \n",
       "\n",
       "                                               SexCode  \n",
       "Name                                                    \n",
       "Allen, Miss Elisabeth Walton                         1  \n",
       "Allison, Miss Helen Loraine                          1  \n",
       "Allison, Mr Hudson Joshua Creighton                  0  \n",
       "Allison, Mrs Hudson JC (Bessie Waldo Daniels)        1  \n",
       "Allison, Master Hudson Trevor                        0  "
      ]
     },
     "execution_count": 11,
     "metadata": {},
     "output_type": "execute_result"
    }
   ],
   "source": [
    "# Définir l’index sur la colonne 'Name'\n",
    "dataframe = dataframe.set_index(dataframe[\"Name\"])\n",
    "dataframe.head()"
   ]
  },
  {
   "cell_type": "code",
   "execution_count": 12,
   "id": "5b650faa",
   "metadata": {},
   "outputs": [
    {
     "data": {
      "application/vnd.microsoft.datawrangler.viewer.v0+json": {
       "columns": [
        {
         "name": "index",
         "rawType": "object",
         "type": "string"
        },
        {
         "name": "Allen, Miss Elisabeth Walton",
         "rawType": "object",
         "type": "unknown"
        }
       ],
       "ref": "aff414dc-315c-4335-9de6-8b82b0ef7021",
       "rows": [
        [
         "Name",
         "Allen, Miss Elisabeth Walton"
        ],
        [
         "PClass",
         "1st"
        ],
        [
         "Age",
         "29.0"
        ],
        [
         "Sex",
         "female"
        ],
        [
         "Survived",
         "1"
        ],
        [
         "SexCode",
         "1"
        ]
       ],
       "shape": {
        "columns": 1,
        "rows": 6
       }
      },
      "text/plain": [
       "Name        Allen, Miss Elisabeth Walton\n",
       "PClass                               1st\n",
       "Age                                 29.0\n",
       "Sex                               female\n",
       "Survived                               1\n",
       "SexCode                                1\n",
       "Name: Allen, Miss Elisabeth Walton, dtype: object"
      ]
     },
     "execution_count": 12,
     "metadata": {},
     "output_type": "execute_result"
    }
   ],
   "source": [
    "# Sélectionner une ligne par nom\n",
    "dataframe.loc[\"Allen, Miss Elisabeth Walton\"]"
   ]
  },
  {
   "cell_type": "markdown",
   "id": "ff4c864a",
   "metadata": {},
   "source": [
    "- Toutes les lignes d’un DataFrame ont un index unique.\n",
    "- Par défaut, l’index est numérique (0, 1, 2...), mais il peut être défini comme texte ou identifiant client.\n",
    "- ``.iloc[]`` accède aux positions (index numériques)\n",
    "- ``.loc[]`` accède aux étiquettes (index alphanumériques ou textuels)\n",
    "💡 Savoir bien utiliser ``.iloc`` et ``.loc`` est essentiel pour tout travail de nettoyage ou de prétraitement de données avec pandas."
   ]
  },
  {
   "cell_type": "markdown",
   "id": "50be5529",
   "metadata": {},
   "source": [
    "# 🧹 Sélection de lignes selon des conditions\n",
    "\n",
    "On souhaiterais filtrer les lignes d’un DataFrame en fonction de certaines conditions.\n",
    "\n",
    "✅ C’est très simple à faire avec pandas.\n",
    "\n",
    "Par exemple, pour sélectionner toutes les femmes présentes sur le Titanic :\n",
    "\n"
   ]
  },
  {
   "cell_type": "code",
   "execution_count": 14,
   "id": "c3db3012",
   "metadata": {},
   "outputs": [
    {
     "data": {
      "application/vnd.microsoft.datawrangler.viewer.v0+json": {
       "columns": [
        {
         "name": "index",
         "rawType": "int64",
         "type": "integer"
        },
        {
         "name": "Name",
         "rawType": "object",
         "type": "string"
        },
        {
         "name": "PClass",
         "rawType": "object",
         "type": "string"
        },
        {
         "name": "Age",
         "rawType": "float64",
         "type": "float"
        },
        {
         "name": "Sex",
         "rawType": "object",
         "type": "string"
        },
        {
         "name": "Survived",
         "rawType": "int64",
         "type": "integer"
        },
        {
         "name": "SexCode",
         "rawType": "int64",
         "type": "integer"
        }
       ],
       "ref": "41482780-a6d5-4943-a957-8cdd1ef06fae",
       "rows": [
        [
         "0",
         "Allen, Miss Elisabeth Walton",
         "1st",
         "29.0",
         "female",
         "1",
         "1"
        ],
        [
         "1",
         "Allison, Miss Helen Loraine",
         "1st",
         "2.0",
         "female",
         "0",
         "1"
        ],
        [
         "3",
         "Allison, Mrs Hudson JC (Bessie Waldo Daniels)",
         "1st",
         "25.0",
         "female",
         "0",
         "1"
        ],
        [
         "6",
         "Andrews, Miss Kornelia Theodosia",
         "1st",
         "63.0",
         "female",
         "1",
         "1"
        ],
        [
         "8",
         "Appleton, Mrs Edward Dale (Charlotte Lamson)",
         "1st",
         "58.0",
         "female",
         "1",
         "1"
        ]
       ],
       "shape": {
        "columns": 6,
        "rows": 5
       }
      },
      "text/html": [
       "<div>\n",
       "<style scoped>\n",
       "    .dataframe tbody tr th:only-of-type {\n",
       "        vertical-align: middle;\n",
       "    }\n",
       "\n",
       "    .dataframe tbody tr th {\n",
       "        vertical-align: top;\n",
       "    }\n",
       "\n",
       "    .dataframe thead th {\n",
       "        text-align: right;\n",
       "    }\n",
       "</style>\n",
       "<table border=\"1\" class=\"dataframe\">\n",
       "  <thead>\n",
       "    <tr style=\"text-align: right;\">\n",
       "      <th></th>\n",
       "      <th>Name</th>\n",
       "      <th>PClass</th>\n",
       "      <th>Age</th>\n",
       "      <th>Sex</th>\n",
       "      <th>Survived</th>\n",
       "      <th>SexCode</th>\n",
       "    </tr>\n",
       "  </thead>\n",
       "  <tbody>\n",
       "    <tr>\n",
       "      <th>0</th>\n",
       "      <td>Allen, Miss Elisabeth Walton</td>\n",
       "      <td>1st</td>\n",
       "      <td>29.0</td>\n",
       "      <td>female</td>\n",
       "      <td>1</td>\n",
       "      <td>1</td>\n",
       "    </tr>\n",
       "    <tr>\n",
       "      <th>1</th>\n",
       "      <td>Allison, Miss Helen Loraine</td>\n",
       "      <td>1st</td>\n",
       "      <td>2.0</td>\n",
       "      <td>female</td>\n",
       "      <td>0</td>\n",
       "      <td>1</td>\n",
       "    </tr>\n",
       "    <tr>\n",
       "      <th>3</th>\n",
       "      <td>Allison, Mrs Hudson JC (Bessie Waldo Daniels)</td>\n",
       "      <td>1st</td>\n",
       "      <td>25.0</td>\n",
       "      <td>female</td>\n",
       "      <td>0</td>\n",
       "      <td>1</td>\n",
       "    </tr>\n",
       "    <tr>\n",
       "      <th>6</th>\n",
       "      <td>Andrews, Miss Kornelia Theodosia</td>\n",
       "      <td>1st</td>\n",
       "      <td>63.0</td>\n",
       "      <td>female</td>\n",
       "      <td>1</td>\n",
       "      <td>1</td>\n",
       "    </tr>\n",
       "    <tr>\n",
       "      <th>8</th>\n",
       "      <td>Appleton, Mrs Edward Dale (Charlotte Lamson)</td>\n",
       "      <td>1st</td>\n",
       "      <td>58.0</td>\n",
       "      <td>female</td>\n",
       "      <td>1</td>\n",
       "      <td>1</td>\n",
       "    </tr>\n",
       "  </tbody>\n",
       "</table>\n",
       "</div>"
      ],
      "text/plain": [
       "                                            Name PClass   Age     Sex  \\\n",
       "0                   Allen, Miss Elisabeth Walton    1st  29.0  female   \n",
       "1                    Allison, Miss Helen Loraine    1st   2.0  female   \n",
       "3  Allison, Mrs Hudson JC (Bessie Waldo Daniels)    1st  25.0  female   \n",
       "6               Andrews, Miss Kornelia Theodosia    1st  63.0  female   \n",
       "8   Appleton, Mrs Edward Dale (Charlotte Lamson)    1st  58.0  female   \n",
       "\n",
       "   Survived  SexCode  \n",
       "0         1        1  \n",
       "1         0        1  \n",
       "3         0        1  \n",
       "6         1        1  \n",
       "8         1        1  "
      ]
     },
     "execution_count": 14,
     "metadata": {},
     "output_type": "execute_result"
    }
   ],
   "source": [
    "# Charger la bibliothèque\n",
    "import pandas as pd\n",
    "\n",
    "# Définir l'URL du jeu de données\n",
    "url = 'https://raw.githubusercontent.com/chrisalbon/sim_data/master/titanic.csv'\n",
    "\n",
    "# Charger les données\n",
    "dataframe = pd.read_csv(url)\n",
    "\n",
    "# Sélectionner et afficher les deux premières lignes où la colonne 'Sex' vaut 'female'\n",
    "dataframe[dataframe['Sex'] == 'female'].head()"
   ]
  },
  {
   "cell_type": "markdown",
   "id": "4611ba1a",
   "metadata": {},
   "source": [
    "🔍 Explication\n",
    "La condition ``dataframe['Sex'] == 'female'`` produit une série de booléens\n",
    "\n",
    "➡️ En l'encapsulant dans ``dataframe[...]``, on demande à pandas de retourner toutes les lignes où cette condition est vraie.\n",
    "\n",
    "🔗 Conditions multiples\n",
    "On peut aussi combiner plusieurs conditions avec & (et logique) ou | (ou logique).\n",
    "\n",
    "➡️ Exemple : sélectionner les femmes âgées de 65 ans ou plus :"
   ]
  },
  {
   "cell_type": "code",
   "execution_count": 15,
   "id": "9bebf4ef",
   "metadata": {},
   "outputs": [
    {
     "data": {
      "application/vnd.microsoft.datawrangler.viewer.v0+json": {
       "columns": [
        {
         "name": "index",
         "rawType": "int64",
         "type": "integer"
        },
        {
         "name": "Name",
         "rawType": "object",
         "type": "string"
        },
        {
         "name": "PClass",
         "rawType": "object",
         "type": "string"
        },
        {
         "name": "Age",
         "rawType": "float64",
         "type": "float"
        },
        {
         "name": "Sex",
         "rawType": "object",
         "type": "string"
        },
        {
         "name": "Survived",
         "rawType": "int64",
         "type": "integer"
        },
        {
         "name": "SexCode",
         "rawType": "int64",
         "type": "integer"
        }
       ],
       "ref": "b59ab8ee-2d98-46f4-828e-f5f222731938",
       "rows": [
        [
         "73",
         "Crosby, Mrs Edward Gifford (Catherine Elizabeth Halstead)",
         "1st",
         "69.0",
         "female",
         "1",
         "1"
        ]
       ],
       "shape": {
        "columns": 6,
        "rows": 1
       }
      },
      "text/html": [
       "<div>\n",
       "<style scoped>\n",
       "    .dataframe tbody tr th:only-of-type {\n",
       "        vertical-align: middle;\n",
       "    }\n",
       "\n",
       "    .dataframe tbody tr th {\n",
       "        vertical-align: top;\n",
       "    }\n",
       "\n",
       "    .dataframe thead th {\n",
       "        text-align: right;\n",
       "    }\n",
       "</style>\n",
       "<table border=\"1\" class=\"dataframe\">\n",
       "  <thead>\n",
       "    <tr style=\"text-align: right;\">\n",
       "      <th></th>\n",
       "      <th>Name</th>\n",
       "      <th>PClass</th>\n",
       "      <th>Age</th>\n",
       "      <th>Sex</th>\n",
       "      <th>Survived</th>\n",
       "      <th>SexCode</th>\n",
       "    </tr>\n",
       "  </thead>\n",
       "  <tbody>\n",
       "    <tr>\n",
       "      <th>73</th>\n",
       "      <td>Crosby, Mrs Edward Gifford (Catherine Elizabet...</td>\n",
       "      <td>1st</td>\n",
       "      <td>69.0</td>\n",
       "      <td>female</td>\n",
       "      <td>1</td>\n",
       "      <td>1</td>\n",
       "    </tr>\n",
       "  </tbody>\n",
       "</table>\n",
       "</div>"
      ],
      "text/plain": [
       "                                                 Name PClass   Age     Sex  \\\n",
       "73  Crosby, Mrs Edward Gifford (Catherine Elizabet...    1st  69.0  female   \n",
       "\n",
       "    Survived  SexCode  \n",
       "73         1        1  "
      ]
     },
     "execution_count": 15,
     "metadata": {},
     "output_type": "execute_result"
    }
   ],
   "source": [
    "dataframe[\n",
    "    (dataframe['Sex'] == 'female') &\n",
    "    (dataframe['Age'] >= 65)\n",
    "]"
   ]
  },
  {
   "cell_type": "markdown",
   "id": "91714f58",
   "metadata": {},
   "source": [
    "📌 Filtrer conditionnellement les données est une des tâches les plus fréquentes en data wrangling.\n",
    "\n",
    "On ne travaille presque jamais sur l'intégralité des données brutes — on s'intéresse généralement à un sous-ensemble pertinent.\n",
    "\n",
    "✨ Exemples classiques :\n",
    "- Sélectionner tous les clients d’un pays\n",
    "- Isoler les patients de plus de 65 ans\n",
    "- Filtrer les produits dont le stock est nul"
   ]
  },
  {
   "cell_type": "markdown",
   "id": "22878234",
   "metadata": {},
   "source": [
    "# 🔢 Trier les valeurs dans un DataFrame\n",
    "\n",
    "On souhaiterait trier un DataFrame selon les valeurs d'une ou plusieurs colonnes.\n",
    "\n",
    "✅ On utilise la méthode ``sort_values()`` de pandas :"
   ]
  },
  {
   "cell_type": "code",
   "execution_count": 16,
   "id": "8b6fe7eb",
   "metadata": {},
   "outputs": [
    {
     "data": {
      "application/vnd.microsoft.datawrangler.viewer.v0+json": {
       "columns": [
        {
         "name": "index",
         "rawType": "int64",
         "type": "integer"
        },
        {
         "name": "Name",
         "rawType": "object",
         "type": "string"
        },
        {
         "name": "PClass",
         "rawType": "object",
         "type": "string"
        },
        {
         "name": "Age",
         "rawType": "float64",
         "type": "float"
        },
        {
         "name": "Sex",
         "rawType": "object",
         "type": "string"
        },
        {
         "name": "Survived",
         "rawType": "int64",
         "type": "integer"
        },
        {
         "name": "SexCode",
         "rawType": "int64",
         "type": "integer"
        }
       ],
       "ref": "65170db6-d16c-494e-9cd1-fbdfea4fa4e0",
       "rows": [
        [
         "763",
         "Dean, Miss Elizabeth Gladys (Millvena)",
         "3rd",
         "0.17",
         "female",
         "1",
         "1"
        ],
        [
         "751",
         "Danbom, Master Gilbert Sigvard Emanuel",
         "3rd",
         "0.33",
         "male",
         "0",
         "0"
        ]
       ],
       "shape": {
        "columns": 6,
        "rows": 2
       }
      },
      "text/html": [
       "<div>\n",
       "<style scoped>\n",
       "    .dataframe tbody tr th:only-of-type {\n",
       "        vertical-align: middle;\n",
       "    }\n",
       "\n",
       "    .dataframe tbody tr th {\n",
       "        vertical-align: top;\n",
       "    }\n",
       "\n",
       "    .dataframe thead th {\n",
       "        text-align: right;\n",
       "    }\n",
       "</style>\n",
       "<table border=\"1\" class=\"dataframe\">\n",
       "  <thead>\n",
       "    <tr style=\"text-align: right;\">\n",
       "      <th></th>\n",
       "      <th>Name</th>\n",
       "      <th>PClass</th>\n",
       "      <th>Age</th>\n",
       "      <th>Sex</th>\n",
       "      <th>Survived</th>\n",
       "      <th>SexCode</th>\n",
       "    </tr>\n",
       "  </thead>\n",
       "  <tbody>\n",
       "    <tr>\n",
       "      <th>763</th>\n",
       "      <td>Dean, Miss Elizabeth Gladys (Millvena)</td>\n",
       "      <td>3rd</td>\n",
       "      <td>0.17</td>\n",
       "      <td>female</td>\n",
       "      <td>1</td>\n",
       "      <td>1</td>\n",
       "    </tr>\n",
       "    <tr>\n",
       "      <th>751</th>\n",
       "      <td>Danbom, Master Gilbert Sigvard Emanuel</td>\n",
       "      <td>3rd</td>\n",
       "      <td>0.33</td>\n",
       "      <td>male</td>\n",
       "      <td>0</td>\n",
       "      <td>0</td>\n",
       "    </tr>\n",
       "  </tbody>\n",
       "</table>\n",
       "</div>"
      ],
      "text/plain": [
       "                                       Name PClass   Age     Sex  Survived  \\\n",
       "763  Dean, Miss Elizabeth Gladys (Millvena)    3rd  0.17  female         1   \n",
       "751  Danbom, Master Gilbert Sigvard Emanuel    3rd  0.33    male         0   \n",
       "\n",
       "     SexCode  \n",
       "763        1  \n",
       "751        0  "
      ]
     },
     "execution_count": 16,
     "metadata": {},
     "output_type": "execute_result"
    }
   ],
   "source": [
    "# Charger la bibliothèque\n",
    "import pandas as pd\n",
    "\n",
    "# Définir l'URL du jeu de données\n",
    "url = 'https://raw.githubusercontent.com/chrisalbon/sim_data/master/titanic.csv'\n",
    "\n",
    "# Charger les données dans un DataFrame\n",
    "dataframe = pd.read_csv(url)\n",
    "\n",
    "# Trier les passagers par âge (du plus jeune au plus âgé) et afficher les deux premiers\n",
    "dataframe.sort_values(by=[\"Age\"]).head(2)"
   ]
  },
  {
   "cell_type": "markdown",
   "id": "8eefda8d",
   "metadata": {},
   "source": [
    "✅ La méthode ``sort_values()`` permet de trier les lignes d’un DataFrame selon une ou plusieurs colonnes :\n",
    "- Le paramètre ``by`` prend une liste de noms de colonnes.\n",
    "\n",
    "👉 On peux trier par une seule colonne (``by=\"Age\"``) ou plusieurs (``by=[\"PClass\", \"Age\"]``).\n",
    "\n",
    "- Le paramètre ``ascending`` (par défaut à True) détermine l’ordre de tri :\n",
    "- ``True`` → du plus petit au plus grand\n",
    "- ``False`` → du plus grand au plus petit\n",
    "\n",
    "➡️ Exemple : pour trier du passager le plus âgé au plus jeune :\n"
   ]
  },
  {
   "cell_type": "code",
   "execution_count": 18,
   "id": "31389f48",
   "metadata": {},
   "outputs": [
    {
     "data": {
      "application/vnd.microsoft.datawrangler.viewer.v0+json": {
       "columns": [
        {
         "name": "index",
         "rawType": "int64",
         "type": "integer"
        },
        {
         "name": "Name",
         "rawType": "object",
         "type": "string"
        },
        {
         "name": "PClass",
         "rawType": "object",
         "type": "string"
        },
        {
         "name": "Age",
         "rawType": "float64",
         "type": "float"
        },
        {
         "name": "Sex",
         "rawType": "object",
         "type": "string"
        },
        {
         "name": "Survived",
         "rawType": "int64",
         "type": "integer"
        },
        {
         "name": "SexCode",
         "rawType": "int64",
         "type": "integer"
        }
       ],
       "ref": "b438b86e-8b9e-4779-b478-d4f8630a199e",
       "rows": [
        [
         "9",
         "Artagaveytia, Mr Ramon",
         "1st",
         "71.0",
         "male",
         "0",
         "0"
        ],
        [
         "505",
         "Mitchell, Mr Henry Michael",
         "2nd",
         "71.0",
         "male",
         "0",
         "0"
        ],
        [
         "119",
         "Goldschmidt, Mr George B",
         "1st",
         "71.0",
         "male",
         "0",
         "0"
        ],
        [
         "72",
         "Crosby, Captain Edward Gifford",
         "1st",
         "70.0",
         "male",
         "0",
         "0"
        ],
        [
         "73",
         "Crosby, Mrs Edward Gifford (Catherine Elizabeth Halstead)",
         "1st",
         "69.0",
         "female",
         "1",
         "1"
        ],
        [
         "252",
         "Straus, Mr Isidor",
         "1st",
         "67.0",
         "male",
         "0",
         "0"
        ]
       ],
       "shape": {
        "columns": 6,
        "rows": 6
       }
      },
      "text/html": [
       "<div>\n",
       "<style scoped>\n",
       "    .dataframe tbody tr th:only-of-type {\n",
       "        vertical-align: middle;\n",
       "    }\n",
       "\n",
       "    .dataframe tbody tr th {\n",
       "        vertical-align: top;\n",
       "    }\n",
       "\n",
       "    .dataframe thead th {\n",
       "        text-align: right;\n",
       "    }\n",
       "</style>\n",
       "<table border=\"1\" class=\"dataframe\">\n",
       "  <thead>\n",
       "    <tr style=\"text-align: right;\">\n",
       "      <th></th>\n",
       "      <th>Name</th>\n",
       "      <th>PClass</th>\n",
       "      <th>Age</th>\n",
       "      <th>Sex</th>\n",
       "      <th>Survived</th>\n",
       "      <th>SexCode</th>\n",
       "    </tr>\n",
       "  </thead>\n",
       "  <tbody>\n",
       "    <tr>\n",
       "      <th>9</th>\n",
       "      <td>Artagaveytia, Mr Ramon</td>\n",
       "      <td>1st</td>\n",
       "      <td>71.0</td>\n",
       "      <td>male</td>\n",
       "      <td>0</td>\n",
       "      <td>0</td>\n",
       "    </tr>\n",
       "    <tr>\n",
       "      <th>505</th>\n",
       "      <td>Mitchell, Mr Henry Michael</td>\n",
       "      <td>2nd</td>\n",
       "      <td>71.0</td>\n",
       "      <td>male</td>\n",
       "      <td>0</td>\n",
       "      <td>0</td>\n",
       "    </tr>\n",
       "    <tr>\n",
       "      <th>119</th>\n",
       "      <td>Goldschmidt, Mr George B</td>\n",
       "      <td>1st</td>\n",
       "      <td>71.0</td>\n",
       "      <td>male</td>\n",
       "      <td>0</td>\n",
       "      <td>0</td>\n",
       "    </tr>\n",
       "    <tr>\n",
       "      <th>72</th>\n",
       "      <td>Crosby, Captain Edward Gifford</td>\n",
       "      <td>1st</td>\n",
       "      <td>70.0</td>\n",
       "      <td>male</td>\n",
       "      <td>0</td>\n",
       "      <td>0</td>\n",
       "    </tr>\n",
       "    <tr>\n",
       "      <th>73</th>\n",
       "      <td>Crosby, Mrs Edward Gifford (Catherine Elizabet...</td>\n",
       "      <td>1st</td>\n",
       "      <td>69.0</td>\n",
       "      <td>female</td>\n",
       "      <td>1</td>\n",
       "      <td>1</td>\n",
       "    </tr>\n",
       "    <tr>\n",
       "      <th>252</th>\n",
       "      <td>Straus, Mr Isidor</td>\n",
       "      <td>1st</td>\n",
       "      <td>67.0</td>\n",
       "      <td>male</td>\n",
       "      <td>0</td>\n",
       "      <td>0</td>\n",
       "    </tr>\n",
       "  </tbody>\n",
       "</table>\n",
       "</div>"
      ],
      "text/plain": [
       "                                                  Name PClass   Age     Sex  \\\n",
       "9                               Artagaveytia, Mr Ramon    1st  71.0    male   \n",
       "505                         Mitchell, Mr Henry Michael    2nd  71.0    male   \n",
       "119                           Goldschmidt, Mr George B    1st  71.0    male   \n",
       "72                      Crosby, Captain Edward Gifford    1st  70.0    male   \n",
       "73   Crosby, Mrs Edward Gifford (Catherine Elizabet...    1st  69.0  female   \n",
       "252                                  Straus, Mr Isidor    1st  67.0    male   \n",
       "\n",
       "     Survived  SexCode  \n",
       "9           0        0  \n",
       "505         0        0  \n",
       "119         0        0  \n",
       "72          0        0  \n",
       "73          1        1  \n",
       "252         0        0  "
      ]
     },
     "execution_count": 18,
     "metadata": {},
     "output_type": "execute_result"
    }
   ],
   "source": [
    "dataframe.sort_values(by=\"Age\", ascending=False).head(6)"
   ]
  },
  {
   "cell_type": "markdown",
   "id": "d0f35425",
   "metadata": {},
   "source": [
    "# 🔁 Remplacement de valeurs dans un DataFrame\n",
    "\n",
    "On souhaite remplacer des valeurs spécifiques dans un DataFrame pandas.\n",
    "\n",
    "✅ Solution : méthode ``replace()``"
   ]
  },
  {
   "cell_type": "code",
   "execution_count": 19,
   "id": "23de2203",
   "metadata": {},
   "outputs": [
    {
     "data": {
      "application/vnd.microsoft.datawrangler.viewer.v0+json": {
       "columns": [
        {
         "name": "index",
         "rawType": "int64",
         "type": "integer"
        },
        {
         "name": "Sex",
         "rawType": "object",
         "type": "string"
        }
       ],
       "ref": "7593296c-c0fe-49c3-9ae6-445a012deb31",
       "rows": [
        [
         "0",
         "Woman"
        ],
        [
         "1",
         "Woman"
        ],
        [
         "2",
         "male"
        ],
        [
         "3",
         "Woman"
        ],
        [
         "4",
         "male"
        ],
        [
         "5",
         "male"
        ]
       ],
       "shape": {
        "columns": 1,
        "rows": 6
       }
      },
      "text/plain": [
       "0    Woman\n",
       "1    Woman\n",
       "2     male\n",
       "3    Woman\n",
       "4     male\n",
       "5     male\n",
       "Name: Sex, dtype: object"
      ]
     },
     "execution_count": 19,
     "metadata": {},
     "output_type": "execute_result"
    }
   ],
   "source": [
    "# Importer la bibliothèque pandas\n",
    "import pandas as pd\n",
    "\n",
    "# Définir l’URL du jeu de données Titanic\n",
    "url = 'https://raw.githubusercontent.com/chrisalbon/sim_data/master/titanic.csv'\n",
    "\n",
    "# Charger les données dans un DataFrame\n",
    "dataframe = pd.read_csv(url)\n",
    "\n",
    "# Exemple 1 : Remplacer \"female\" par \"Woman\" dans la colonne 'Sex'\n",
    "dataframe['Sex'].replace(\"female\", \"Woman\").head(6)"
   ]
  },
  {
   "cell_type": "markdown",
   "id": "ecf2a90b",
   "metadata": {},
   "source": [
    "🔹 Remplacement multiple"
   ]
  },
  {
   "cell_type": "code",
   "execution_count": 20,
   "id": "e02de68d",
   "metadata": {},
   "outputs": [
    {
     "data": {
      "application/vnd.microsoft.datawrangler.viewer.v0+json": {
       "columns": [
        {
         "name": "index",
         "rawType": "int64",
         "type": "integer"
        },
        {
         "name": "Sex",
         "rawType": "object",
         "type": "string"
        }
       ],
       "ref": "ca26abfe-03da-4e52-bda6-4fbb88bb747b",
       "rows": [
        [
         "0",
         "Woman"
        ],
        [
         "1",
         "Woman"
        ],
        [
         "2",
         "Man"
        ],
        [
         "3",
         "Woman"
        ],
        [
         "4",
         "Man"
        ]
       ],
       "shape": {
        "columns": 1,
        "rows": 5
       }
      },
      "text/plain": [
       "0    Woman\n",
       "1    Woman\n",
       "2      Man\n",
       "3    Woman\n",
       "4      Man\n",
       "Name: Sex, dtype: object"
      ]
     },
     "execution_count": 20,
     "metadata": {},
     "output_type": "execute_result"
    }
   ],
   "source": [
    "# Remplacer \"female\" par \"Woman\" et \"male\" par \"Man\"\n",
    "dataframe['Sex'].replace([\"female\", \"male\"], [\"Woman\", \"Man\"]).head(5)"
   ]
  },
  {
   "cell_type": "markdown",
   "id": "5fb9a2e3",
   "metadata": {},
   "source": [
    "🔹 Remplacement global dans tout le DataFrame"
   ]
  },
  {
   "cell_type": "code",
   "execution_count": 21,
   "id": "87b13b4e",
   "metadata": {},
   "outputs": [
    {
     "data": {
      "application/vnd.microsoft.datawrangler.viewer.v0+json": {
       "columns": [
        {
         "name": "index",
         "rawType": "int64",
         "type": "integer"
        },
        {
         "name": "Name",
         "rawType": "object",
         "type": "string"
        },
        {
         "name": "PClass",
         "rawType": "object",
         "type": "string"
        },
        {
         "name": "Age",
         "rawType": "object",
         "type": "unknown"
        },
        {
         "name": "Sex",
         "rawType": "object",
         "type": "string"
        },
        {
         "name": "Survived",
         "rawType": "object",
         "type": "unknown"
        },
        {
         "name": "SexCode",
         "rawType": "object",
         "type": "string"
        }
       ],
       "ref": "e9877eeb-e95a-48cf-ab69-1419c5e98832",
       "rows": [
        [
         "0",
         "Allen, Miss Elisabeth Walton",
         "1st",
         "29.0",
         "female",
         "One",
         "One"
        ],
        [
         "1",
         "Allison, Miss Helen Loraine",
         "1st",
         "2.0",
         "female",
         "0",
         "One"
        ]
       ],
       "shape": {
        "columns": 6,
        "rows": 2
       }
      },
      "text/html": [
       "<div>\n",
       "<style scoped>\n",
       "    .dataframe tbody tr th:only-of-type {\n",
       "        vertical-align: middle;\n",
       "    }\n",
       "\n",
       "    .dataframe tbody tr th {\n",
       "        vertical-align: top;\n",
       "    }\n",
       "\n",
       "    .dataframe thead th {\n",
       "        text-align: right;\n",
       "    }\n",
       "</style>\n",
       "<table border=\"1\" class=\"dataframe\">\n",
       "  <thead>\n",
       "    <tr style=\"text-align: right;\">\n",
       "      <th></th>\n",
       "      <th>Name</th>\n",
       "      <th>PClass</th>\n",
       "      <th>Age</th>\n",
       "      <th>Sex</th>\n",
       "      <th>Survived</th>\n",
       "      <th>SexCode</th>\n",
       "    </tr>\n",
       "  </thead>\n",
       "  <tbody>\n",
       "    <tr>\n",
       "      <th>0</th>\n",
       "      <td>Allen, Miss Elisabeth Walton</td>\n",
       "      <td>1st</td>\n",
       "      <td>29.0</td>\n",
       "      <td>female</td>\n",
       "      <td>One</td>\n",
       "      <td>One</td>\n",
       "    </tr>\n",
       "    <tr>\n",
       "      <th>1</th>\n",
       "      <td>Allison, Miss Helen Loraine</td>\n",
       "      <td>1st</td>\n",
       "      <td>2.0</td>\n",
       "      <td>female</td>\n",
       "      <td>0</td>\n",
       "      <td>One</td>\n",
       "    </tr>\n",
       "  </tbody>\n",
       "</table>\n",
       "</div>"
      ],
      "text/plain": [
       "                           Name PClass   Age     Sex Survived SexCode\n",
       "0  Allen, Miss Elisabeth Walton    1st  29.0  female      One     One\n",
       "1   Allison, Miss Helen Loraine    1st   2.0  female        0     One"
      ]
     },
     "execution_count": 21,
     "metadata": {},
     "output_type": "execute_result"
    }
   ],
   "source": [
    "# Remplacer toutes les occurrences de la valeur 1 par \"One\"\n",
    "dataframe.replace(1, \"One\").head(2)"
   ]
  },
  {
   "cell_type": "markdown",
   "id": "838c4250",
   "metadata": {},
   "source": [
    "🔹 Utilisation d’expressions régulières"
   ]
  },
  {
   "cell_type": "code",
   "execution_count": 22,
   "id": "f0ba1715",
   "metadata": {},
   "outputs": [
    {
     "data": {
      "application/vnd.microsoft.datawrangler.viewer.v0+json": {
       "columns": [
        {
         "name": "index",
         "rawType": "int64",
         "type": "integer"
        },
        {
         "name": "Name",
         "rawType": "object",
         "type": "string"
        },
        {
         "name": "PClass",
         "rawType": "object",
         "type": "string"
        },
        {
         "name": "Age",
         "rawType": "float64",
         "type": "float"
        },
        {
         "name": "Sex",
         "rawType": "object",
         "type": "string"
        },
        {
         "name": "Survived",
         "rawType": "int64",
         "type": "integer"
        },
        {
         "name": "SexCode",
         "rawType": "int64",
         "type": "integer"
        }
       ],
       "ref": "ab96eb22-e02d-4dd4-817b-ec4e67d46bac",
       "rows": [
        [
         "0",
         "Allen, Miss Elisabeth Walton",
         "First",
         "29.0",
         "female",
         "1",
         "1"
        ],
        [
         "1",
         "Allison, Miss Helen Loraine",
         "First",
         "2.0",
         "female",
         "0",
         "1"
        ]
       ],
       "shape": {
        "columns": 6,
        "rows": 2
       }
      },
      "text/html": [
       "<div>\n",
       "<style scoped>\n",
       "    .dataframe tbody tr th:only-of-type {\n",
       "        vertical-align: middle;\n",
       "    }\n",
       "\n",
       "    .dataframe tbody tr th {\n",
       "        vertical-align: top;\n",
       "    }\n",
       "\n",
       "    .dataframe thead th {\n",
       "        text-align: right;\n",
       "    }\n",
       "</style>\n",
       "<table border=\"1\" class=\"dataframe\">\n",
       "  <thead>\n",
       "    <tr style=\"text-align: right;\">\n",
       "      <th></th>\n",
       "      <th>Name</th>\n",
       "      <th>PClass</th>\n",
       "      <th>Age</th>\n",
       "      <th>Sex</th>\n",
       "      <th>Survived</th>\n",
       "      <th>SexCode</th>\n",
       "    </tr>\n",
       "  </thead>\n",
       "  <tbody>\n",
       "    <tr>\n",
       "      <th>0</th>\n",
       "      <td>Allen, Miss Elisabeth Walton</td>\n",
       "      <td>First</td>\n",
       "      <td>29.0</td>\n",
       "      <td>female</td>\n",
       "      <td>1</td>\n",
       "      <td>1</td>\n",
       "    </tr>\n",
       "    <tr>\n",
       "      <th>1</th>\n",
       "      <td>Allison, Miss Helen Loraine</td>\n",
       "      <td>First</td>\n",
       "      <td>2.0</td>\n",
       "      <td>female</td>\n",
       "      <td>0</td>\n",
       "      <td>1</td>\n",
       "    </tr>\n",
       "  </tbody>\n",
       "</table>\n",
       "</div>"
      ],
      "text/plain": [
       "                           Name PClass   Age     Sex  Survived  SexCode\n",
       "0  Allen, Miss Elisabeth Walton  First  29.0  female         1        1\n",
       "1   Allison, Miss Helen Loraine  First   2.0  female         0        1"
      ]
     },
     "execution_count": 22,
     "metadata": {},
     "output_type": "execute_result"
    }
   ],
   "source": [
    "# Remplacer \"1st\" par \"First\" partout (y compris en partie de chaîne)\n",
    "dataframe.replace(r\"1st\", \"First\", regex=True).head(2)"
   ]
  },
  {
   "cell_type": "markdown",
   "id": "7a595826",
   "metadata": {},
   "source": [
    "🔹 La méthode ``.replace()`` est :\n",
    "- facile à utiliser\n",
    "- flexible\n",
    "- compatible avec les expressions régulières via ``regex=True``\n",
    "\n",
    "💡 Elle est idéale pour :\n",
    "- renommer des catégories\n",
    "- corriger des erreurs de saisie\n",
    "- harmoniser des formats"
   ]
  },
  {
   "cell_type": "markdown",
   "id": "06e0af96",
   "metadata": {},
   "source": [
    "# 🏷️ Renommer des colonnes dans un DataFrame\n",
    "\n",
    "On souhaite renommer une ou plusieurs colonnes dans un DataFrame pandas.\n",
    "\n",
    "✅ Solution : méthode ``rename()``\n",
    "Utiliser ``.rename(columns={...})``, où les clés du dictionnaire sont les anciens noms et les valeurs les nouveaux noms :\n"
   ]
  },
  {
   "cell_type": "code",
   "execution_count": 23,
   "id": "2be08452",
   "metadata": {},
   "outputs": [
    {
     "data": {
      "application/vnd.microsoft.datawrangler.viewer.v0+json": {
       "columns": [
        {
         "name": "index",
         "rawType": "int64",
         "type": "integer"
        },
        {
         "name": "Name",
         "rawType": "object",
         "type": "string"
        },
        {
         "name": "Passenger Class",
         "rawType": "object",
         "type": "string"
        },
        {
         "name": "Age",
         "rawType": "float64",
         "type": "float"
        },
        {
         "name": "Sex",
         "rawType": "object",
         "type": "string"
        },
        {
         "name": "Survived",
         "rawType": "int64",
         "type": "integer"
        },
        {
         "name": "SexCode",
         "rawType": "int64",
         "type": "integer"
        }
       ],
       "ref": "64865916-bb85-4c08-aaf6-f16c949b81a1",
       "rows": [
        [
         "0",
         "Allen, Miss Elisabeth Walton",
         "1st",
         "29.0",
         "female",
         "1",
         "1"
        ],
        [
         "1",
         "Allison, Miss Helen Loraine",
         "1st",
         "2.0",
         "female",
         "0",
         "1"
        ]
       ],
       "shape": {
        "columns": 6,
        "rows": 2
       }
      },
      "text/html": [
       "<div>\n",
       "<style scoped>\n",
       "    .dataframe tbody tr th:only-of-type {\n",
       "        vertical-align: middle;\n",
       "    }\n",
       "\n",
       "    .dataframe tbody tr th {\n",
       "        vertical-align: top;\n",
       "    }\n",
       "\n",
       "    .dataframe thead th {\n",
       "        text-align: right;\n",
       "    }\n",
       "</style>\n",
       "<table border=\"1\" class=\"dataframe\">\n",
       "  <thead>\n",
       "    <tr style=\"text-align: right;\">\n",
       "      <th></th>\n",
       "      <th>Name</th>\n",
       "      <th>Passenger Class</th>\n",
       "      <th>Age</th>\n",
       "      <th>Sex</th>\n",
       "      <th>Survived</th>\n",
       "      <th>SexCode</th>\n",
       "    </tr>\n",
       "  </thead>\n",
       "  <tbody>\n",
       "    <tr>\n",
       "      <th>0</th>\n",
       "      <td>Allen, Miss Elisabeth Walton</td>\n",
       "      <td>1st</td>\n",
       "      <td>29.0</td>\n",
       "      <td>female</td>\n",
       "      <td>1</td>\n",
       "      <td>1</td>\n",
       "    </tr>\n",
       "    <tr>\n",
       "      <th>1</th>\n",
       "      <td>Allison, Miss Helen Loraine</td>\n",
       "      <td>1st</td>\n",
       "      <td>2.0</td>\n",
       "      <td>female</td>\n",
       "      <td>0</td>\n",
       "      <td>1</td>\n",
       "    </tr>\n",
       "  </tbody>\n",
       "</table>\n",
       "</div>"
      ],
      "text/plain": [
       "                           Name Passenger Class   Age     Sex  Survived  \\\n",
       "0  Allen, Miss Elisabeth Walton             1st  29.0  female         1   \n",
       "1   Allison, Miss Helen Loraine             1st   2.0  female         0   \n",
       "\n",
       "   SexCode  \n",
       "0        1  \n",
       "1        1  "
      ]
     },
     "execution_count": 23,
     "metadata": {},
     "output_type": "execute_result"
    }
   ],
   "source": [
    "# Importer pandas\n",
    "import pandas as pd\n",
    "\n",
    "# Charger le jeu de données Titanic\n",
    "url = 'https://raw.githubusercontent.com/chrisalbon/sim_data/master/titanic.csv'\n",
    "dataframe = pd.read_csv(url)\n",
    "\n",
    "# Renommer une colonne\n",
    "dataframe.rename(columns={'PClass': 'Passenger Class'}).head(2)"
   ]
  },
  {
   "cell_type": "markdown",
   "id": "7af571e0",
   "metadata": {},
   "source": [
    "🔹 Renommer plusieurs colonnes simultanément"
   ]
  },
  {
   "cell_type": "code",
   "execution_count": 24,
   "id": "41ed9a23",
   "metadata": {},
   "outputs": [
    {
     "data": {
      "application/vnd.microsoft.datawrangler.viewer.v0+json": {
       "columns": [
        {
         "name": "index",
         "rawType": "int64",
         "type": "integer"
        },
        {
         "name": "Name",
         "rawType": "object",
         "type": "string"
        },
        {
         "name": "Passenger Class",
         "rawType": "object",
         "type": "string"
        },
        {
         "name": "Age",
         "rawType": "float64",
         "type": "float"
        },
        {
         "name": "Gender",
         "rawType": "object",
         "type": "string"
        },
        {
         "name": "Survived",
         "rawType": "int64",
         "type": "integer"
        },
        {
         "name": "SexCode",
         "rawType": "int64",
         "type": "integer"
        }
       ],
       "ref": "4dc735a4-d079-408f-ae4e-a254ad461080",
       "rows": [
        [
         "0",
         "Allen, Miss Elisabeth Walton",
         "1st",
         "29.0",
         "female",
         "1",
         "1"
        ],
        [
         "1",
         "Allison, Miss Helen Loraine",
         "1st",
         "2.0",
         "female",
         "0",
         "1"
        ]
       ],
       "shape": {
        "columns": 6,
        "rows": 2
       }
      },
      "text/html": [
       "<div>\n",
       "<style scoped>\n",
       "    .dataframe tbody tr th:only-of-type {\n",
       "        vertical-align: middle;\n",
       "    }\n",
       "\n",
       "    .dataframe tbody tr th {\n",
       "        vertical-align: top;\n",
       "    }\n",
       "\n",
       "    .dataframe thead th {\n",
       "        text-align: right;\n",
       "    }\n",
       "</style>\n",
       "<table border=\"1\" class=\"dataframe\">\n",
       "  <thead>\n",
       "    <tr style=\"text-align: right;\">\n",
       "      <th></th>\n",
       "      <th>Name</th>\n",
       "      <th>Passenger Class</th>\n",
       "      <th>Age</th>\n",
       "      <th>Gender</th>\n",
       "      <th>Survived</th>\n",
       "      <th>SexCode</th>\n",
       "    </tr>\n",
       "  </thead>\n",
       "  <tbody>\n",
       "    <tr>\n",
       "      <th>0</th>\n",
       "      <td>Allen, Miss Elisabeth Walton</td>\n",
       "      <td>1st</td>\n",
       "      <td>29.0</td>\n",
       "      <td>female</td>\n",
       "      <td>1</td>\n",
       "      <td>1</td>\n",
       "    </tr>\n",
       "    <tr>\n",
       "      <th>1</th>\n",
       "      <td>Allison, Miss Helen Loraine</td>\n",
       "      <td>1st</td>\n",
       "      <td>2.0</td>\n",
       "      <td>female</td>\n",
       "      <td>0</td>\n",
       "      <td>1</td>\n",
       "    </tr>\n",
       "  </tbody>\n",
       "</table>\n",
       "</div>"
      ],
      "text/plain": [
       "                           Name Passenger Class   Age  Gender  Survived  \\\n",
       "0  Allen, Miss Elisabeth Walton             1st  29.0  female         1   \n",
       "1   Allison, Miss Helen Loraine             1st   2.0  female         0   \n",
       "\n",
       "   SexCode  \n",
       "0        1  \n",
       "1        1  "
      ]
     },
     "execution_count": 24,
     "metadata": {},
     "output_type": "execute_result"
    }
   ],
   "source": [
    "dataframe.rename(columns={'PClass': 'Passenger Class', 'Sex': 'Gender'}).head(2)"
   ]
  },
  {
   "cell_type": "markdown",
   "id": "1ac4b07d",
   "metadata": {},
   "source": [
    "✔️ ``rename()`` est une méthode élégante, compatible avec :\n",
    "- des renommages partiels (une seule colonne)\n",
    "- des renommages multiples via dictionnaire\n",
    "- des opérations en chaîne (``.rename().drop()`` etc.)\n",
    "\n",
    "📎 Bonnes pratiques :\n",
    "- Garder les noms clairs et explicites (Sex → Gender, PClass → Passenger Class)\n",
    "- Harmoniser le schéma de nommage (camelCase, snake_case, titres)\n",
    "\n",
    "🔹 Renommer toutes les colonnes avec un dictionnaire généré dynamiquement"
   ]
  },
  {
   "cell_type": "code",
   "execution_count": 25,
   "id": "dc3c214c",
   "metadata": {},
   "outputs": [
    {
     "name": "stdout",
     "output_type": "stream",
     "text": [
      "defaultdict(<class 'str'>, {'Name': '', 'PClass': '', 'Age': '', 'Sex': '', 'Survived': '', 'SexCode': ''})\n"
     ]
    }
   ],
   "source": [
    "import collections\n",
    "\n",
    "# Créer un dictionnaire avec les anciens noms comme clés et des chaînes vides comme valeurs\n",
    "column_names = collections.defaultdict(str)\n",
    "for name in dataframe.columns:\n",
    "    column_names[name]\n",
    "\n",
    "# Résultat :\n",
    "print(column_names)"
   ]
  },
  {
   "cell_type": "markdown",
   "id": "7ae303ee",
   "metadata": {},
   "source": [
    "💡 Cette méthode sert de base pour automatiser la transformation ou la suppression des noms (par exemple via boucles ou regex)."
   ]
  },
  {
   "cell_type": "markdown",
   "id": "acc9fd1e",
   "metadata": {},
   "source": [
    "# 🧮 Trouver les minimums, maximums, moyennes, sommes et comptes\n",
    "\n",
    "On souhaiterais obtenir des statistiques simples (min, max, somme, moyenne, etc.) à partir d'une colonne numérique d'un DataFrame.\n",
    "\n",
    "✅ Solution avec pandas\n",
    "\n",
    "\n",
    "\n",
    "\n",
    "\n",
    "\n",
    "\n",
    "\n",
    "\n",
    "\n"
   ]
  },
  {
   "cell_type": "code",
   "execution_count": 26,
   "id": "3ccc844b",
   "metadata": {},
   "outputs": [
    {
     "name": "stdout",
     "output_type": "stream",
     "text": [
      "Maximum : 71.0\n",
      "Minimum : 0.17\n",
      "Moyenne : 30.397989417989418\n",
      "Somme   : 22980.88\n",
      "Compte  : 756\n"
     ]
    }
   ],
   "source": [
    "# Charger la bibliothèque\n",
    "import pandas as pd\n",
    "\n",
    "# Définir l’URL du jeu de données Titanic\n",
    "url = 'https://raw.githubusercontent.com/chrisalbon/sim_data/master/titanic.csv'\n",
    "\n",
    "# Charger le DataFrame\n",
    "dataframe = pd.read_csv(url)\n",
    "\n",
    "# Calculer les statistiques sur la colonne 'Age'\n",
    "print(\"Maximum :\", dataframe[\"Age\"].max())\n",
    "print(\"Minimum :\", dataframe[\"Age\"].min())\n",
    "print(\"Moyenne :\", dataframe[\"Age\"].mean())\n",
    "print(\"Somme   :\", dataframe[\"Age\"].sum())\n",
    "print(\"Compte  :\", dataframe[\"Age\"].count())"
   ]
  },
  {
   "cell_type": "markdown",
   "id": "54524ffd",
   "metadata": {},
   "source": [
    "📊 Discussion\n",
    "\n",
    "La bibliothèque pandas offre un grand nombre de fonctions statistiques intégrées :\n",
    "\n",
    "| Méthode | Description | \n",
    "|---------|-------------|\n",
    "| ``.max()`` | Valeur maximale | \n",
    "| ``.min()`` | Valeur minimale | \n",
    "| ``.mean()`` | Moyenne | \n",
    "| ``.sum()`` | Somme | \n",
    "| ``.count()`` | Nombre de valeurs non nulles | \n",
    "| ``.std()`` | Écart type | \n",
    "| ``.var()`` | Variance | \n",
    "| ``.median()`` | Médiane | \n",
    "| ``.mode()`` | Mode | \n",
    "| ``.skew()`` | Asymétrie | \n",
    "| ``.kurt()`` | Kurtosis (applatissement) | \n",
    "| ``.sem()`` | Erreur standard de la moyenne | \n",
    "| ``.value_counts()`` | Fréquence de chaque valeur | \n",
    "\n",
    "\n",
    "➡️ Ces méthodes peuvent être appliquées :\n",
    "- à une colonne spécifique\n",
    "- à tout le DataFrame si plusieurs colonnes numériques sont présentes\n",
    "\n",
    "🧠 Par exemple, pour compter les valeurs non nulles dans chaque colonne :"
   ]
  },
  {
   "cell_type": "code",
   "execution_count": 27,
   "id": "b2f0a17c",
   "metadata": {},
   "outputs": [
    {
     "data": {
      "application/vnd.microsoft.datawrangler.viewer.v0+json": {
       "columns": [
        {
         "name": "index",
         "rawType": "object",
         "type": "string"
        },
        {
         "name": "0",
         "rawType": "int64",
         "type": "integer"
        }
       ],
       "ref": "495cc6e4-26da-4dce-b1f9-07ed0ef62ecb",
       "rows": [
        [
         "Name",
         "1313"
        ],
        [
         "PClass",
         "1313"
        ],
        [
         "Age",
         "756"
        ],
        [
         "Sex",
         "1313"
        ],
        [
         "Survived",
         "1313"
        ],
        [
         "SexCode",
         "1313"
        ]
       ],
       "shape": {
        "columns": 1,
        "rows": 6
       }
      },
      "text/plain": [
       "Name        1313\n",
       "PClass      1313\n",
       "Age          756\n",
       "Sex         1313\n",
       "Survived    1313\n",
       "SexCode     1313\n",
       "dtype: int64"
      ]
     },
     "execution_count": 27,
     "metadata": {},
     "output_type": "execute_result"
    }
   ],
   "source": [
    "dataframe.count()"
   ]
  },
  {
   "cell_type": "markdown",
   "id": "92f58602",
   "metadata": {},
   "source": [
    "# 🔍 Trouver les valeurs uniques dans une colonne\n",
    "\n",
    "On souhaiterait obtenir toutes les valeurs distinctes (uniques) présentes dans une colonne de DataFrame.\n",
    "\n",
    "✅ Solution\n",
    "Utiliser la méthode ``.unique()`` pour afficher un tableau contenant toutes les valeurs uniques d'une colonne :\n"
   ]
  },
  {
   "cell_type": "code",
   "execution_count": 28,
   "id": "ed3672b5",
   "metadata": {},
   "outputs": [
    {
     "name": "stdout",
     "output_type": "stream",
     "text": [
      "['female' 'male']\n"
     ]
    }
   ],
   "source": [
    "import pandas as pd\n",
    "\n",
    "# Définir l’URL du fichier Titanic\n",
    "url = 'https://raw.githubusercontent.com/chrisalbon/sim_data/master/titanic.csv'\n",
    "\n",
    "# Charger les données\n",
    "dataframe = pd.read_csv(url)\n",
    "\n",
    "# Afficher les valeurs uniques de la colonne 'Sex'\n",
    "print(dataframe['Sex'].unique())"
   ]
  },
  {
   "cell_type": "markdown",
   "id": "712c542f",
   "metadata": {},
   "source": [
    "🔹 Compter les occurrences de chaque valeur\n",
    "Utiliser ``.value_counts()`` pour afficher toutes les valeurs uniques avec le nombre d’occurrences :"
   ]
  },
  {
   "cell_type": "code",
   "execution_count": 29,
   "id": "95920d72",
   "metadata": {},
   "outputs": [
    {
     "name": "stdout",
     "output_type": "stream",
     "text": [
      "Sex\n",
      "male      851\n",
      "female    462\n",
      "Name: count, dtype: int64\n"
     ]
    }
   ],
   "source": [
    "print(dataframe['Sex'].value_counts())"
   ]
  },
  {
   "cell_type": "markdown",
   "id": "25d85a69",
   "metadata": {},
   "source": [
    "🔸 Détection d’anomalies\n",
    "\n",
    "Un bon exemple est la colonne PClass qui contient théoriquement 3 classes.\n",
    "\n",
    "Mais en inspectant les valeurs :"
   ]
  },
  {
   "cell_type": "code",
   "execution_count": 30,
   "id": "010e36af",
   "metadata": {},
   "outputs": [
    {
     "name": "stdout",
     "output_type": "stream",
     "text": [
      "PClass\n",
      "3rd    711\n",
      "1st    322\n",
      "2nd    279\n",
      "*        1\n",
      "Name: count, dtype: int64\n"
     ]
    }
   ],
   "source": [
    "print(dataframe['PClass'].value_counts())"
   ]
  },
  {
   "cell_type": "markdown",
   "id": "8f9b0282",
   "metadata": {},
   "source": [
    "➡️ La valeur * est probablement une erreur ou un cas spécial.\n",
    "\n",
    "Ce genre de “classe en trop” est courant dans les données catégorielles et doit être traité lors du nettoyage.\n",
    "\n",
    "🔢 Nombre de valeurs uniques\n",
    "\n",
    "Si l'on veut simplement connaître le nombre de classes distinctes, on utilise ``.nunique()`` :"
   ]
  },
  {
   "cell_type": "code",
   "execution_count": 31,
   "id": "54981dc1",
   "metadata": {},
   "outputs": [
    {
     "name": "stdout",
     "output_type": "stream",
     "text": [
      "4\n"
     ]
    }
   ],
   "source": [
    "print(dataframe['PClass'].nunique())  # Résultat : 4"
   ]
  },
  {
   "cell_type": "markdown",
   "id": "a480feaf",
   "metadata": {},
   "source": [
    "🧠 En résumé :\n",
    "\n",
    "| Méthode | Utilité | \n",
    "|---------|---------|\n",
    "| ``.unique()`` | Liste des valeurs distinctes | \n",
    "| ``.value_counts()`` | Fréquence de chaque valeur | \n",
    "| ``.nunique()`` | Nombre total de valeurs uniques |"
   ]
  },
  {
   "cell_type": "markdown",
   "id": "5869dc92",
   "metadata": {},
   "source": [
    "# 🧼 Gérer les valeurs manquantes dans un DataFrame\n",
    "\n",
    "On  souhaiterait repérer et traiter les valeurs manquantes dans un DataFrame pandas.\n",
    "\n",
    "✅ Solution\n",
    "\n",
    "🔹 Détection des valeurs manquantes"
   ]
  },
  {
   "cell_type": "code",
   "execution_count": 33,
   "id": "fe3b0dd3",
   "metadata": {},
   "outputs": [
    {
     "data": {
      "application/vnd.microsoft.datawrangler.viewer.v0+json": {
       "columns": [
        {
         "name": "index",
         "rawType": "int64",
         "type": "integer"
        },
        {
         "name": "Name",
         "rawType": "object",
         "type": "string"
        },
        {
         "name": "PClass",
         "rawType": "object",
         "type": "string"
        },
        {
         "name": "Age",
         "rawType": "float64",
         "type": "float"
        },
        {
         "name": "Sex",
         "rawType": "object",
         "type": "string"
        },
        {
         "name": "Survived",
         "rawType": "int64",
         "type": "integer"
        },
        {
         "name": "SexCode",
         "rawType": "int64",
         "type": "integer"
        }
       ],
       "ref": "bf7d04f1-046d-4bc4-8262-990f6cdb3f1b",
       "rows": [
        [
         "12",
         "Aubert, Mrs Leontine Pauline",
         "1st",
         null,
         "female",
         "1",
         "1"
        ],
        [
         "13",
         "Barkworth, Mr Algernon H",
         "1st",
         null,
         "male",
         "1",
         "0"
        ],
        [
         "14",
         "Baumann, Mr John D",
         "1st",
         null,
         "male",
         "0",
         "0"
        ],
        [
         "29",
         "Borebank, Mr John James",
         "1st",
         null,
         "male",
         "0",
         "0"
        ],
        [
         "32",
         "Bradley, Mr George",
         "1st",
         null,
         "male",
         "1",
         "0"
        ],
        [
         "35",
         "Brewe, Dr Arthur Jackson",
         "1st",
         null,
         "male",
         "0",
         "0"
        ]
       ],
       "shape": {
        "columns": 6,
        "rows": 6
       }
      },
      "text/html": [
       "<div>\n",
       "<style scoped>\n",
       "    .dataframe tbody tr th:only-of-type {\n",
       "        vertical-align: middle;\n",
       "    }\n",
       "\n",
       "    .dataframe tbody tr th {\n",
       "        vertical-align: top;\n",
       "    }\n",
       "\n",
       "    .dataframe thead th {\n",
       "        text-align: right;\n",
       "    }\n",
       "</style>\n",
       "<table border=\"1\" class=\"dataframe\">\n",
       "  <thead>\n",
       "    <tr style=\"text-align: right;\">\n",
       "      <th></th>\n",
       "      <th>Name</th>\n",
       "      <th>PClass</th>\n",
       "      <th>Age</th>\n",
       "      <th>Sex</th>\n",
       "      <th>Survived</th>\n",
       "      <th>SexCode</th>\n",
       "    </tr>\n",
       "  </thead>\n",
       "  <tbody>\n",
       "    <tr>\n",
       "      <th>12</th>\n",
       "      <td>Aubert, Mrs Leontine Pauline</td>\n",
       "      <td>1st</td>\n",
       "      <td>NaN</td>\n",
       "      <td>female</td>\n",
       "      <td>1</td>\n",
       "      <td>1</td>\n",
       "    </tr>\n",
       "    <tr>\n",
       "      <th>13</th>\n",
       "      <td>Barkworth, Mr Algernon H</td>\n",
       "      <td>1st</td>\n",
       "      <td>NaN</td>\n",
       "      <td>male</td>\n",
       "      <td>1</td>\n",
       "      <td>0</td>\n",
       "    </tr>\n",
       "    <tr>\n",
       "      <th>14</th>\n",
       "      <td>Baumann, Mr John D</td>\n",
       "      <td>1st</td>\n",
       "      <td>NaN</td>\n",
       "      <td>male</td>\n",
       "      <td>0</td>\n",
       "      <td>0</td>\n",
       "    </tr>\n",
       "    <tr>\n",
       "      <th>29</th>\n",
       "      <td>Borebank, Mr John James</td>\n",
       "      <td>1st</td>\n",
       "      <td>NaN</td>\n",
       "      <td>male</td>\n",
       "      <td>0</td>\n",
       "      <td>0</td>\n",
       "    </tr>\n",
       "    <tr>\n",
       "      <th>32</th>\n",
       "      <td>Bradley, Mr George</td>\n",
       "      <td>1st</td>\n",
       "      <td>NaN</td>\n",
       "      <td>male</td>\n",
       "      <td>1</td>\n",
       "      <td>0</td>\n",
       "    </tr>\n",
       "    <tr>\n",
       "      <th>35</th>\n",
       "      <td>Brewe, Dr Arthur Jackson</td>\n",
       "      <td>1st</td>\n",
       "      <td>NaN</td>\n",
       "      <td>male</td>\n",
       "      <td>0</td>\n",
       "      <td>0</td>\n",
       "    </tr>\n",
       "  </tbody>\n",
       "</table>\n",
       "</div>"
      ],
      "text/plain": [
       "                            Name PClass  Age     Sex  Survived  SexCode\n",
       "12  Aubert, Mrs Leontine Pauline    1st  NaN  female         1        1\n",
       "13      Barkworth, Mr Algernon H    1st  NaN    male         1        0\n",
       "14            Baumann, Mr John D    1st  NaN    male         0        0\n",
       "29       Borebank, Mr John James    1st  NaN    male         0        0\n",
       "32            Bradley, Mr George    1st  NaN    male         1        0\n",
       "35      Brewe, Dr Arthur Jackson    1st  NaN    male         0        0"
      ]
     },
     "execution_count": 33,
     "metadata": {},
     "output_type": "execute_result"
    }
   ],
   "source": [
    "import pandas as pd\n",
    "\n",
    "# URL du jeu de données Titanic\n",
    "url = 'https://raw.githubusercontent.com/chrisalbon/sim_data/master/titanic.csv'\n",
    "\n",
    "# Charger les données\n",
    "dataframe = pd.read_csv(url)\n",
    "\n",
    "# Sélectionner les lignes où 'Age' est manquant (NaN)\n",
    "dataframe[dataframe['Age'].isnull()].head(6)"
   ]
  },
  {
   "cell_type": "markdown",
   "id": "7631fedf",
   "metadata": {},
   "source": [
    "🔹 Erreur courante avec NaN"
   ]
  },
  {
   "cell_type": "code",
   "execution_count": 34,
   "id": "54d088fe",
   "metadata": {},
   "outputs": [
    {
     "ename": "NameError",
     "evalue": "name 'NaN' is not defined",
     "output_type": "error",
     "traceback": [
      "\u001b[31m---------------------------------------------------------------------------\u001b[39m",
      "\u001b[31mNameError\u001b[39m                                 Traceback (most recent call last)",
      "\u001b[36mCell\u001b[39m\u001b[36m \u001b[39m\u001b[32mIn[34]\u001b[39m\u001b[32m, line 2\u001b[39m\n\u001b[32m      1\u001b[39m \u001b[38;5;66;03m# Remplacement incorrect : produit une erreur\u001b[39;00m\n\u001b[32m----> \u001b[39m\u001b[32m2\u001b[39m dataframe[\u001b[33m'\u001b[39m\u001b[33mSex\u001b[39m\u001b[33m'\u001b[39m] = dataframe[\u001b[33m'\u001b[39m\u001b[33mSex\u001b[39m\u001b[33m'\u001b[39m].replace(\u001b[33m'\u001b[39m\u001b[33mmale\u001b[39m\u001b[33m'\u001b[39m, \u001b[43mNaN\u001b[49m)\n",
      "\u001b[31mNameError\u001b[39m: name 'NaN' is not defined"
     ]
    }
   ],
   "source": [
    "# Remplacement incorrect : produit une erreur\n",
    "dataframe['Sex'] = dataframe['Sex'].replace('male', NaN)"
   ]
  },
  {
   "cell_type": "markdown",
   "id": "b72bfbe0",
   "metadata": {},
   "source": [
    "⛔ Cela renvoie :\n",
    "\n",
    "NameError: name 'NaN' is not defined"
   ]
  },
  {
   "cell_type": "markdown",
   "id": "1d11e3bd",
   "metadata": {},
   "source": [
    "🔹 Remplacement correct via NumPy"
   ]
  },
  {
   "cell_type": "code",
   "execution_count": 35,
   "id": "17abee95",
   "metadata": {},
   "outputs": [],
   "source": [
    "import numpy as np\n",
    "\n",
    "# Remplacer toutes les valeurs 'male' par NaN\n",
    "dataframe['Sex'] = dataframe['Sex'].replace('male', np.nan)"
   ]
  },
  {
   "cell_type": "markdown",
   "id": "1fc82195",
   "metadata": {},
   "source": [
    "🔹 Définir les valeurs considérées comme \"manquantes\" lors du chargement"
   ]
  },
  {
   "cell_type": "code",
   "execution_count": 36,
   "id": "b8309fd3",
   "metadata": {},
   "outputs": [],
   "source": [
    "# Traiter certaines chaînes comme des valeurs manquantes\n",
    "dataframe = pd.read_csv(url, na_values=[np.nan, 'NONE', -999])"
   ]
  },
  {
   "cell_type": "markdown",
   "id": "696f0716",
   "metadata": {},
   "source": [
    "💡 Cela peut inclure des symboles personnalisés que le dataset utilise pour désigner des données absentes.\n",
    "\n",
    "🔹 Imputation avec une valeur (remplir les NaN)\n",
    "\n",
    "Exemple : utiliser la moyenne des âges pour remplir les valeurs manquantes :"
   ]
  },
  {
   "cell_type": "code",
   "execution_count": 38,
   "id": "13bb20dc",
   "metadata": {},
   "outputs": [
    {
     "name": "stdout",
     "output_type": "stream",
     "text": [
      "                            Name PClass        Age     Sex  Survived  SexCode\n",
      "12  Aubert, Mrs Leontine Pauline    1st  30.397989  female         1        1\n",
      "13      Barkworth, Mr Algernon H    1st  30.397989    male         1        0\n",
      "14            Baumann, Mr John D    1st  30.397989    male         0        0\n",
      "29       Borebank, Mr John James    1st  30.397989    male         0        0\n"
     ]
    }
   ],
   "source": [
    "# Extraire 4 entrées manquantes pour démonstration\n",
    "null_entry = dataframe[dataframe[\"Age\"].isna()].head(4)\n",
    "\n",
    "# Remplir les valeurs manquantes avec la moyenne des âges\n",
    "null_entry_filled = null_entry.fillna(dataframe[\"Age\"].mean())\n",
    "\n",
    "print(null_entry_filled)"
   ]
  },
  {
   "cell_type": "markdown",
   "id": "278ac7b9",
   "metadata": {},
   "source": [
    "🔍 Les valeurs manquantes (NaN) sont fréquentes, et leur mauvaise gestion peut entraîner des erreurs subtiles.\n",
    "\n",
    "pandas s’appuie sur ``np.nan`` pour les représenter.\n",
    "\n",
    "📌 Stratégies classiques :\n",
    "- Supprimer les lignes ou colonnes incomplètes (``dropna()``)\n",
    "- Imputer une valeur (moyenne, médiane, constante, etc.)\n",
    "- Remplacer des codes comme 'NONE', -999, '' par np.nan"
   ]
  },
  {
   "cell_type": "markdown",
   "id": "1a35dbdc",
   "metadata": {},
   "source": [
    "# 🗑️ Supprimer une colonne dans un DataFrame\n",
    "\n",
    "On souhaiterait supprimer une ou plusieurs colonnes d’un DataFrame pandas.\n",
    "\n",
    "✅ Solution avec ``drop()``\n",
    "\n",
    "On utilise la méthode ``drop()`` en spécifiant ``axis=1`` pour supprimer des colonnes :\n"
   ]
  },
  {
   "cell_type": "code",
   "execution_count": 39,
   "id": "4f02936a",
   "metadata": {},
   "outputs": [
    {
     "data": {
      "application/vnd.microsoft.datawrangler.viewer.v0+json": {
       "columns": [
        {
         "name": "index",
         "rawType": "int64",
         "type": "integer"
        },
        {
         "name": "Name",
         "rawType": "object",
         "type": "string"
        },
        {
         "name": "PClass",
         "rawType": "object",
         "type": "string"
        },
        {
         "name": "Sex",
         "rawType": "object",
         "type": "string"
        },
        {
         "name": "Survived",
         "rawType": "int64",
         "type": "integer"
        },
        {
         "name": "SexCode",
         "rawType": "int64",
         "type": "integer"
        }
       ],
       "ref": "74027692-8ad5-4502-a481-487ae285d8d1",
       "rows": [
        [
         "0",
         "Allen, Miss Elisabeth Walton",
         "1st",
         "female",
         "1",
         "1"
        ],
        [
         "1",
         "Allison, Miss Helen Loraine",
         "1st",
         "female",
         "0",
         "1"
        ],
        [
         "2",
         "Allison, Mr Hudson Joshua Creighton",
         "1st",
         "male",
         "0",
         "0"
        ],
        [
         "3",
         "Allison, Mrs Hudson JC (Bessie Waldo Daniels)",
         "1st",
         "female",
         "0",
         "1"
        ]
       ],
       "shape": {
        "columns": 5,
        "rows": 4
       }
      },
      "text/html": [
       "<div>\n",
       "<style scoped>\n",
       "    .dataframe tbody tr th:only-of-type {\n",
       "        vertical-align: middle;\n",
       "    }\n",
       "\n",
       "    .dataframe tbody tr th {\n",
       "        vertical-align: top;\n",
       "    }\n",
       "\n",
       "    .dataframe thead th {\n",
       "        text-align: right;\n",
       "    }\n",
       "</style>\n",
       "<table border=\"1\" class=\"dataframe\">\n",
       "  <thead>\n",
       "    <tr style=\"text-align: right;\">\n",
       "      <th></th>\n",
       "      <th>Name</th>\n",
       "      <th>PClass</th>\n",
       "      <th>Sex</th>\n",
       "      <th>Survived</th>\n",
       "      <th>SexCode</th>\n",
       "    </tr>\n",
       "  </thead>\n",
       "  <tbody>\n",
       "    <tr>\n",
       "      <th>0</th>\n",
       "      <td>Allen, Miss Elisabeth Walton</td>\n",
       "      <td>1st</td>\n",
       "      <td>female</td>\n",
       "      <td>1</td>\n",
       "      <td>1</td>\n",
       "    </tr>\n",
       "    <tr>\n",
       "      <th>1</th>\n",
       "      <td>Allison, Miss Helen Loraine</td>\n",
       "      <td>1st</td>\n",
       "      <td>female</td>\n",
       "      <td>0</td>\n",
       "      <td>1</td>\n",
       "    </tr>\n",
       "    <tr>\n",
       "      <th>2</th>\n",
       "      <td>Allison, Mr Hudson Joshua Creighton</td>\n",
       "      <td>1st</td>\n",
       "      <td>male</td>\n",
       "      <td>0</td>\n",
       "      <td>0</td>\n",
       "    </tr>\n",
       "    <tr>\n",
       "      <th>3</th>\n",
       "      <td>Allison, Mrs Hudson JC (Bessie Waldo Daniels)</td>\n",
       "      <td>1st</td>\n",
       "      <td>female</td>\n",
       "      <td>0</td>\n",
       "      <td>1</td>\n",
       "    </tr>\n",
       "  </tbody>\n",
       "</table>\n",
       "</div>"
      ],
      "text/plain": [
       "                                            Name PClass     Sex  Survived  \\\n",
       "0                   Allen, Miss Elisabeth Walton    1st  female         1   \n",
       "1                    Allison, Miss Helen Loraine    1st  female         0   \n",
       "2            Allison, Mr Hudson Joshua Creighton    1st    male         0   \n",
       "3  Allison, Mrs Hudson JC (Bessie Waldo Daniels)    1st  female         0   \n",
       "\n",
       "   SexCode  \n",
       "0        1  \n",
       "1        1  \n",
       "2        0  \n",
       "3        1  "
      ]
     },
     "execution_count": 39,
     "metadata": {},
     "output_type": "execute_result"
    }
   ],
   "source": [
    "# Importer la bibliothèque\n",
    "import pandas as pd\n",
    "\n",
    "# Définir l’URL du jeu de données Titanic\n",
    "url = 'https://raw.githubusercontent.com/chrisalbon/sim_data/master/titanic.csv'\n",
    "\n",
    "# Charger les données\n",
    "dataframe = pd.read_csv(url)\n",
    "\n",
    "# Supprimer une colonne ('Age') et afficher les 4 premières lignes\n",
    "dataframe.drop('Age', axis=1).head(4)"
   ]
  },
  {
   "cell_type": "markdown",
   "id": "e21a3d3c",
   "metadata": {},
   "source": [
    "🔹 Supprimer plusieurs colonnes en une seule fois"
   ]
  },
  {
   "cell_type": "code",
   "execution_count": 40,
   "id": "11581ae2",
   "metadata": {},
   "outputs": [
    {
     "data": {
      "application/vnd.microsoft.datawrangler.viewer.v0+json": {
       "columns": [
        {
         "name": "index",
         "rawType": "int64",
         "type": "integer"
        },
        {
         "name": "Name",
         "rawType": "object",
         "type": "string"
        },
        {
         "name": "PClass",
         "rawType": "object",
         "type": "string"
        },
        {
         "name": "Survived",
         "rawType": "int64",
         "type": "integer"
        },
        {
         "name": "SexCode",
         "rawType": "int64",
         "type": "integer"
        }
       ],
       "ref": "90b41c01-0f5b-456f-aed9-df6e082a59f6",
       "rows": [
        [
         "0",
         "Allen, Miss Elisabeth Walton",
         "1st",
         "1",
         "1"
        ],
        [
         "1",
         "Allison, Miss Helen Loraine",
         "1st",
         "0",
         "1"
        ]
       ],
       "shape": {
        "columns": 4,
        "rows": 2
       }
      },
      "text/html": [
       "<div>\n",
       "<style scoped>\n",
       "    .dataframe tbody tr th:only-of-type {\n",
       "        vertical-align: middle;\n",
       "    }\n",
       "\n",
       "    .dataframe tbody tr th {\n",
       "        vertical-align: top;\n",
       "    }\n",
       "\n",
       "    .dataframe thead th {\n",
       "        text-align: right;\n",
       "    }\n",
       "</style>\n",
       "<table border=\"1\" class=\"dataframe\">\n",
       "  <thead>\n",
       "    <tr style=\"text-align: right;\">\n",
       "      <th></th>\n",
       "      <th>Name</th>\n",
       "      <th>PClass</th>\n",
       "      <th>Survived</th>\n",
       "      <th>SexCode</th>\n",
       "    </tr>\n",
       "  </thead>\n",
       "  <tbody>\n",
       "    <tr>\n",
       "      <th>0</th>\n",
       "      <td>Allen, Miss Elisabeth Walton</td>\n",
       "      <td>1st</td>\n",
       "      <td>1</td>\n",
       "      <td>1</td>\n",
       "    </tr>\n",
       "    <tr>\n",
       "      <th>1</th>\n",
       "      <td>Allison, Miss Helen Loraine</td>\n",
       "      <td>1st</td>\n",
       "      <td>0</td>\n",
       "      <td>1</td>\n",
       "    </tr>\n",
       "  </tbody>\n",
       "</table>\n",
       "</div>"
      ],
      "text/plain": [
       "                           Name PClass  Survived  SexCode\n",
       "0  Allen, Miss Elisabeth Walton    1st         1        1\n",
       "1   Allison, Miss Helen Loraine    1st         0        1"
      ]
     },
     "execution_count": 40,
     "metadata": {},
     "output_type": "execute_result"
    }
   ],
   "source": [
    "dataframe.drop(['Age', 'Sex'], axis=1).head(2)"
   ]
  },
  {
   "cell_type": "markdown",
   "id": "82993999",
   "metadata": {},
   "source": [
    "🔹 Supprimer une colonne par son index\n",
    "\n",
    "Parfois une colonne peut ne pas avoir de nom. \n",
    "\n",
    "On peut alors la supprimer via ``dataframe.columns`` :"
   ]
  },
  {
   "cell_type": "code",
   "execution_count": null,
   "id": "dc1cfe36",
   "metadata": {},
   "outputs": [
    {
     "data": {
      "application/vnd.microsoft.datawrangler.viewer.v0+json": {
       "columns": [
        {
         "name": "index",
         "rawType": "int64",
         "type": "integer"
        },
        {
         "name": "Name",
         "rawType": "object",
         "type": "string"
        },
        {
         "name": "Age",
         "rawType": "float64",
         "type": "float"
        },
        {
         "name": "Sex",
         "rawType": "object",
         "type": "string"
        },
        {
         "name": "Survived",
         "rawType": "int64",
         "type": "integer"
        },
        {
         "name": "SexCode",
         "rawType": "int64",
         "type": "integer"
        }
       ],
       "ref": "23cb736b-adee-457e-a40e-a440a2783715",
       "rows": [
        [
         "0",
         "Allen, Miss Elisabeth Walton",
         "29.0",
         "female",
         "1",
         "1"
        ],
        [
         "1",
         "Allison, Miss Helen Loraine",
         "2.0",
         "female",
         "0",
         "1"
        ]
       ],
       "shape": {
        "columns": 5,
        "rows": 2
       }
      },
      "text/html": [
       "<div>\n",
       "<style scoped>\n",
       "    .dataframe tbody tr th:only-of-type {\n",
       "        vertical-align: middle;\n",
       "    }\n",
       "\n",
       "    .dataframe tbody tr th {\n",
       "        vertical-align: top;\n",
       "    }\n",
       "\n",
       "    .dataframe thead th {\n",
       "        text-align: right;\n",
       "    }\n",
       "</style>\n",
       "<table border=\"1\" class=\"dataframe\">\n",
       "  <thead>\n",
       "    <tr style=\"text-align: right;\">\n",
       "      <th></th>\n",
       "      <th>Name</th>\n",
       "      <th>Age</th>\n",
       "      <th>Sex</th>\n",
       "      <th>Survived</th>\n",
       "      <th>SexCode</th>\n",
       "    </tr>\n",
       "  </thead>\n",
       "  <tbody>\n",
       "    <tr>\n",
       "      <th>0</th>\n",
       "      <td>Allen, Miss Elisabeth Walton</td>\n",
       "      <td>29.0</td>\n",
       "      <td>female</td>\n",
       "      <td>1</td>\n",
       "      <td>1</td>\n",
       "    </tr>\n",
       "    <tr>\n",
       "      <th>1</th>\n",
       "      <td>Allison, Miss Helen Loraine</td>\n",
       "      <td>2.0</td>\n",
       "      <td>female</td>\n",
       "      <td>0</td>\n",
       "      <td>1</td>\n",
       "    </tr>\n",
       "  </tbody>\n",
       "</table>\n",
       "</div>"
      ],
      "text/plain": [
       "                           Name   Age     Sex  Survived  SexCode\n",
       "0  Allen, Miss Elisabeth Walton  29.0  female         1        1\n",
       "1   Allison, Miss Helen Loraine   2.0  female         0        1"
      ]
     },
     "execution_count": 41,
     "metadata": {},
     "output_type": "execute_result"
    }
   ],
   "source": [
    "# Supprimer la colonne en position 1 (index 1) ---> PClass\n",
    "dataframe.drop(dataframe.columns[1], axis=1).head(2)"
   ]
  },
  {
   "cell_type": "markdown",
   "id": "c34481bc",
   "metadata": {},
   "source": [
    "🧠\n",
    "\n",
    "✅ ``drop()`` est la méthode idiomatique recommandée pour supprimer des colonnes dans pandas.\n",
    "\n",
    "⚠️ Bien que ``del dataframe['Age']`` fonctionne généralement, cette syntaxe est moins propre et sujette à des problèmes internes dans pandas.\n",
    "\n",
    "📛 À éviter : ``inplace=True``\n",
    "\n",
    "Même si pandas propose l’option ``inplace=True``, il est conseillé de ne pas modifier un DataFrame en place, surtout dans des pipelines complexes.\n",
    "\n",
    "Traiter les DataFrames comme des objets immuables :"
   ]
  },
  {
   "cell_type": "code",
   "execution_count": 43,
   "id": "6bf16c10",
   "metadata": {},
   "outputs": [
    {
     "data": {
      "application/vnd.microsoft.datawrangler.viewer.v0+json": {
       "columns": [
        {
         "name": "index",
         "rawType": "int64",
         "type": "integer"
        },
        {
         "name": "PClass",
         "rawType": "object",
         "type": "string"
        },
        {
         "name": "Age",
         "rawType": "float64",
         "type": "float"
        },
        {
         "name": "Sex",
         "rawType": "object",
         "type": "string"
        },
        {
         "name": "Survived",
         "rawType": "int64",
         "type": "integer"
        },
        {
         "name": "SexCode",
         "rawType": "int64",
         "type": "integer"
        }
       ],
       "ref": "7c0b3cde-eaec-4a05-a02e-f72128d4b865",
       "rows": [
        [
         "0",
         "1st",
         "29.0",
         "female",
         "1",
         "1"
        ],
        [
         "1",
         "1st",
         "2.0",
         "female",
         "0",
         "1"
        ]
       ],
       "shape": {
        "columns": 5,
        "rows": 2
       }
      },
      "text/html": [
       "<div>\n",
       "<style scoped>\n",
       "    .dataframe tbody tr th:only-of-type {\n",
       "        vertical-align: middle;\n",
       "    }\n",
       "\n",
       "    .dataframe tbody tr th {\n",
       "        vertical-align: top;\n",
       "    }\n",
       "\n",
       "    .dataframe thead th {\n",
       "        text-align: right;\n",
       "    }\n",
       "</style>\n",
       "<table border=\"1\" class=\"dataframe\">\n",
       "  <thead>\n",
       "    <tr style=\"text-align: right;\">\n",
       "      <th></th>\n",
       "      <th>PClass</th>\n",
       "      <th>Age</th>\n",
       "      <th>Sex</th>\n",
       "      <th>Survived</th>\n",
       "      <th>SexCode</th>\n",
       "    </tr>\n",
       "  </thead>\n",
       "  <tbody>\n",
       "    <tr>\n",
       "      <th>0</th>\n",
       "      <td>1st</td>\n",
       "      <td>29.0</td>\n",
       "      <td>female</td>\n",
       "      <td>1</td>\n",
       "      <td>1</td>\n",
       "    </tr>\n",
       "    <tr>\n",
       "      <th>1</th>\n",
       "      <td>1st</td>\n",
       "      <td>2.0</td>\n",
       "      <td>female</td>\n",
       "      <td>0</td>\n",
       "      <td>1</td>\n",
       "    </tr>\n",
       "  </tbody>\n",
       "</table>\n",
       "</div>"
      ],
      "text/plain": [
       "  PClass   Age     Sex  Survived  SexCode\n",
       "0    1st  29.0  female         1        1\n",
       "1    1st   2.0  female         0        1"
      ]
     },
     "execution_count": 43,
     "metadata": {},
     "output_type": "execute_result"
    }
   ],
   "source": [
    "# Créer un nouveau DataFrame sans la première colonne\n",
    "dataframe_name_dropped = dataframe.drop(dataframe.columns[0], axis=1)\n",
    "dataframe_name_dropped.head(2)"
   ]
  },
  {
   "cell_type": "markdown",
   "id": "163a212f",
   "metadata": {},
   "source": [
    "🧘‍♂️ Cette pratique nous évitera bien des erreurs difficiles à déboguer !"
   ]
  },
  {
   "cell_type": "markdown",
   "id": "55b1b369",
   "metadata": {},
   "source": [
    "# 🗑️ Supprimer une ou plusieurs lignes dans un DataFrame\n",
    "\n",
    "On souhaite supprimer des lignes spécifiques d’un DataFrame pandas.\n",
    "\n",
    "✅ Solution : utiliser une condition booléenne\n",
    "\n",
    "🔹 Supprimer toutes les lignes où Sex vaut \"male\""
   ]
  },
  {
   "cell_type": "code",
   "execution_count": 44,
   "id": "832c2d3f",
   "metadata": {},
   "outputs": [
    {
     "data": {
      "application/vnd.microsoft.datawrangler.viewer.v0+json": {
       "columns": [
        {
         "name": "index",
         "rawType": "int64",
         "type": "integer"
        },
        {
         "name": "Name",
         "rawType": "object",
         "type": "string"
        },
        {
         "name": "PClass",
         "rawType": "object",
         "type": "string"
        },
        {
         "name": "Age",
         "rawType": "float64",
         "type": "float"
        },
        {
         "name": "Sex",
         "rawType": "object",
         "type": "string"
        },
        {
         "name": "Survived",
         "rawType": "int64",
         "type": "integer"
        },
        {
         "name": "SexCode",
         "rawType": "int64",
         "type": "integer"
        }
       ],
       "ref": "e18ede20-e8a0-4d25-9724-849abc686223",
       "rows": [
        [
         "0",
         "Allen, Miss Elisabeth Walton",
         "1st",
         "29.0",
         "female",
         "1",
         "1"
        ],
        [
         "1",
         "Allison, Miss Helen Loraine",
         "1st",
         "2.0",
         "female",
         "0",
         "1"
        ],
        [
         "3",
         "Allison, Mrs Hudson JC (Bessie Waldo Daniels)",
         "1st",
         "25.0",
         "female",
         "0",
         "1"
        ]
       ],
       "shape": {
        "columns": 6,
        "rows": 3
       }
      },
      "text/html": [
       "<div>\n",
       "<style scoped>\n",
       "    .dataframe tbody tr th:only-of-type {\n",
       "        vertical-align: middle;\n",
       "    }\n",
       "\n",
       "    .dataframe tbody tr th {\n",
       "        vertical-align: top;\n",
       "    }\n",
       "\n",
       "    .dataframe thead th {\n",
       "        text-align: right;\n",
       "    }\n",
       "</style>\n",
       "<table border=\"1\" class=\"dataframe\">\n",
       "  <thead>\n",
       "    <tr style=\"text-align: right;\">\n",
       "      <th></th>\n",
       "      <th>Name</th>\n",
       "      <th>PClass</th>\n",
       "      <th>Age</th>\n",
       "      <th>Sex</th>\n",
       "      <th>Survived</th>\n",
       "      <th>SexCode</th>\n",
       "    </tr>\n",
       "  </thead>\n",
       "  <tbody>\n",
       "    <tr>\n",
       "      <th>0</th>\n",
       "      <td>Allen, Miss Elisabeth Walton</td>\n",
       "      <td>1st</td>\n",
       "      <td>29.0</td>\n",
       "      <td>female</td>\n",
       "      <td>1</td>\n",
       "      <td>1</td>\n",
       "    </tr>\n",
       "    <tr>\n",
       "      <th>1</th>\n",
       "      <td>Allison, Miss Helen Loraine</td>\n",
       "      <td>1st</td>\n",
       "      <td>2.0</td>\n",
       "      <td>female</td>\n",
       "      <td>0</td>\n",
       "      <td>1</td>\n",
       "    </tr>\n",
       "    <tr>\n",
       "      <th>3</th>\n",
       "      <td>Allison, Mrs Hudson JC (Bessie Waldo Daniels)</td>\n",
       "      <td>1st</td>\n",
       "      <td>25.0</td>\n",
       "      <td>female</td>\n",
       "      <td>0</td>\n",
       "      <td>1</td>\n",
       "    </tr>\n",
       "  </tbody>\n",
       "</table>\n",
       "</div>"
      ],
      "text/plain": [
       "                                            Name PClass   Age     Sex  \\\n",
       "0                   Allen, Miss Elisabeth Walton    1st  29.0  female   \n",
       "1                    Allison, Miss Helen Loraine    1st   2.0  female   \n",
       "3  Allison, Mrs Hudson JC (Bessie Waldo Daniels)    1st  25.0  female   \n",
       "\n",
       "   Survived  SexCode  \n",
       "0         1        1  \n",
       "1         0        1  \n",
       "3         0        1  "
      ]
     },
     "execution_count": 44,
     "metadata": {},
     "output_type": "execute_result"
    }
   ],
   "source": [
    "import pandas as pd\n",
    "\n",
    "# URL du dataset Titanic\n",
    "url = 'https://raw.githubusercontent.com/chrisalbon/sim_data/master/titanic.csv'\n",
    "\n",
    "# Charger les données\n",
    "dataframe = pd.read_csv(url)\n",
    "\n",
    "# Supprimer les hommes et afficher les 3 premières lignes\n",
    "dataframe[dataframe['Sex'] != 'male'].head(3)"
   ]
  },
  {
   "cell_type": "markdown",
   "id": "93ef7f80",
   "metadata": {},
   "source": [
    "🔹 Supprimer une ligne correspondant à une valeur unique dans une colonne"
   ]
  },
  {
   "cell_type": "code",
   "execution_count": 45,
   "id": "4dc5a975",
   "metadata": {},
   "outputs": [
    {
     "data": {
      "application/vnd.microsoft.datawrangler.viewer.v0+json": {
       "columns": [
        {
         "name": "index",
         "rawType": "int64",
         "type": "integer"
        },
        {
         "name": "Name",
         "rawType": "object",
         "type": "string"
        },
        {
         "name": "PClass",
         "rawType": "object",
         "type": "string"
        },
        {
         "name": "Age",
         "rawType": "float64",
         "type": "float"
        },
        {
         "name": "Sex",
         "rawType": "object",
         "type": "string"
        },
        {
         "name": "Survived",
         "rawType": "int64",
         "type": "integer"
        },
        {
         "name": "SexCode",
         "rawType": "int64",
         "type": "integer"
        }
       ],
       "ref": "88d9a973-70a2-4b23-b100-4a146c0778fa",
       "rows": [
        [
         "0",
         "Allen, Miss Elisabeth Walton",
         "1st",
         "29.0",
         "female",
         "1",
         "1"
        ],
        [
         "2",
         "Allison, Mr Hudson Joshua Creighton",
         "1st",
         "30.0",
         "male",
         "0",
         "0"
        ]
       ],
       "shape": {
        "columns": 6,
        "rows": 2
       }
      },
      "text/html": [
       "<div>\n",
       "<style scoped>\n",
       "    .dataframe tbody tr th:only-of-type {\n",
       "        vertical-align: middle;\n",
       "    }\n",
       "\n",
       "    .dataframe tbody tr th {\n",
       "        vertical-align: top;\n",
       "    }\n",
       "\n",
       "    .dataframe thead th {\n",
       "        text-align: right;\n",
       "    }\n",
       "</style>\n",
       "<table border=\"1\" class=\"dataframe\">\n",
       "  <thead>\n",
       "    <tr style=\"text-align: right;\">\n",
       "      <th></th>\n",
       "      <th>Name</th>\n",
       "      <th>PClass</th>\n",
       "      <th>Age</th>\n",
       "      <th>Sex</th>\n",
       "      <th>Survived</th>\n",
       "      <th>SexCode</th>\n",
       "    </tr>\n",
       "  </thead>\n",
       "  <tbody>\n",
       "    <tr>\n",
       "      <th>0</th>\n",
       "      <td>Allen, Miss Elisabeth Walton</td>\n",
       "      <td>1st</td>\n",
       "      <td>29.0</td>\n",
       "      <td>female</td>\n",
       "      <td>1</td>\n",
       "      <td>1</td>\n",
       "    </tr>\n",
       "    <tr>\n",
       "      <th>2</th>\n",
       "      <td>Allison, Mr Hudson Joshua Creighton</td>\n",
       "      <td>1st</td>\n",
       "      <td>30.0</td>\n",
       "      <td>male</td>\n",
       "      <td>0</td>\n",
       "      <td>0</td>\n",
       "    </tr>\n",
       "  </tbody>\n",
       "</table>\n",
       "</div>"
      ],
      "text/plain": [
       "                                  Name PClass   Age     Sex  Survived  SexCode\n",
       "0         Allen, Miss Elisabeth Walton    1st  29.0  female         1        1\n",
       "2  Allison, Mr Hudson Joshua Creighton    1st  30.0    male         0        0"
      ]
     },
     "execution_count": 45,
     "metadata": {},
     "output_type": "execute_result"
    }
   ],
   "source": [
    "dataframe[dataframe['Name'] != 'Allison, Miss Helen Loraine'].head(2)"
   ]
  },
  {
   "cell_type": "markdown",
   "id": "4dc59ca8",
   "metadata": {},
   "source": [
    "🔹 Supprimer une ligne par son index"
   ]
  },
  {
   "cell_type": "code",
   "execution_count": 46,
   "id": "8c85d224",
   "metadata": {},
   "outputs": [
    {
     "data": {
      "application/vnd.microsoft.datawrangler.viewer.v0+json": {
       "columns": [
        {
         "name": "index",
         "rawType": "int64",
         "type": "integer"
        },
        {
         "name": "Name",
         "rawType": "object",
         "type": "string"
        },
        {
         "name": "PClass",
         "rawType": "object",
         "type": "string"
        },
        {
         "name": "Age",
         "rawType": "float64",
         "type": "float"
        },
        {
         "name": "Sex",
         "rawType": "object",
         "type": "string"
        },
        {
         "name": "Survived",
         "rawType": "int64",
         "type": "integer"
        },
        {
         "name": "SexCode",
         "rawType": "int64",
         "type": "integer"
        }
       ],
       "ref": "88ba9385-26e1-4206-9972-0663078e2027",
       "rows": [
        [
         "1",
         "Allison, Miss Helen Loraine",
         "1st",
         "2.0",
         "female",
         "0",
         "1"
        ],
        [
         "2",
         "Allison, Mr Hudson Joshua Creighton",
         "1st",
         "30.0",
         "male",
         "0",
         "0"
        ]
       ],
       "shape": {
        "columns": 6,
        "rows": 2
       }
      },
      "text/html": [
       "<div>\n",
       "<style scoped>\n",
       "    .dataframe tbody tr th:only-of-type {\n",
       "        vertical-align: middle;\n",
       "    }\n",
       "\n",
       "    .dataframe tbody tr th {\n",
       "        vertical-align: top;\n",
       "    }\n",
       "\n",
       "    .dataframe thead th {\n",
       "        text-align: right;\n",
       "    }\n",
       "</style>\n",
       "<table border=\"1\" class=\"dataframe\">\n",
       "  <thead>\n",
       "    <tr style=\"text-align: right;\">\n",
       "      <th></th>\n",
       "      <th>Name</th>\n",
       "      <th>PClass</th>\n",
       "      <th>Age</th>\n",
       "      <th>Sex</th>\n",
       "      <th>Survived</th>\n",
       "      <th>SexCode</th>\n",
       "    </tr>\n",
       "  </thead>\n",
       "  <tbody>\n",
       "    <tr>\n",
       "      <th>1</th>\n",
       "      <td>Allison, Miss Helen Loraine</td>\n",
       "      <td>1st</td>\n",
       "      <td>2.0</td>\n",
       "      <td>female</td>\n",
       "      <td>0</td>\n",
       "      <td>1</td>\n",
       "    </tr>\n",
       "    <tr>\n",
       "      <th>2</th>\n",
       "      <td>Allison, Mr Hudson Joshua Creighton</td>\n",
       "      <td>1st</td>\n",
       "      <td>30.0</td>\n",
       "      <td>male</td>\n",
       "      <td>0</td>\n",
       "      <td>0</td>\n",
       "    </tr>\n",
       "  </tbody>\n",
       "</table>\n",
       "</div>"
      ],
      "text/plain": [
       "                                  Name PClass   Age     Sex  Survived  SexCode\n",
       "1          Allison, Miss Helen Loraine    1st   2.0  female         0        1\n",
       "2  Allison, Mr Hudson Joshua Creighton    1st  30.0    male         0        0"
      ]
     },
     "execution_count": 46,
     "metadata": {},
     "output_type": "execute_result"
    }
   ],
   "source": [
    "dataframe[dataframe.index != 0].head(2)"
   ]
  },
  {
   "cell_type": "markdown",
   "id": "eea7e2be",
   "metadata": {},
   "source": [
    "🧠 \n",
    "\n",
    "✔️ La méthode idiomatique pour \"supprimer\" une ligne consiste à filtrer les lignes que l’on souhaite garder, en utilisant une condition logique.\n",
    "\n",
    "Bien que ``.drop()`` soit possible (ex : ``dataframe.drop([0, 1], axis=0)``), cela devient vite imprécis et moins flexible.\n",
    "\n",
    "💡 Les conditions sont utiles pour :\n",
    "- supprimer une ligne ciblée\n",
    "- exclure une catégorie entière\n",
    "- préparer des sous-ensembles de données"
   ]
  },
  {
   "cell_type": "markdown",
   "id": "68f6489e",
   "metadata": {},
   "source": [
    "# 🗃️ Suppression des doublons dans un DataFrame\n",
    "\n",
    "On souhaite supprimer les lignes dupliquées dans un DataFrame pandas.\n",
    "\n",
    "✅ Solution avec ``drop_duplicates()``"
   ]
  },
  {
   "cell_type": "code",
   "execution_count": 53,
   "id": "b3782749",
   "metadata": {},
   "outputs": [
    {
     "data": {
      "application/vnd.microsoft.datawrangler.viewer.v0+json": {
       "columns": [
        {
         "name": "index",
         "rawType": "int64",
         "type": "integer"
        },
        {
         "name": "Name",
         "rawType": "object",
         "type": "string"
        },
        {
         "name": "PClass",
         "rawType": "object",
         "type": "string"
        },
        {
         "name": "Age",
         "rawType": "float64",
         "type": "float"
        },
        {
         "name": "Sex",
         "rawType": "object",
         "type": "string"
        },
        {
         "name": "Survived",
         "rawType": "int64",
         "type": "integer"
        },
        {
         "name": "SexCode",
         "rawType": "int64",
         "type": "integer"
        }
       ],
       "ref": "5c163676-3346-42b8-bda3-90179b6c44ea",
       "rows": [
        [
         "0",
         "Allen, Miss Elisabeth Walton",
         "1st",
         "29.0",
         "female",
         "1",
         "1"
        ],
        [
         "1",
         "Allison, Miss Helen Loraine",
         "1st",
         "2.0",
         "female",
         "0",
         "1"
        ],
        [
         "2",
         "Allison, Mr Hudson Joshua Creighton",
         "1st",
         "30.0",
         "male",
         "0",
         "0"
        ],
        [
         "3",
         "Allison, Mrs Hudson JC (Bessie Waldo Daniels)",
         "1st",
         "25.0",
         "female",
         "0",
         "1"
        ]
       ],
       "shape": {
        "columns": 6,
        "rows": 4
       }
      },
      "text/html": [
       "<div>\n",
       "<style scoped>\n",
       "    .dataframe tbody tr th:only-of-type {\n",
       "        vertical-align: middle;\n",
       "    }\n",
       "\n",
       "    .dataframe tbody tr th {\n",
       "        vertical-align: top;\n",
       "    }\n",
       "\n",
       "    .dataframe thead th {\n",
       "        text-align: right;\n",
       "    }\n",
       "</style>\n",
       "<table border=\"1\" class=\"dataframe\">\n",
       "  <thead>\n",
       "    <tr style=\"text-align: right;\">\n",
       "      <th></th>\n",
       "      <th>Name</th>\n",
       "      <th>PClass</th>\n",
       "      <th>Age</th>\n",
       "      <th>Sex</th>\n",
       "      <th>Survived</th>\n",
       "      <th>SexCode</th>\n",
       "    </tr>\n",
       "  </thead>\n",
       "  <tbody>\n",
       "    <tr>\n",
       "      <th>0</th>\n",
       "      <td>Allen, Miss Elisabeth Walton</td>\n",
       "      <td>1st</td>\n",
       "      <td>29.0</td>\n",
       "      <td>female</td>\n",
       "      <td>1</td>\n",
       "      <td>1</td>\n",
       "    </tr>\n",
       "    <tr>\n",
       "      <th>1</th>\n",
       "      <td>Allison, Miss Helen Loraine</td>\n",
       "      <td>1st</td>\n",
       "      <td>2.0</td>\n",
       "      <td>female</td>\n",
       "      <td>0</td>\n",
       "      <td>1</td>\n",
       "    </tr>\n",
       "    <tr>\n",
       "      <th>2</th>\n",
       "      <td>Allison, Mr Hudson Joshua Creighton</td>\n",
       "      <td>1st</td>\n",
       "      <td>30.0</td>\n",
       "      <td>male</td>\n",
       "      <td>0</td>\n",
       "      <td>0</td>\n",
       "    </tr>\n",
       "    <tr>\n",
       "      <th>3</th>\n",
       "      <td>Allison, Mrs Hudson JC (Bessie Waldo Daniels)</td>\n",
       "      <td>1st</td>\n",
       "      <td>25.0</td>\n",
       "      <td>female</td>\n",
       "      <td>0</td>\n",
       "      <td>1</td>\n",
       "    </tr>\n",
       "  </tbody>\n",
       "</table>\n",
       "</div>"
      ],
      "text/plain": [
       "                                            Name PClass   Age     Sex  \\\n",
       "0                   Allen, Miss Elisabeth Walton    1st  29.0  female   \n",
       "1                    Allison, Miss Helen Loraine    1st   2.0  female   \n",
       "2            Allison, Mr Hudson Joshua Creighton    1st  30.0    male   \n",
       "3  Allison, Mrs Hudson JC (Bessie Waldo Daniels)    1st  25.0  female   \n",
       "\n",
       "   Survived  SexCode  \n",
       "0         1        1  \n",
       "1         0        1  \n",
       "2         0        0  \n",
       "3         0        1  "
      ]
     },
     "execution_count": 53,
     "metadata": {},
     "output_type": "execute_result"
    }
   ],
   "source": [
    "import pandas as pd\n",
    "\n",
    "# Charger le jeu de données Titanic\n",
    "url = 'https://raw.githubusercontent.com/chrisalbon/sim_data/master/titanic.csv'\n",
    "dataframe = pd.read_csv(url)\n",
    "\n",
    "# Supprimer les doublons (sur toutes les colonnes)\n",
    "dataframe.drop_duplicates().head(4)"
   ]
  },
  {
   "cell_type": "markdown",
   "id": "00ebe35b",
   "metadata": {},
   "source": [
    "🔍 Vérification : y a-t-il eu des doublons supprimés ?"
   ]
  },
  {
   "cell_type": "code",
   "execution_count": 54,
   "id": "106c5a4c",
   "metadata": {},
   "outputs": [
    {
     "name": "stdout",
     "output_type": "stream",
     "text": [
      "Nombre de lignes originales : 1313\n",
      "Après suppression des doublons : 1313\n"
     ]
    }
   ],
   "source": [
    "print(\"Nombre de lignes originales :\", len(dataframe))\n",
    "print(\"Après suppression des doublons :\", len(dataframe.drop_duplicates()))"
   ]
  },
  {
   "cell_type": "markdown",
   "id": "3173ac08",
   "metadata": {},
   "source": [
    "➡️ Conclusion : aucune ligne n’a été supprimée, car aucune ligne n’est strictement identique sur toutes les colonnes.\n",
    "\n",
    "\n",
    "🔹 Suppression sur une sous-partie des colonnes\n",
    "\n",
    "On peut utiliser le paramètre subset pour comparer uniquement certaines colonnes :\n"
   ]
  },
  {
   "cell_type": "code",
   "execution_count": 55,
   "id": "7b216def",
   "metadata": {},
   "outputs": [
    {
     "data": {
      "application/vnd.microsoft.datawrangler.viewer.v0+json": {
       "columns": [
        {
         "name": "index",
         "rawType": "int64",
         "type": "integer"
        },
        {
         "name": "Name",
         "rawType": "object",
         "type": "string"
        },
        {
         "name": "PClass",
         "rawType": "object",
         "type": "string"
        },
        {
         "name": "Age",
         "rawType": "float64",
         "type": "float"
        },
        {
         "name": "Sex",
         "rawType": "object",
         "type": "string"
        },
        {
         "name": "Survived",
         "rawType": "int64",
         "type": "integer"
        },
        {
         "name": "SexCode",
         "rawType": "int64",
         "type": "integer"
        }
       ],
       "ref": "8814321e-a23b-458d-a0f5-ce2f03ede797",
       "rows": [
        [
         "0",
         "Allen, Miss Elisabeth Walton",
         "1st",
         "29.0",
         "female",
         "1",
         "1"
        ],
        [
         "2",
         "Allison, Mr Hudson Joshua Creighton",
         "1st",
         "30.0",
         "male",
         "0",
         "0"
        ]
       ],
       "shape": {
        "columns": 6,
        "rows": 2
       }
      },
      "text/html": [
       "<div>\n",
       "<style scoped>\n",
       "    .dataframe tbody tr th:only-of-type {\n",
       "        vertical-align: middle;\n",
       "    }\n",
       "\n",
       "    .dataframe tbody tr th {\n",
       "        vertical-align: top;\n",
       "    }\n",
       "\n",
       "    .dataframe thead th {\n",
       "        text-align: right;\n",
       "    }\n",
       "</style>\n",
       "<table border=\"1\" class=\"dataframe\">\n",
       "  <thead>\n",
       "    <tr style=\"text-align: right;\">\n",
       "      <th></th>\n",
       "      <th>Name</th>\n",
       "      <th>PClass</th>\n",
       "      <th>Age</th>\n",
       "      <th>Sex</th>\n",
       "      <th>Survived</th>\n",
       "      <th>SexCode</th>\n",
       "    </tr>\n",
       "  </thead>\n",
       "  <tbody>\n",
       "    <tr>\n",
       "      <th>0</th>\n",
       "      <td>Allen, Miss Elisabeth Walton</td>\n",
       "      <td>1st</td>\n",
       "      <td>29.0</td>\n",
       "      <td>female</td>\n",
       "      <td>1</td>\n",
       "      <td>1</td>\n",
       "    </tr>\n",
       "    <tr>\n",
       "      <th>2</th>\n",
       "      <td>Allison, Mr Hudson Joshua Creighton</td>\n",
       "      <td>1st</td>\n",
       "      <td>30.0</td>\n",
       "      <td>male</td>\n",
       "      <td>0</td>\n",
       "      <td>0</td>\n",
       "    </tr>\n",
       "  </tbody>\n",
       "</table>\n",
       "</div>"
      ],
      "text/plain": [
       "                                  Name PClass   Age     Sex  Survived  SexCode\n",
       "0         Allen, Miss Elisabeth Walton    1st  29.0  female         1        1\n",
       "2  Allison, Mr Hudson Joshua Creighton    1st  30.0    male         0        0"
      ]
     },
     "execution_count": 55,
     "metadata": {},
     "output_type": "execute_result"
    }
   ],
   "source": [
    "dataframe.drop_duplicates(subset=['Sex'])"
   ]
  },
  {
   "cell_type": "markdown",
   "id": "f6897447",
   "metadata": {},
   "source": [
    "🧠 pandas garde par défaut la première apparition de chaque groupe dupliqué.\n",
    "\n",
    "🔸 Changer ce comportement avec keep\n"
   ]
  },
  {
   "cell_type": "code",
   "execution_count": 56,
   "id": "c07157dd",
   "metadata": {},
   "outputs": [
    {
     "data": {
      "application/vnd.microsoft.datawrangler.viewer.v0+json": {
       "columns": [
        {
         "name": "index",
         "rawType": "int64",
         "type": "integer"
        },
        {
         "name": "Name",
         "rawType": "object",
         "type": "string"
        },
        {
         "name": "PClass",
         "rawType": "object",
         "type": "string"
        },
        {
         "name": "Age",
         "rawType": "float64",
         "type": "float"
        },
        {
         "name": "Sex",
         "rawType": "object",
         "type": "string"
        },
        {
         "name": "Survived",
         "rawType": "int64",
         "type": "integer"
        },
        {
         "name": "SexCode",
         "rawType": "int64",
         "type": "integer"
        }
       ],
       "ref": "58f6c7ff-80fa-4ea1-9a0e-dc7cf1bf6b95",
       "rows": [
        [
         "1307",
         "Zabour, Miss Tamini",
         "3rd",
         null,
         "female",
         "0",
         "1"
        ],
        [
         "1312",
         "Zimmerman, Leo",
         "3rd",
         "29.0",
         "male",
         "0",
         "0"
        ]
       ],
       "shape": {
        "columns": 6,
        "rows": 2
       }
      },
      "text/html": [
       "<div>\n",
       "<style scoped>\n",
       "    .dataframe tbody tr th:only-of-type {\n",
       "        vertical-align: middle;\n",
       "    }\n",
       "\n",
       "    .dataframe tbody tr th {\n",
       "        vertical-align: top;\n",
       "    }\n",
       "\n",
       "    .dataframe thead th {\n",
       "        text-align: right;\n",
       "    }\n",
       "</style>\n",
       "<table border=\"1\" class=\"dataframe\">\n",
       "  <thead>\n",
       "    <tr style=\"text-align: right;\">\n",
       "      <th></th>\n",
       "      <th>Name</th>\n",
       "      <th>PClass</th>\n",
       "      <th>Age</th>\n",
       "      <th>Sex</th>\n",
       "      <th>Survived</th>\n",
       "      <th>SexCode</th>\n",
       "    </tr>\n",
       "  </thead>\n",
       "  <tbody>\n",
       "    <tr>\n",
       "      <th>1307</th>\n",
       "      <td>Zabour, Miss Tamini</td>\n",
       "      <td>3rd</td>\n",
       "      <td>NaN</td>\n",
       "      <td>female</td>\n",
       "      <td>0</td>\n",
       "      <td>1</td>\n",
       "    </tr>\n",
       "    <tr>\n",
       "      <th>1312</th>\n",
       "      <td>Zimmerman, Leo</td>\n",
       "      <td>3rd</td>\n",
       "      <td>29.0</td>\n",
       "      <td>male</td>\n",
       "      <td>0</td>\n",
       "      <td>0</td>\n",
       "    </tr>\n",
       "  </tbody>\n",
       "</table>\n",
       "</div>"
      ],
      "text/plain": [
       "                     Name PClass   Age     Sex  Survived  SexCode\n",
       "1307  Zabour, Miss Tamini    3rd   NaN  female         0        1\n",
       "1312       Zimmerman, Leo    3rd  29.0    male         0        0"
      ]
     },
     "execution_count": 56,
     "metadata": {},
     "output_type": "execute_result"
    }
   ],
   "source": [
    "dataframe.drop_duplicates(subset=['Sex'], keep='last')"
   ]
  },
  {
   "cell_type": "markdown",
   "id": "a460ead7",
   "metadata": {},
   "source": [
    "✔️ Ici, pandas garde la dernière apparition au lieu de la première.\n",
    "\n",
    "🧪 Méthode associée : ``duplicated()``"
   ]
  },
  {
   "cell_type": "code",
   "execution_count": 57,
   "id": "ab04f549",
   "metadata": {},
   "outputs": [
    {
     "data": {
      "application/vnd.microsoft.datawrangler.viewer.v0+json": {
       "columns": [
        {
         "name": "index",
         "rawType": "int64",
         "type": "integer"
        },
        {
         "name": "0",
         "rawType": "bool",
         "type": "boolean"
        }
       ],
       "ref": "7b6d049c-1301-4334-9c69-9c561412d99f",
       "rows": [
        [
         "0",
         "False"
        ],
        [
         "1",
         "False"
        ],
        [
         "2",
         "False"
        ],
        [
         "3",
         "False"
        ],
        [
         "4",
         "False"
        ],
        [
         "5",
         "False"
        ],
        [
         "6",
         "False"
        ],
        [
         "7",
         "False"
        ],
        [
         "8",
         "False"
        ],
        [
         "9",
         "False"
        ],
        [
         "10",
         "False"
        ],
        [
         "11",
         "False"
        ],
        [
         "12",
         "False"
        ],
        [
         "13",
         "False"
        ],
        [
         "14",
         "False"
        ],
        [
         "15",
         "False"
        ],
        [
         "16",
         "False"
        ],
        [
         "17",
         "False"
        ],
        [
         "18",
         "False"
        ],
        [
         "19",
         "False"
        ],
        [
         "20",
         "False"
        ],
        [
         "21",
         "False"
        ],
        [
         "22",
         "False"
        ],
        [
         "23",
         "False"
        ],
        [
         "24",
         "False"
        ],
        [
         "25",
         "False"
        ],
        [
         "26",
         "False"
        ],
        [
         "27",
         "False"
        ],
        [
         "28",
         "False"
        ],
        [
         "29",
         "False"
        ],
        [
         "30",
         "False"
        ],
        [
         "31",
         "False"
        ],
        [
         "32",
         "False"
        ],
        [
         "33",
         "False"
        ],
        [
         "34",
         "False"
        ],
        [
         "35",
         "False"
        ],
        [
         "36",
         "False"
        ],
        [
         "37",
         "False"
        ],
        [
         "38",
         "False"
        ],
        [
         "39",
         "False"
        ],
        [
         "40",
         "False"
        ],
        [
         "41",
         "False"
        ],
        [
         "42",
         "False"
        ],
        [
         "43",
         "False"
        ],
        [
         "44",
         "False"
        ],
        [
         "45",
         "False"
        ],
        [
         "46",
         "False"
        ],
        [
         "47",
         "False"
        ],
        [
         "48",
         "False"
        ],
        [
         "49",
         "False"
        ]
       ],
       "shape": {
        "columns": 1,
        "rows": 1313
       }
      },
      "text/plain": [
       "0       False\n",
       "1       False\n",
       "2       False\n",
       "3       False\n",
       "4       False\n",
       "        ...  \n",
       "1308    False\n",
       "1309    False\n",
       "1310    False\n",
       "1311    False\n",
       "1312    False\n",
       "Length: 1313, dtype: bool"
      ]
     },
     "execution_count": 57,
     "metadata": {},
     "output_type": "execute_result"
    }
   ],
   "source": [
    "dataframe.duplicated()"
   ]
  },
  {
   "cell_type": "markdown",
   "id": "a18f5ca9",
   "metadata": {},
   "source": [
    "🔎 Cela retourne une série booléenne indiquant si chaque ligne est une duplication d’une ligne précédente.\n",
    "\n",
    "💡 Astuces supplémentaires\n",
    "- Pour supprimer toutes les duplications d’un DataFrame :\n",
    "``dataframe[~dataframe.duplicated()]``\n",
    "- Pour ne garder que les doublons :\n",
    "``dataframe[dataframe.duplicated()]``"
   ]
  },
  {
   "cell_type": "code",
   "execution_count": 58,
   "id": "2ed6292d",
   "metadata": {},
   "outputs": [
    {
     "data": {
      "application/vnd.microsoft.datawrangler.viewer.v0+json": {
       "columns": [
        {
         "name": "index",
         "rawType": "int64",
         "type": "integer"
        },
        {
         "name": "Name",
         "rawType": "object",
         "type": "string"
        },
        {
         "name": "PClass",
         "rawType": "object",
         "type": "string"
        },
        {
         "name": "Age",
         "rawType": "float64",
         "type": "float"
        },
        {
         "name": "Sex",
         "rawType": "object",
         "type": "string"
        },
        {
         "name": "Survived",
         "rawType": "int64",
         "type": "integer"
        },
        {
         "name": "SexCode",
         "rawType": "int64",
         "type": "integer"
        }
       ],
       "ref": "8a982e72-254e-41db-a113-382bad0331d8",
       "rows": [
        [
         "0",
         "Allen, Miss Elisabeth Walton",
         "1st",
         "29.0",
         "female",
         "1",
         "1"
        ],
        [
         "1",
         "Allison, Miss Helen Loraine",
         "1st",
         "2.0",
         "female",
         "0",
         "1"
        ],
        [
         "2",
         "Allison, Mr Hudson Joshua Creighton",
         "1st",
         "30.0",
         "male",
         "0",
         "0"
        ],
        [
         "3",
         "Allison, Mrs Hudson JC (Bessie Waldo Daniels)",
         "1st",
         "25.0",
         "female",
         "0",
         "1"
        ]
       ],
       "shape": {
        "columns": 6,
        "rows": 4
       }
      },
      "text/html": [
       "<div>\n",
       "<style scoped>\n",
       "    .dataframe tbody tr th:only-of-type {\n",
       "        vertical-align: middle;\n",
       "    }\n",
       "\n",
       "    .dataframe tbody tr th {\n",
       "        vertical-align: top;\n",
       "    }\n",
       "\n",
       "    .dataframe thead th {\n",
       "        text-align: right;\n",
       "    }\n",
       "</style>\n",
       "<table border=\"1\" class=\"dataframe\">\n",
       "  <thead>\n",
       "    <tr style=\"text-align: right;\">\n",
       "      <th></th>\n",
       "      <th>Name</th>\n",
       "      <th>PClass</th>\n",
       "      <th>Age</th>\n",
       "      <th>Sex</th>\n",
       "      <th>Survived</th>\n",
       "      <th>SexCode</th>\n",
       "    </tr>\n",
       "  </thead>\n",
       "  <tbody>\n",
       "    <tr>\n",
       "      <th>0</th>\n",
       "      <td>Allen, Miss Elisabeth Walton</td>\n",
       "      <td>1st</td>\n",
       "      <td>29.0</td>\n",
       "      <td>female</td>\n",
       "      <td>1</td>\n",
       "      <td>1</td>\n",
       "    </tr>\n",
       "    <tr>\n",
       "      <th>1</th>\n",
       "      <td>Allison, Miss Helen Loraine</td>\n",
       "      <td>1st</td>\n",
       "      <td>2.0</td>\n",
       "      <td>female</td>\n",
       "      <td>0</td>\n",
       "      <td>1</td>\n",
       "    </tr>\n",
       "    <tr>\n",
       "      <th>2</th>\n",
       "      <td>Allison, Mr Hudson Joshua Creighton</td>\n",
       "      <td>1st</td>\n",
       "      <td>30.0</td>\n",
       "      <td>male</td>\n",
       "      <td>0</td>\n",
       "      <td>0</td>\n",
       "    </tr>\n",
       "    <tr>\n",
       "      <th>3</th>\n",
       "      <td>Allison, Mrs Hudson JC (Bessie Waldo Daniels)</td>\n",
       "      <td>1st</td>\n",
       "      <td>25.0</td>\n",
       "      <td>female</td>\n",
       "      <td>0</td>\n",
       "      <td>1</td>\n",
       "    </tr>\n",
       "  </tbody>\n",
       "</table>\n",
       "</div>"
      ],
      "text/plain": [
       "                                            Name PClass   Age     Sex  \\\n",
       "0                   Allen, Miss Elisabeth Walton    1st  29.0  female   \n",
       "1                    Allison, Miss Helen Loraine    1st   2.0  female   \n",
       "2            Allison, Mr Hudson Joshua Creighton    1st  30.0    male   \n",
       "3  Allison, Mrs Hudson JC (Bessie Waldo Daniels)    1st  25.0  female   \n",
       "\n",
       "   Survived  SexCode  \n",
       "0         1        1  \n",
       "1         0        1  \n",
       "2         0        0  \n",
       "3         0        1  "
      ]
     },
     "execution_count": 58,
     "metadata": {},
     "output_type": "execute_result"
    }
   ],
   "source": [
    "dataframe[~dataframe.duplicated()].head(4)"
   ]
  },
  {
   "cell_type": "code",
   "execution_count": 59,
   "id": "32894c17",
   "metadata": {},
   "outputs": [
    {
     "data": {
      "application/vnd.microsoft.datawrangler.viewer.v0+json": {
       "columns": [
        {
         "name": "index",
         "rawType": "int64",
         "type": "integer"
        },
        {
         "name": "Name",
         "rawType": "object",
         "type": "string"
        },
        {
         "name": "PClass",
         "rawType": "object",
         "type": "string"
        },
        {
         "name": "Age",
         "rawType": "float64",
         "type": "float"
        },
        {
         "name": "Sex",
         "rawType": "object",
         "type": "string"
        },
        {
         "name": "Survived",
         "rawType": "int64",
         "type": "integer"
        },
        {
         "name": "SexCode",
         "rawType": "int64",
         "type": "integer"
        }
       ],
       "ref": "b577f74d-d2dd-4df4-ad7e-a49c6511393b",
       "rows": [],
       "shape": {
        "columns": 6,
        "rows": 0
       }
      },
      "text/html": [
       "<div>\n",
       "<style scoped>\n",
       "    .dataframe tbody tr th:only-of-type {\n",
       "        vertical-align: middle;\n",
       "    }\n",
       "\n",
       "    .dataframe tbody tr th {\n",
       "        vertical-align: top;\n",
       "    }\n",
       "\n",
       "    .dataframe thead th {\n",
       "        text-align: right;\n",
       "    }\n",
       "</style>\n",
       "<table border=\"1\" class=\"dataframe\">\n",
       "  <thead>\n",
       "    <tr style=\"text-align: right;\">\n",
       "      <th></th>\n",
       "      <th>Name</th>\n",
       "      <th>PClass</th>\n",
       "      <th>Age</th>\n",
       "      <th>Sex</th>\n",
       "      <th>Survived</th>\n",
       "      <th>SexCode</th>\n",
       "    </tr>\n",
       "  </thead>\n",
       "  <tbody>\n",
       "  </tbody>\n",
       "</table>\n",
       "</div>"
      ],
      "text/plain": [
       "Empty DataFrame\n",
       "Columns: [Name, PClass, Age, Sex, Survived, SexCode]\n",
       "Index: []"
      ]
     },
     "execution_count": 59,
     "metadata": {},
     "output_type": "execute_result"
    }
   ],
   "source": [
    "dataframe[dataframe.duplicated()].head(4)  "
   ]
  },
  {
   "cell_type": "markdown",
   "id": "a21ded36",
   "metadata": {},
   "source": [
    "# 👥 Grouper des lignes selon une valeur\n",
    "\n",
    "On souhaite regrouper des lignes d’un DataFrame en fonction d’une valeur commune (ex : genre, classe, résultat…).\n",
    "\n",
    "✅ Solution avec groupby\n",
    "\n",
    "La méthode ``groupby`` est l’un des outils les plus puissants de pandas. Exemple :\n",
    "\n"
   ]
  },
  {
   "cell_type": "code",
   "execution_count": 62,
   "id": "b7cd4198",
   "metadata": {},
   "outputs": [
    {
     "data": {
      "application/vnd.microsoft.datawrangler.viewer.v0+json": {
       "columns": [
        {
         "name": "Sex",
         "rawType": "object",
         "type": "string"
        },
        {
         "name": "Age",
         "rawType": "float64",
         "type": "float"
        },
        {
         "name": "Survived",
         "rawType": "float64",
         "type": "float"
        },
        {
         "name": "SexCode",
         "rawType": "float64",
         "type": "float"
        }
       ],
       "ref": "f29832e9-77cd-472f-b3b2-f90fca81537c",
       "rows": [
        [
         "female",
         "29.39642361111111",
         "0.6666666666666666",
         "1.0"
        ],
        [
         "male",
         "31.014337606837604",
         "0.16686251468860164",
         "0.0"
        ]
       ],
       "shape": {
        "columns": 3,
        "rows": 2
       }
      },
      "text/html": [
       "<div>\n",
       "<style scoped>\n",
       "    .dataframe tbody tr th:only-of-type {\n",
       "        vertical-align: middle;\n",
       "    }\n",
       "\n",
       "    .dataframe tbody tr th {\n",
       "        vertical-align: top;\n",
       "    }\n",
       "\n",
       "    .dataframe thead th {\n",
       "        text-align: right;\n",
       "    }\n",
       "</style>\n",
       "<table border=\"1\" class=\"dataframe\">\n",
       "  <thead>\n",
       "    <tr style=\"text-align: right;\">\n",
       "      <th></th>\n",
       "      <th>Age</th>\n",
       "      <th>Survived</th>\n",
       "      <th>SexCode</th>\n",
       "    </tr>\n",
       "    <tr>\n",
       "      <th>Sex</th>\n",
       "      <th></th>\n",
       "      <th></th>\n",
       "      <th></th>\n",
       "    </tr>\n",
       "  </thead>\n",
       "  <tbody>\n",
       "    <tr>\n",
       "      <th>female</th>\n",
       "      <td>29.396424</td>\n",
       "      <td>0.666667</td>\n",
       "      <td>1.0</td>\n",
       "    </tr>\n",
       "    <tr>\n",
       "      <th>male</th>\n",
       "      <td>31.014338</td>\n",
       "      <td>0.166863</td>\n",
       "      <td>0.0</td>\n",
       "    </tr>\n",
       "  </tbody>\n",
       "</table>\n",
       "</div>"
      ],
      "text/plain": [
       "              Age  Survived  SexCode\n",
       "Sex                                 \n",
       "female  29.396424  0.666667      1.0\n",
       "male    31.014338  0.166863      0.0"
      ]
     },
     "execution_count": 62,
     "metadata": {},
     "output_type": "execute_result"
    }
   ],
   "source": [
    "import pandas as pd\n",
    "\n",
    "# Charger le jeu de données Titanic\n",
    "url = 'https://raw.githubusercontent.com/chrisalbon/sim_data/master/titanic.csv'\n",
    "dataframe = pd.read_csv(url)\n",
    "\n",
    "# Grouper par colonne 'Sex' et calculer les moyennes par groupe\n",
    "dataframe.groupby('Sex').mean(numeric_only=True)"
   ]
  },
  {
   "cell_type": "markdown",
   "id": "8ecd7f62",
   "metadata": {},
   "source": [
    "📚 \n",
    "\n",
    "Le regroupement (groupby) permet de structurer les données pour appliquer des statistiques par sous-groupe.\n",
    "\n",
    "Chaque groupe est défini par une valeur partagée dans une colonne (ex : \"female\" ou \"male\").\n",
    "\n",
    "🔎 Attention : groupby seul ne retourne pas les données"
   ]
  },
  {
   "cell_type": "code",
   "execution_count": 63,
   "id": "7049980c",
   "metadata": {},
   "outputs": [
    {
     "data": {
      "text/plain": [
       "<pandas.core.groupby.generic.DataFrameGroupBy object at 0x000001564DDB1A70>"
      ]
     },
     "execution_count": 63,
     "metadata": {},
     "output_type": "execute_result"
    }
   ],
   "source": [
    "dataframe.groupby('Sex')"
   ]
  },
  {
   "cell_type": "markdown",
   "id": "3a992308",
   "metadata": {},
   "source": [
    "✏️ C’est normal ! Il faut appliquer une fonction sur le regroupement :\n",
    "- ``mean()`` → moyenne\n",
    "- ``sum()`` → somme\n",
    "- ``count()`` → nombre\n",
    "- etc.\n",
    "\n",
    "🔹 Exemple : compter les passagers selon leur survie"
   ]
  },
  {
   "cell_type": "code",
   "execution_count": 64,
   "id": "8152837c",
   "metadata": {},
   "outputs": [
    {
     "data": {
      "application/vnd.microsoft.datawrangler.viewer.v0+json": {
       "columns": [
        {
         "name": "Survived",
         "rawType": "int64",
         "type": "integer"
        },
        {
         "name": "Name",
         "rawType": "int64",
         "type": "integer"
        }
       ],
       "ref": "de1a37a9-5292-4b91-b472-0e0f288768fb",
       "rows": [
        [
         "0",
         "863"
        ],
        [
         "1",
         "450"
        ]
       ],
       "shape": {
        "columns": 1,
        "rows": 2
       }
      },
      "text/plain": [
       "Survived\n",
       "0    863\n",
       "1    450\n",
       "Name: Name, dtype: int64"
      ]
     },
     "execution_count": 64,
     "metadata": {},
     "output_type": "execute_result"
    }
   ],
   "source": [
    "dataframe.groupby('Survived')['Name'].count()"
   ]
  },
  {
   "cell_type": "markdown",
   "id": "ba3c396d",
   "metadata": {},
   "source": [
    "💡 Ici, on compte le nombre de noms (passagers) par valeur de la colonne Survived.\n",
    "\n",
    "🔸 Regroupement par plusieurs colonnes"
   ]
  },
  {
   "cell_type": "code",
   "execution_count": 65,
   "id": "bf941343",
   "metadata": {},
   "outputs": [
    {
     "data": {
      "application/vnd.microsoft.datawrangler.viewer.v0+json": {
       "columns": [
        {
         "name": "('Sex', 'Survived')",
         "rawType": "object",
         "type": "unknown"
        },
        {
         "name": "Age",
         "rawType": "float64",
         "type": "float"
        }
       ],
       "ref": "55f406e0-2f85-4fcf-8145-bf738f70a8ee",
       "rows": [
        [
         "('female', np.int64(0))",
         "24.901408450704224"
        ],
        [
         "('female', np.int64(1))",
         "30.86714285714286"
        ],
        [
         "('male', np.int64(0))",
         "32.32077956989247"
        ],
        [
         "('male', np.int64(1))",
         "25.951875"
        ]
       ],
       "shape": {
        "columns": 1,
        "rows": 4
       }
      },
      "text/plain": [
       "Sex     Survived\n",
       "female  0           24.901408\n",
       "        1           30.867143\n",
       "male    0           32.320780\n",
       "        1           25.951875\n",
       "Name: Age, dtype: float64"
      ]
     },
     "execution_count": 65,
     "metadata": {},
     "output_type": "execute_result"
    }
   ],
   "source": [
    "dataframe.groupby(['Sex','Survived'])['Age'].mean()"
   ]
  },
  {
   "cell_type": "markdown",
   "id": "058be8d3",
   "metadata": {},
   "source": [
    "💭 Cela permet de connaître l’âge moyen pour chaque combinaison ``Sex`` x ``Survived``.\n",
    "\n",
    "🧠 En résumé\n",
    "\n",
    "| Méthode | Description | \n",
    "|---------|-------------|\n",
    "| ``.groupby('colonne')`` | Regroupe les lignes par valeur de la colonne | \n",
    "| ``.groupby(...).mean()`` | Calcule la moyenne par groupe | \n",
    "| ``.groupby(...).count()`` | Compte les occurrences par groupe | \n",
    "| ``.groupby([...])`` | Regroupe selon plusieurs colonnes | \n",
    "| ``groupby(...)[...].agg()`` | Applique plusieurs fonctions d’agrégation à la fois | "
   ]
  },
  {
   "cell_type": "markdown",
   "id": "f2128586",
   "metadata": {},
   "source": [
    "# 🕒 Regrouper des lignes par périodes temporelles\n",
    "\n",
    "On souhaite regrouper des lignes individuelles d’un DataFrame selon des intervalles de temps.\n",
    "\n",
    "✅ Solution avec ``resample()``\n"
   ]
  },
  {
   "cell_type": "code",
   "execution_count": 81,
   "id": "f8b28e7c",
   "metadata": {},
   "outputs": [
    {
     "data": {
      "text/plain": [
       "DatetimeIndex(['2017-06-06 00:00:00', '2017-06-06 00:00:30',\n",
       "               '2017-06-06 00:01:00', '2017-06-06 00:01:30',\n",
       "               '2017-06-06 00:02:00', '2017-06-06 00:02:30',\n",
       "               '2017-06-06 00:03:00', '2017-06-06 00:03:30',\n",
       "               '2017-06-06 00:04:00', '2017-06-06 00:04:30',\n",
       "               ...\n",
       "               '2017-07-10 17:15:00', '2017-07-10 17:15:30',\n",
       "               '2017-07-10 17:16:00', '2017-07-10 17:16:30',\n",
       "               '2017-07-10 17:17:00', '2017-07-10 17:17:30',\n",
       "               '2017-07-10 17:18:00', '2017-07-10 17:18:30',\n",
       "               '2017-07-10 17:19:00', '2017-07-10 17:19:30'],\n",
       "              dtype='datetime64[ns]', length=100000, freq='30s')"
      ]
     },
     "execution_count": 81,
     "metadata": {},
     "output_type": "execute_result"
    }
   ],
   "source": [
    "# Importer les bibliothèques\n",
    "import pandas as pd\n",
    "import numpy as np\n",
    "\n",
    "# Créer une série de dates espacées toutes les 30 secondes\n",
    "time_index = pd.date_range('06/06/2017', periods=100000, freq='30s')\n",
    "time_index"
   ]
  },
  {
   "cell_type": "code",
   "execution_count": 74,
   "id": "88875444",
   "metadata": {},
   "outputs": [
    {
     "data": {
      "application/vnd.microsoft.datawrangler.viewer.v0+json": {
       "columns": [
        {
         "name": "index",
         "rawType": "datetime64[ns]",
         "type": "datetime"
        }
       ],
       "ref": "09281470-bbd9-48ae-8de4-6fa1e8c5fd8e",
       "rows": [
        [
         "2017-06-06 00:00:00"
        ],
        [
         "2017-06-06 00:00:30"
        ],
        [
         "2017-06-06 00:01:00"
        ],
        [
         "2017-06-06 00:01:30"
        ],
        [
         "2017-06-06 00:02:00"
        ],
        [
         "2017-06-06 00:02:30"
        ],
        [
         "2017-06-06 00:03:00"
        ]
       ],
       "shape": {
        "columns": 0,
        "rows": 7
       }
      },
      "text/html": [
       "<div>\n",
       "<style scoped>\n",
       "    .dataframe tbody tr th:only-of-type {\n",
       "        vertical-align: middle;\n",
       "    }\n",
       "\n",
       "    .dataframe tbody tr th {\n",
       "        vertical-align: top;\n",
       "    }\n",
       "\n",
       "    .dataframe thead th {\n",
       "        text-align: right;\n",
       "    }\n",
       "</style>\n",
       "<table border=\"1\" class=\"dataframe\">\n",
       "  <thead>\n",
       "    <tr style=\"text-align: right;\">\n",
       "      <th></th>\n",
       "    </tr>\n",
       "  </thead>\n",
       "  <tbody>\n",
       "    <tr>\n",
       "      <th>2017-06-06 00:00:00</th>\n",
       "    </tr>\n",
       "    <tr>\n",
       "      <th>2017-06-06 00:00:30</th>\n",
       "    </tr>\n",
       "    <tr>\n",
       "      <th>2017-06-06 00:01:00</th>\n",
       "    </tr>\n",
       "    <tr>\n",
       "      <th>2017-06-06 00:01:30</th>\n",
       "    </tr>\n",
       "    <tr>\n",
       "      <th>2017-06-06 00:02:00</th>\n",
       "    </tr>\n",
       "    <tr>\n",
       "      <th>2017-06-06 00:02:30</th>\n",
       "    </tr>\n",
       "    <tr>\n",
       "      <th>2017-06-06 00:03:00</th>\n",
       "    </tr>\n",
       "  </tbody>\n",
       "</table>\n",
       "</div>"
      ],
      "text/plain": [
       "Empty DataFrame\n",
       "Columns: []\n",
       "Index: [2017-06-06 00:00:00, 2017-06-06 00:00:30, 2017-06-06 00:01:00, 2017-06-06 00:01:30, 2017-06-06 00:02:00, 2017-06-06 00:02:30, 2017-06-06 00:03:00]"
      ]
     },
     "execution_count": 74,
     "metadata": {},
     "output_type": "execute_result"
    }
   ],
   "source": [
    "# Créer un DataFrame indexé par ce temps\n",
    "dataframe = pd.DataFrame(index=time_index)\n",
    "dataframe.head(7)"
   ]
  },
  {
   "cell_type": "code",
   "execution_count": 72,
   "id": "384d1025",
   "metadata": {},
   "outputs": [
    {
     "data": {
      "text/plain": [
       "(100000, 1)"
      ]
     },
     "execution_count": 72,
     "metadata": {},
     "output_type": "execute_result"
    }
   ],
   "source": [
    "dataframe.shape"
   ]
  },
  {
   "cell_type": "code",
   "execution_count": 75,
   "id": "dfdb72d9",
   "metadata": {},
   "outputs": [
    {
     "data": {
      "application/vnd.microsoft.datawrangler.viewer.v0+json": {
       "columns": [
        {
         "name": "index",
         "rawType": "datetime64[ns]",
         "type": "datetime"
        },
        {
         "name": "Sale_Amount",
         "rawType": "int32",
         "type": "integer"
        }
       ],
       "ref": "8175937a-b5a7-4ae6-972d-3752b7067555",
       "rows": [
        [
         "2017-06-06 00:00:00",
         "1"
        ],
        [
         "2017-06-06 00:00:30",
         "2"
        ],
        [
         "2017-06-06 00:01:00",
         "3"
        ],
        [
         "2017-06-06 00:01:30",
         "6"
        ],
        [
         "2017-06-06 00:02:00",
         "6"
        ],
        [
         "2017-06-06 00:02:30",
         "1"
        ],
        [
         "2017-06-06 00:03:00",
         "3"
        ]
       ],
       "shape": {
        "columns": 1,
        "rows": 7
       }
      },
      "text/html": [
       "<div>\n",
       "<style scoped>\n",
       "    .dataframe tbody tr th:only-of-type {\n",
       "        vertical-align: middle;\n",
       "    }\n",
       "\n",
       "    .dataframe tbody tr th {\n",
       "        vertical-align: top;\n",
       "    }\n",
       "\n",
       "    .dataframe thead th {\n",
       "        text-align: right;\n",
       "    }\n",
       "</style>\n",
       "<table border=\"1\" class=\"dataframe\">\n",
       "  <thead>\n",
       "    <tr style=\"text-align: right;\">\n",
       "      <th></th>\n",
       "      <th>Sale_Amount</th>\n",
       "    </tr>\n",
       "  </thead>\n",
       "  <tbody>\n",
       "    <tr>\n",
       "      <th>2017-06-06 00:00:00</th>\n",
       "      <td>1</td>\n",
       "    </tr>\n",
       "    <tr>\n",
       "      <th>2017-06-06 00:00:30</th>\n",
       "      <td>2</td>\n",
       "    </tr>\n",
       "    <tr>\n",
       "      <th>2017-06-06 00:01:00</th>\n",
       "      <td>3</td>\n",
       "    </tr>\n",
       "    <tr>\n",
       "      <th>2017-06-06 00:01:30</th>\n",
       "      <td>6</td>\n",
       "    </tr>\n",
       "    <tr>\n",
       "      <th>2017-06-06 00:02:00</th>\n",
       "      <td>6</td>\n",
       "    </tr>\n",
       "    <tr>\n",
       "      <th>2017-06-06 00:02:30</th>\n",
       "      <td>1</td>\n",
       "    </tr>\n",
       "    <tr>\n",
       "      <th>2017-06-06 00:03:00</th>\n",
       "      <td>3</td>\n",
       "    </tr>\n",
       "  </tbody>\n",
       "</table>\n",
       "</div>"
      ],
      "text/plain": [
       "                     Sale_Amount\n",
       "2017-06-06 00:00:00            1\n",
       "2017-06-06 00:00:30            2\n",
       "2017-06-06 00:01:00            3\n",
       "2017-06-06 00:01:30            6\n",
       "2017-06-06 00:02:00            6\n",
       "2017-06-06 00:02:30            1\n",
       "2017-06-06 00:03:00            3"
      ]
     },
     "execution_count": 75,
     "metadata": {},
     "output_type": "execute_result"
    }
   ],
   "source": [
    "# Générer une colonne de montants de vente aléatoires\n",
    "dataframe['Sale_Amount'] = np.random.randint(1, 10, 100000)\n",
    "dataframe.head(7)"
   ]
  },
  {
   "cell_type": "code",
   "execution_count": 76,
   "id": "e098b460",
   "metadata": {},
   "outputs": [
    {
     "data": {
      "text/plain": [
       "(100000, 1)"
      ]
     },
     "execution_count": 76,
     "metadata": {},
     "output_type": "execute_result"
    }
   ],
   "source": [
    "dataframe.shape"
   ]
  },
  {
   "cell_type": "code",
   "execution_count": 77,
   "id": "623721d4",
   "metadata": {},
   "outputs": [
    {
     "data": {
      "application/vnd.microsoft.datawrangler.viewer.v0+json": {
       "columns": [
        {
         "name": "index",
         "rawType": "datetime64[ns]",
         "type": "datetime"
        },
        {
         "name": "Sale_Amount",
         "rawType": "int32",
         "type": "integer"
        }
       ],
       "ref": "fd8e8d04-15d4-411c-985e-ef344cbb0aff",
       "rows": [
        [
         "2017-06-11 00:00:00",
         "86222"
        ],
        [
         "2017-06-18 00:00:00",
         "101251"
        ],
        [
         "2017-06-25 00:00:00",
         "100428"
        ],
        [
         "2017-07-02 00:00:00",
         "100978"
        ],
        [
         "2017-07-09 00:00:00",
         "100446"
        ],
        [
         "2017-07-16 00:00:00",
         "10326"
        ]
       ],
       "shape": {
        "columns": 1,
        "rows": 6
       }
      },
      "text/html": [
       "<div>\n",
       "<style scoped>\n",
       "    .dataframe tbody tr th:only-of-type {\n",
       "        vertical-align: middle;\n",
       "    }\n",
       "\n",
       "    .dataframe tbody tr th {\n",
       "        vertical-align: top;\n",
       "    }\n",
       "\n",
       "    .dataframe thead th {\n",
       "        text-align: right;\n",
       "    }\n",
       "</style>\n",
       "<table border=\"1\" class=\"dataframe\">\n",
       "  <thead>\n",
       "    <tr style=\"text-align: right;\">\n",
       "      <th></th>\n",
       "      <th>Sale_Amount</th>\n",
       "    </tr>\n",
       "  </thead>\n",
       "  <tbody>\n",
       "    <tr>\n",
       "      <th>2017-06-11</th>\n",
       "      <td>86222</td>\n",
       "    </tr>\n",
       "    <tr>\n",
       "      <th>2017-06-18</th>\n",
       "      <td>101251</td>\n",
       "    </tr>\n",
       "    <tr>\n",
       "      <th>2017-06-25</th>\n",
       "      <td>100428</td>\n",
       "    </tr>\n",
       "    <tr>\n",
       "      <th>2017-07-02</th>\n",
       "      <td>100978</td>\n",
       "    </tr>\n",
       "    <tr>\n",
       "      <th>2017-07-09</th>\n",
       "      <td>100446</td>\n",
       "    </tr>\n",
       "    <tr>\n",
       "      <th>2017-07-16</th>\n",
       "      <td>10326</td>\n",
       "    </tr>\n",
       "  </tbody>\n",
       "</table>\n",
       "</div>"
      ],
      "text/plain": [
       "            Sale_Amount\n",
       "2017-06-11        86222\n",
       "2017-06-18       101251\n",
       "2017-06-25       100428\n",
       "2017-07-02       100978\n",
       "2017-07-09       100446\n",
       "2017-07-16        10326"
      ]
     },
     "execution_count": 77,
     "metadata": {},
     "output_type": "execute_result"
    }
   ],
   "source": [
    "# Regrouper par semaine et calculer la somme par semaine\n",
    "dataframe.resample('W').sum()"
   ]
  },
  {
   "cell_type": "markdown",
   "id": "8e044751",
   "metadata": {},
   "source": [
    "📚 \n",
    "\n",
    "🧠 Le regroupement par temps est très utile pour :\n",
    "- des séries temporelles\n",
    "- des événements ou ventes espacés dans le temps\n",
    "- des agrégations mensuelles, hebdomadaires ou horaires\n",
    "\n",
    "⚠️ Pour utiliser resample, l’index du DataFrame doit être de type datetime.\n",
    "\n",
    "🔹 Autres exemples de regroupements temporels\n",
    "\n",
    "🔸 Regrouper par 2 semaines et calculer la moyenne :"
   ]
  },
  {
   "cell_type": "code",
   "execution_count": 78,
   "id": "20e86bf8",
   "metadata": {},
   "outputs": [
    {
     "data": {
      "application/vnd.microsoft.datawrangler.viewer.v0+json": {
       "columns": [
        {
         "name": "index",
         "rawType": "datetime64[ns]",
         "type": "datetime"
        },
        {
         "name": "Sale_Amount",
         "rawType": "float64",
         "type": "float"
        }
       ],
       "ref": "34a16ef8-efad-48a7-8378-8297a742ff66",
       "rows": [
        [
         "2017-06-11 00:00:00",
         "4.989699074074074"
        ],
        [
         "2017-06-25 00:00:00",
         "5.001959325396825"
        ],
        [
         "2017-07-09 00:00:00",
         "4.99563492063492"
        ],
        [
         "2017-07-23 00:00:00",
         "4.964423076923077"
        ]
       ],
       "shape": {
        "columns": 1,
        "rows": 4
       }
      },
      "text/html": [
       "<div>\n",
       "<style scoped>\n",
       "    .dataframe tbody tr th:only-of-type {\n",
       "        vertical-align: middle;\n",
       "    }\n",
       "\n",
       "    .dataframe tbody tr th {\n",
       "        vertical-align: top;\n",
       "    }\n",
       "\n",
       "    .dataframe thead th {\n",
       "        text-align: right;\n",
       "    }\n",
       "</style>\n",
       "<table border=\"1\" class=\"dataframe\">\n",
       "  <thead>\n",
       "    <tr style=\"text-align: right;\">\n",
       "      <th></th>\n",
       "      <th>Sale_Amount</th>\n",
       "    </tr>\n",
       "  </thead>\n",
       "  <tbody>\n",
       "    <tr>\n",
       "      <th>2017-06-11</th>\n",
       "      <td>4.989699</td>\n",
       "    </tr>\n",
       "    <tr>\n",
       "      <th>2017-06-25</th>\n",
       "      <td>5.001959</td>\n",
       "    </tr>\n",
       "    <tr>\n",
       "      <th>2017-07-09</th>\n",
       "      <td>4.995635</td>\n",
       "    </tr>\n",
       "    <tr>\n",
       "      <th>2017-07-23</th>\n",
       "      <td>4.964423</td>\n",
       "    </tr>\n",
       "  </tbody>\n",
       "</table>\n",
       "</div>"
      ],
      "text/plain": [
       "            Sale_Amount\n",
       "2017-06-11     4.989699\n",
       "2017-06-25     5.001959\n",
       "2017-07-09     4.995635\n",
       "2017-07-23     4.964423"
      ]
     },
     "execution_count": 78,
     "metadata": {},
     "output_type": "execute_result"
    }
   ],
   "source": [
    "dataframe.resample('2W').mean()"
   ]
  },
  {
   "cell_type": "markdown",
   "id": "cadc525e",
   "metadata": {},
   "source": [
    "🔸 Regrouper par mois et compter le nombre de ventes :"
   ]
  },
  {
   "cell_type": "code",
   "execution_count": 80,
   "id": "ba118cf5",
   "metadata": {},
   "outputs": [
    {
     "data": {
      "application/vnd.microsoft.datawrangler.viewer.v0+json": {
       "columns": [
        {
         "name": "index",
         "rawType": "datetime64[ns]",
         "type": "datetime"
        },
        {
         "name": "Sale_Amount",
         "rawType": "int64",
         "type": "integer"
        }
       ],
       "ref": "ed7ba2c4-5b73-41f1-9e3f-c99c4a09a9a8",
       "rows": [
        [
         "2017-06-30 00:00:00",
         "72000"
        ],
        [
         "2017-07-31 00:00:00",
         "28000"
        ]
       ],
       "shape": {
        "columns": 1,
        "rows": 2
       }
      },
      "text/html": [
       "<div>\n",
       "<style scoped>\n",
       "    .dataframe tbody tr th:only-of-type {\n",
       "        vertical-align: middle;\n",
       "    }\n",
       "\n",
       "    .dataframe tbody tr th {\n",
       "        vertical-align: top;\n",
       "    }\n",
       "\n",
       "    .dataframe thead th {\n",
       "        text-align: right;\n",
       "    }\n",
       "</style>\n",
       "<table border=\"1\" class=\"dataframe\">\n",
       "  <thead>\n",
       "    <tr style=\"text-align: right;\">\n",
       "      <th></th>\n",
       "      <th>Sale_Amount</th>\n",
       "    </tr>\n",
       "  </thead>\n",
       "  <tbody>\n",
       "    <tr>\n",
       "      <th>2017-06-30</th>\n",
       "      <td>72000</td>\n",
       "    </tr>\n",
       "    <tr>\n",
       "      <th>2017-07-31</th>\n",
       "      <td>28000</td>\n",
       "    </tr>\n",
       "  </tbody>\n",
       "</table>\n",
       "</div>"
      ],
      "text/plain": [
       "            Sale_Amount\n",
       "2017-06-30        72000\n",
       "2017-07-31        28000"
      ]
     },
     "execution_count": 80,
     "metadata": {},
     "output_type": "execute_result"
    }
   ],
   "source": [
    "dataframe.resample('ME').count()"
   ]
  },
  {
   "cell_type": "markdown",
   "id": "50415232",
   "metadata": {},
   "source": [
    "🧾 Personnaliser le label de chaque groupe\n",
    "\n",
    "Par défaut, le label de chaque intervalle est le bord droit (label='right').\n",
    "\n",
    "Pour utiliser le bord gauche, ajoutez le paramètre :"
   ]
  },
  {
   "cell_type": "code",
   "execution_count": 83,
   "id": "8d866a20",
   "metadata": {},
   "outputs": [
    {
     "data": {
      "application/vnd.microsoft.datawrangler.viewer.v0+json": {
       "columns": [
        {
         "name": "index",
         "rawType": "datetime64[ns]",
         "type": "datetime"
        },
        {
         "name": "Sale_Amount",
         "rawType": "int64",
         "type": "integer"
        }
       ],
       "ref": "61b602b0-39cd-412b-a671-19a193a7f0f1",
       "rows": [
        [
         "2017-05-31 00:00:00",
         "72000"
        ],
        [
         "2017-06-30 00:00:00",
         "28000"
        ]
       ],
       "shape": {
        "columns": 1,
        "rows": 2
       }
      },
      "text/html": [
       "<div>\n",
       "<style scoped>\n",
       "    .dataframe tbody tr th:only-of-type {\n",
       "        vertical-align: middle;\n",
       "    }\n",
       "\n",
       "    .dataframe tbody tr th {\n",
       "        vertical-align: top;\n",
       "    }\n",
       "\n",
       "    .dataframe thead th {\n",
       "        text-align: right;\n",
       "    }\n",
       "</style>\n",
       "<table border=\"1\" class=\"dataframe\">\n",
       "  <thead>\n",
       "    <tr style=\"text-align: right;\">\n",
       "      <th></th>\n",
       "      <th>Sale_Amount</th>\n",
       "    </tr>\n",
       "  </thead>\n",
       "  <tbody>\n",
       "    <tr>\n",
       "      <th>2017-05-31</th>\n",
       "      <td>72000</td>\n",
       "    </tr>\n",
       "    <tr>\n",
       "      <th>2017-06-30</th>\n",
       "      <td>28000</td>\n",
       "    </tr>\n",
       "  </tbody>\n",
       "</table>\n",
       "</div>"
      ],
      "text/plain": [
       "            Sale_Amount\n",
       "2017-05-31        72000\n",
       "2017-06-30        28000"
      ]
     },
     "execution_count": 83,
     "metadata": {},
     "output_type": "execute_result"
    }
   ],
   "source": [
    "dataframe.resample('ME', label='left').count()"
   ]
  },
  {
   "cell_type": "markdown",
   "id": "295cfdc0",
   "metadata": {},
   "source": [
    "# 📊 Opérations d’agrégation et statistiques dans un DataFrame\n",
    "\n",
    "On souhaite appliquer des fonctions statistiques globales sur tout ou partie d’un DataFrame pandas.\n",
    "\n",
    "✅ Solution : la méthode ``.agg()``\n",
    "\n",
    "🔹 Obtenir les valeurs minimales de chaque colonne\n"
   ]
  },
  {
   "cell_type": "code",
   "execution_count": 84,
   "id": "298722de",
   "metadata": {},
   "outputs": [
    {
     "data": {
      "application/vnd.microsoft.datawrangler.viewer.v0+json": {
       "columns": [
        {
         "name": "index",
         "rawType": "object",
         "type": "string"
        },
        {
         "name": "0",
         "rawType": "object",
         "type": "unknown"
        }
       ],
       "ref": "d1f1d37d-a8ad-4126-9bc9-e4e689d78cda",
       "rows": [
        [
         "Name",
         "Abbing, Mr Anthony"
        ],
        [
         "PClass",
         "*"
        ],
        [
         "Age",
         "0.17"
        ],
        [
         "Sex",
         "female"
        ],
        [
         "Survived",
         "0"
        ],
        [
         "SexCode",
         "0"
        ]
       ],
       "shape": {
        "columns": 1,
        "rows": 6
       }
      },
      "text/plain": [
       "Name        Abbing, Mr Anthony\n",
       "PClass                       *\n",
       "Age                       0.17\n",
       "Sex                     female\n",
       "Survived                     0\n",
       "SexCode                      0\n",
       "dtype: object"
      ]
     },
     "execution_count": 84,
     "metadata": {},
     "output_type": "execute_result"
    }
   ],
   "source": [
    "import pandas as pd\n",
    "\n",
    "# Charger le jeu de données Titanic\n",
    "url = 'https://raw.githubusercontent.com/chrisalbon/sim_data/master/titanic.csv'\n",
    "dataframe = pd.read_csv(url)\n",
    "\n",
    "# Obtenir le minimum de chaque colonne\n",
    "dataframe.agg(\"min\")"
   ]
  },
  {
   "cell_type": "markdown",
   "id": "6372beca",
   "metadata": {},
   "source": [
    "🔹 Appliquer des fonctions spécifiques à des colonnes précises"
   ]
  },
  {
   "cell_type": "code",
   "execution_count": 85,
   "id": "8bd664ff",
   "metadata": {},
   "outputs": [
    {
     "data": {
      "application/vnd.microsoft.datawrangler.viewer.v0+json": {
       "columns": [
        {
         "name": "index",
         "rawType": "object",
         "type": "string"
        },
        {
         "name": "Age",
         "rawType": "float64",
         "type": "float"
        },
        {
         "name": "SexCode",
         "rawType": "float64",
         "type": "float"
        }
       ],
       "ref": "7435f9a8-880d-4ce2-a3cf-821d0ea40466",
       "rows": [
        [
         "mean",
         "30.397989417989418",
         null
        ],
        [
         "min",
         null,
         "0.0"
        ],
        [
         "max",
         null,
         "1.0"
        ]
       ],
       "shape": {
        "columns": 2,
        "rows": 3
       }
      },
      "text/html": [
       "<div>\n",
       "<style scoped>\n",
       "    .dataframe tbody tr th:only-of-type {\n",
       "        vertical-align: middle;\n",
       "    }\n",
       "\n",
       "    .dataframe tbody tr th {\n",
       "        vertical-align: top;\n",
       "    }\n",
       "\n",
       "    .dataframe thead th {\n",
       "        text-align: right;\n",
       "    }\n",
       "</style>\n",
       "<table border=\"1\" class=\"dataframe\">\n",
       "  <thead>\n",
       "    <tr style=\"text-align: right;\">\n",
       "      <th></th>\n",
       "      <th>Age</th>\n",
       "      <th>SexCode</th>\n",
       "    </tr>\n",
       "  </thead>\n",
       "  <tbody>\n",
       "    <tr>\n",
       "      <th>mean</th>\n",
       "      <td>30.397989</td>\n",
       "      <td>NaN</td>\n",
       "    </tr>\n",
       "    <tr>\n",
       "      <th>min</th>\n",
       "      <td>NaN</td>\n",
       "      <td>0.0</td>\n",
       "    </tr>\n",
       "    <tr>\n",
       "      <th>max</th>\n",
       "      <td>NaN</td>\n",
       "      <td>1.0</td>\n",
       "    </tr>\n",
       "  </tbody>\n",
       "</table>\n",
       "</div>"
      ],
      "text/plain": [
       "            Age  SexCode\n",
       "mean  30.397989      NaN\n",
       "min         NaN      0.0\n",
       "max         NaN      1.0"
      ]
     },
     "execution_count": 85,
     "metadata": {},
     "output_type": "execute_result"
    }
   ],
   "source": [
    "dataframe.agg({\n",
    "    \"Age\": [\"mean\"],\n",
    "    \"SexCode\": [\"min\", \"max\"]\n",
    "})"
   ]
  },
  {
   "cell_type": "markdown",
   "id": "c24d2081",
   "metadata": {},
   "source": [
    "🧑‍🤝‍🧑 Statistiques d’agrégation sur des groupes (groupby + agg)\n",
    "\n",
    "🔸 Compter le nombre de survivants et de non-survivants selon la classe"
   ]
  },
  {
   "cell_type": "code",
   "execution_count": 86,
   "id": "33b945e2",
   "metadata": {},
   "outputs": [
    {
     "data": {
      "application/vnd.microsoft.datawrangler.viewer.v0+json": {
       "columns": [
        {
         "name": "index",
         "rawType": "int64",
         "type": "integer"
        },
        {
         "name": "('PClass', '')",
         "rawType": "object",
         "type": "string"
        },
        {
         "name": "('Survived', '')",
         "rawType": "int64",
         "type": "integer"
        },
        {
         "name": "('Survived', 'count')",
         "rawType": "int64",
         "type": "integer"
        }
       ],
       "ref": "9c991f29-c2ab-4366-b581-b5c1f09a24b8",
       "rows": [
        [
         "0",
         "*",
         "0",
         "1"
        ],
        [
         "1",
         "1st",
         "0",
         "129"
        ],
        [
         "2",
         "1st",
         "1",
         "193"
        ],
        [
         "3",
         "2nd",
         "0",
         "160"
        ],
        [
         "4",
         "2nd",
         "1",
         "119"
        ],
        [
         "5",
         "3rd",
         "0",
         "573"
        ],
        [
         "6",
         "3rd",
         "1",
         "138"
        ]
       ],
       "shape": {
        "columns": 3,
        "rows": 7
       }
      },
      "text/html": [
       "<div>\n",
       "<style scoped>\n",
       "    .dataframe tbody tr th:only-of-type {\n",
       "        vertical-align: middle;\n",
       "    }\n",
       "\n",
       "    .dataframe tbody tr th {\n",
       "        vertical-align: top;\n",
       "    }\n",
       "\n",
       "    .dataframe thead tr th {\n",
       "        text-align: left;\n",
       "    }\n",
       "</style>\n",
       "<table border=\"1\" class=\"dataframe\">\n",
       "  <thead>\n",
       "    <tr>\n",
       "      <th></th>\n",
       "      <th>PClass</th>\n",
       "      <th colspan=\"2\" halign=\"left\">Survived</th>\n",
       "    </tr>\n",
       "    <tr>\n",
       "      <th></th>\n",
       "      <th></th>\n",
       "      <th></th>\n",
       "      <th>count</th>\n",
       "    </tr>\n",
       "  </thead>\n",
       "  <tbody>\n",
       "    <tr>\n",
       "      <th>0</th>\n",
       "      <td>*</td>\n",
       "      <td>0</td>\n",
       "      <td>1</td>\n",
       "    </tr>\n",
       "    <tr>\n",
       "      <th>1</th>\n",
       "      <td>1st</td>\n",
       "      <td>0</td>\n",
       "      <td>129</td>\n",
       "    </tr>\n",
       "    <tr>\n",
       "      <th>2</th>\n",
       "      <td>1st</td>\n",
       "      <td>1</td>\n",
       "      <td>193</td>\n",
       "    </tr>\n",
       "    <tr>\n",
       "      <th>3</th>\n",
       "      <td>2nd</td>\n",
       "      <td>0</td>\n",
       "      <td>160</td>\n",
       "    </tr>\n",
       "    <tr>\n",
       "      <th>4</th>\n",
       "      <td>2nd</td>\n",
       "      <td>1</td>\n",
       "      <td>119</td>\n",
       "    </tr>\n",
       "    <tr>\n",
       "      <th>5</th>\n",
       "      <td>3rd</td>\n",
       "      <td>0</td>\n",
       "      <td>573</td>\n",
       "    </tr>\n",
       "    <tr>\n",
       "      <th>6</th>\n",
       "      <td>3rd</td>\n",
       "      <td>1</td>\n",
       "      <td>138</td>\n",
       "    </tr>\n",
       "  </tbody>\n",
       "</table>\n",
       "</div>"
      ],
      "text/plain": [
       "  PClass Survived      \n",
       "                  count\n",
       "0      *        0     1\n",
       "1    1st        0   129\n",
       "2    1st        1   193\n",
       "3    2nd        0   160\n",
       "4    2nd        1   119\n",
       "5    3rd        0   573\n",
       "6    3rd        1   138"
      ]
     },
     "execution_count": 86,
     "metadata": {},
     "output_type": "execute_result"
    }
   ],
   "source": [
    "dataframe.groupby([\"PClass\", \"Survived\"]).agg({\n",
    "    \"Survived\": [\"count\"]\n",
    "}).reset_index()"
   ]
  },
  {
   "cell_type": "markdown",
   "id": "879ce544",
   "metadata": {},
   "source": [
    "🧠\n",
    "\n",
    "Les fonctions d’agrégation sont extrêmement utiles pour :\n",
    "- Résumer les données rapidement\n",
    "- Identifier des patrons par sous-groupes\n",
    "- Faciliter la phase de feature engineering en machine learning\n",
    "\n",
    "Elles permettent d’obtenir des statistiques riches et descriptives sans écrire de boucles, et se combinent bien avec groupby ou pivot_table."
   ]
  },
  {
   "cell_type": "markdown",
   "id": "39b29e29",
   "metadata": {},
   "source": [
    "# 🔄 Boucler sur une colonne d’un DataFrame\n",
    "\n",
    "On souhaite appliquer une action à chaque élément d’une colonne dans un DataFrame.\n",
    "\n",
    "✅ Solution simple avec une boucle for\n"
   ]
  },
  {
   "cell_type": "code",
   "execution_count": 87,
   "id": "43565316",
   "metadata": {},
   "outputs": [
    {
     "name": "stdout",
     "output_type": "stream",
     "text": [
      "ALLEN, MISS ELISABETH WALTON\n",
      "ALLISON, MISS HELEN LORAINE\n"
     ]
    }
   ],
   "source": [
    "# Importer pandas\n",
    "import pandas as pd\n",
    "\n",
    "# URL du dataset Titanic\n",
    "url = 'https://raw.githubusercontent.com/chrisalbon/sim_data/master/titanic.csv'\n",
    "\n",
    "# Charger les données\n",
    "dataframe = pd.read_csv(url)\n",
    "\n",
    "# Afficher les deux premiers noms en majuscules\n",
    "for name in dataframe['Name'][0:2]:\n",
    "    print(name.upper())"
   ]
  },
  {
   "cell_type": "markdown",
   "id": "198ea524",
   "metadata": {},
   "source": [
    "🔹 Alternative avec la compréhension de liste"
   ]
  },
  {
   "cell_type": "code",
   "execution_count": 88,
   "id": "4a2d9fd1",
   "metadata": {},
   "outputs": [
    {
     "data": {
      "text/plain": [
       "['ALLEN, MISS ELISABETH WALTON', 'ALLISON, MISS HELEN LORAINE']"
      ]
     },
     "execution_count": 88,
     "metadata": {},
     "output_type": "execute_result"
    }
   ],
   "source": [
    "[name.upper() for name in dataframe['Name'][0:2]]"
   ]
  },
  {
   "cell_type": "markdown",
   "id": "e87fcded",
   "metadata": {},
   "source": [
    "🧠 Conseil Pythonique\n",
    "\n",
    "➡️ Bien qu’une boucle for fonctionne parfaitement, une solution plus idiomatique avec pandas est d’utiliser ``.apply()`` :"
   ]
  },
  {
   "cell_type": "code",
   "execution_count": 91,
   "id": "6a2f4d54",
   "metadata": {},
   "outputs": [
    {
     "data": {
      "application/vnd.microsoft.datawrangler.viewer.v0+json": {
       "columns": [
        {
         "name": "index",
         "rawType": "int64",
         "type": "integer"
        },
        {
         "name": "Name",
         "rawType": "object",
         "type": "string"
        }
       ],
       "ref": "0127e9d5-9b78-4e5a-8d3f-688275dcbcd5",
       "rows": [
        [
         "0",
         "ALLEN, MISS ELISABETH WALTON"
        ],
        [
         "1",
         "ALLISON, MISS HELEN LORAINE"
        ]
       ],
       "shape": {
        "columns": 1,
        "rows": 2
       }
      },
      "text/plain": [
       "0    ALLEN, MISS ELISABETH WALTON\n",
       "1     ALLISON, MISS HELEN LORAINE\n",
       "Name: Name, dtype: object"
      ]
     },
     "execution_count": 91,
     "metadata": {},
     "output_type": "execute_result"
    }
   ],
   "source": [
    "# Appliquer une fonction à tous les éléments de la colonne 'Name'\n",
    "dataframe['Name'].apply(str.upper).head(2)"
   ]
  },
  {
   "cell_type": "markdown",
   "id": "93aedfa6",
   "metadata": {},
   "source": [
    "📦 Cela fonctionne aussi avec n’importe quelle fonction personnalisée — idéale pour le nettoyage ou la transformation de données."
   ]
  },
  {
   "cell_type": "markdown",
   "id": "61af2be2",
   "metadata": {},
   "source": [
    "# 🔧 Appliquer une fonction à tous les éléments d’une colonne\n",
    "\n",
    "On souhaite appliquer une fonction personnalisée ou intégrée à chaque valeur d'une colonne d’un DataFrame.\n",
    "\n",
    "✅ Solution avec apply\n",
    "\n",
    "La méthode ``.apply()`` permet d’appliquer une fonction à chaque élément d’une colonne :\n"
   ]
  },
  {
   "cell_type": "code",
   "execution_count": 93,
   "id": "8b94ba48",
   "metadata": {},
   "outputs": [
    {
     "data": {
      "application/vnd.microsoft.datawrangler.viewer.v0+json": {
       "columns": [
        {
         "name": "index",
         "rawType": "int64",
         "type": "integer"
        },
        {
         "name": "Name",
         "rawType": "object",
         "type": "string"
        }
       ],
       "ref": "fa7b7e3f-faa8-4f7b-b7a8-aba26ff0fbe2",
       "rows": [
        [
         "0",
         "ALLEN, MISS ELISABETH WALTON"
        ],
        [
         "1",
         "ALLISON, MISS HELEN LORAINE"
        ],
        [
         "2",
         "ALLISON, MR HUDSON JOSHUA CREIGHTON"
        ],
        [
         "3",
         "ALLISON, MRS HUDSON JC (BESSIE WALDO DANIELS)"
        ],
        [
         "4",
         "ALLISON, MASTER HUDSON TREVOR"
        ],
        [
         "5",
         "ANDERSON, MR HARRY"
        ],
        [
         "6",
         "ANDREWS, MISS KORNELIA THEODOSIA"
        ],
        [
         "7",
         "ANDREWS, MR THOMAS, JR"
        ],
        [
         "8",
         "APPLETON, MRS EDWARD DALE (CHARLOTTE LAMSON)"
        ],
        [
         "9",
         "ARTAGAVEYTIA, MR RAMON"
        ]
       ],
       "shape": {
        "columns": 1,
        "rows": 10
       }
      },
      "text/plain": [
       "0                     ALLEN, MISS ELISABETH WALTON\n",
       "1                      ALLISON, MISS HELEN LORAINE\n",
       "2              ALLISON, MR HUDSON JOSHUA CREIGHTON\n",
       "3    ALLISON, MRS HUDSON JC (BESSIE WALDO DANIELS)\n",
       "4                    ALLISON, MASTER HUDSON TREVOR\n",
       "5                               ANDERSON, MR HARRY\n",
       "6                 ANDREWS, MISS KORNELIA THEODOSIA\n",
       "7                           ANDREWS, MR THOMAS, JR\n",
       "8     APPLETON, MRS EDWARD DALE (CHARLOTTE LAMSON)\n",
       "9                           ARTAGAVEYTIA, MR RAMON\n",
       "Name: Name, dtype: object"
      ]
     },
     "execution_count": 93,
     "metadata": {},
     "output_type": "execute_result"
    }
   ],
   "source": [
    "# Importer la bibliothèque pandas\n",
    "import pandas as pd\n",
    "\n",
    "# Définir l'URL du dataset Titanic\n",
    "url = 'https://raw.githubusercontent.com/chrisalbon/sim_data/master/titanic.csv'\n",
    "\n",
    "# Charger les données\n",
    "dataframe = pd.read_csv(url)\n",
    "\n",
    "# Créer une fonction simple\n",
    "def uppercase(x):\n",
    "    return x.upper()\n",
    "\n",
    "# Appliquer la fonction à la colonne 'Name'\n",
    "dataframe['Name'].apply(uppercase)[0:10]"
   ]
  },
  {
   "cell_type": "markdown",
   "id": "d1d95828",
   "metadata": {},
   "source": [
    "🧠 \n",
    "\n",
    "La méthode ``apply()`` est idéale pour le nettoyage des données et les transformations personnalisées.\n",
    "\n",
    "💡 Exemples courants :\n",
    "- séparer prénom/nom\n",
    "- nettoyer des dates\n",
    "- convertir des chaînes en formats numériques\n",
    "- détecter ou marquer certains motifs (ex : noms contenant \"Mrs\")\n",
    "\n",
    "⚙️ On pout appliquer :\n",
    "- une fonction native Python (str.upper, float, etc.)\n",
    "- une fonction définie par vous\n",
    "- une lambda (lambda x: ...)"
   ]
  },
  {
   "cell_type": "markdown",
   "id": "e93d9125",
   "metadata": {},
   "source": [
    "# 🧠 Appliquer une fonction à des groupes dans un DataFrame\n",
    "\n",
    "On a regroupé les lignes avec groupby et on souhaite appliquer une fonction à chaque groupe.\n",
    "\n",
    "✅ Solution : ``groupby`` + ``apply``"
   ]
  },
  {
   "cell_type": "code",
   "execution_count": 95,
   "id": "d44a7492",
   "metadata": {},
   "outputs": [
    {
     "data": {
      "application/vnd.microsoft.datawrangler.viewer.v0+json": {
       "columns": [
        {
         "name": "Sex",
         "rawType": "object",
         "type": "string"
        },
        {
         "name": "Name",
         "rawType": "int64",
         "type": "integer"
        },
        {
         "name": "PClass",
         "rawType": "int64",
         "type": "integer"
        },
        {
         "name": "Age",
         "rawType": "int64",
         "type": "integer"
        },
        {
         "name": "Survived",
         "rawType": "int64",
         "type": "integer"
        },
        {
         "name": "SexCode",
         "rawType": "int64",
         "type": "integer"
        }
       ],
       "ref": "2e368f79-addb-4837-ad32-da8b5302b187",
       "rows": [
        [
         "female",
         "462",
         "462",
         "288",
         "462",
         "462"
        ],
        [
         "male",
         "851",
         "851",
         "468",
         "851",
         "851"
        ]
       ],
       "shape": {
        "columns": 5,
        "rows": 2
       }
      },
      "text/html": [
       "<div>\n",
       "<style scoped>\n",
       "    .dataframe tbody tr th:only-of-type {\n",
       "        vertical-align: middle;\n",
       "    }\n",
       "\n",
       "    .dataframe tbody tr th {\n",
       "        vertical-align: top;\n",
       "    }\n",
       "\n",
       "    .dataframe thead th {\n",
       "        text-align: right;\n",
       "    }\n",
       "</style>\n",
       "<table border=\"1\" class=\"dataframe\">\n",
       "  <thead>\n",
       "    <tr style=\"text-align: right;\">\n",
       "      <th></th>\n",
       "      <th>Name</th>\n",
       "      <th>PClass</th>\n",
       "      <th>Age</th>\n",
       "      <th>Survived</th>\n",
       "      <th>SexCode</th>\n",
       "    </tr>\n",
       "    <tr>\n",
       "      <th>Sex</th>\n",
       "      <th></th>\n",
       "      <th></th>\n",
       "      <th></th>\n",
       "      <th></th>\n",
       "      <th></th>\n",
       "    </tr>\n",
       "  </thead>\n",
       "  <tbody>\n",
       "    <tr>\n",
       "      <th>female</th>\n",
       "      <td>462</td>\n",
       "      <td>462</td>\n",
       "      <td>288</td>\n",
       "      <td>462</td>\n",
       "      <td>462</td>\n",
       "    </tr>\n",
       "    <tr>\n",
       "      <th>male</th>\n",
       "      <td>851</td>\n",
       "      <td>851</td>\n",
       "      <td>468</td>\n",
       "      <td>851</td>\n",
       "      <td>851</td>\n",
       "    </tr>\n",
       "  </tbody>\n",
       "</table>\n",
       "</div>"
      ],
      "text/plain": [
       "        Name  PClass  Age  Survived  SexCode\n",
       "Sex                                         \n",
       "female   462     462  288       462      462\n",
       "male     851     851  468       851      851"
      ]
     },
     "execution_count": 95,
     "metadata": {},
     "output_type": "execute_result"
    }
   ],
   "source": [
    "# Importer la bibliothèque\n",
    "import pandas as pd\n",
    "\n",
    "# URL du jeu de données Titanic\n",
    "url = 'https://raw.githubusercontent.com/chrisalbon/sim_data/master/titanic.csv'\n",
    "\n",
    "# Charger les données\n",
    "dataframe = pd.read_csv(url)\n",
    "\n",
    "# Grouper les lignes par 'Sex', puis appliquer une fonction (ici count par colonne)\n",
    "dataframe.groupby('Sex').apply(lambda x: x.count(), include_groups=False)"
   ]
  },
  {
   "cell_type": "markdown",
   "id": "e23f073f",
   "metadata": {},
   "source": [
    "🧠 \n",
    "\n",
    "La méthode ``.apply()`` permet d’appliquer n’importe quelle fonction personnalisée à chaque groupe séparément.\n",
    "\n",
    "C’est extrêmement utile pour :\n",
    "- Calculer des statistiques sur mesure\n",
    "- Extraire ou transformer des sous-ensembles\n",
    "- Effectuer des opérations de nettoyage par catégorie\n",
    "\n",
    "👀 Par exemple, vous pouvez :\n",
    "- Calculer des moyennes conditionnelles\n",
    "- Appliquer des fonctions sur des lignes de chaque groupe\n",
    "- Créer des indicateurs ou des métriques par groupe\n",
    "\n",
    "🔍 Astuce bonus : combiner ``groupby`` + ``apply()`` +`` fonction personnalisée``\n"
   ]
  },
  {
   "cell_type": "code",
   "execution_count": 97,
   "id": "28c3e95f",
   "metadata": {},
   "outputs": [
    {
     "data": {
      "application/vnd.microsoft.datawrangler.viewer.v0+json": {
       "columns": [
        {
         "name": "('Sex', None)",
         "rawType": "object",
         "type": "unknown"
        },
        {
         "name": "Name",
         "rawType": "object",
         "type": "string"
        },
        {
         "name": "PClass",
         "rawType": "object",
         "type": "string"
        },
        {
         "name": "Age",
         "rawType": "float64",
         "type": "float"
        },
        {
         "name": "Survived",
         "rawType": "int64",
         "type": "integer"
        },
        {
         "name": "SexCode",
         "rawType": "int64",
         "type": "integer"
        }
       ],
       "ref": "ce4a86d6-cb73-4f77-9bc9-00b5e8375711",
       "rows": [
        [
         "('female', np.int64(0))",
         "Allen, Miss Elisabeth Walton",
         "1st",
         "29.0",
         "1",
         "1"
        ],
        [
         "('male', np.int64(2))",
         "Allison, Mr Hudson Joshua Creighton",
         "1st",
         "30.0",
         "0",
         "0"
        ]
       ],
       "shape": {
        "columns": 5,
        "rows": 2
       }
      },
      "text/html": [
       "<div>\n",
       "<style scoped>\n",
       "    .dataframe tbody tr th:only-of-type {\n",
       "        vertical-align: middle;\n",
       "    }\n",
       "\n",
       "    .dataframe tbody tr th {\n",
       "        vertical-align: top;\n",
       "    }\n",
       "\n",
       "    .dataframe thead th {\n",
       "        text-align: right;\n",
       "    }\n",
       "</style>\n",
       "<table border=\"1\" class=\"dataframe\">\n",
       "  <thead>\n",
       "    <tr style=\"text-align: right;\">\n",
       "      <th></th>\n",
       "      <th></th>\n",
       "      <th>Name</th>\n",
       "      <th>PClass</th>\n",
       "      <th>Age</th>\n",
       "      <th>Survived</th>\n",
       "      <th>SexCode</th>\n",
       "    </tr>\n",
       "    <tr>\n",
       "      <th>Sex</th>\n",
       "      <th></th>\n",
       "      <th></th>\n",
       "      <th></th>\n",
       "      <th></th>\n",
       "      <th></th>\n",
       "      <th></th>\n",
       "    </tr>\n",
       "  </thead>\n",
       "  <tbody>\n",
       "    <tr>\n",
       "      <th>female</th>\n",
       "      <th>0</th>\n",
       "      <td>Allen, Miss Elisabeth Walton</td>\n",
       "      <td>1st</td>\n",
       "      <td>29.0</td>\n",
       "      <td>1</td>\n",
       "      <td>1</td>\n",
       "    </tr>\n",
       "    <tr>\n",
       "      <th>male</th>\n",
       "      <th>2</th>\n",
       "      <td>Allison, Mr Hudson Joshua Creighton</td>\n",
       "      <td>1st</td>\n",
       "      <td>30.0</td>\n",
       "      <td>0</td>\n",
       "      <td>0</td>\n",
       "    </tr>\n",
       "  </tbody>\n",
       "</table>\n",
       "</div>"
      ],
      "text/plain": [
       "                                         Name PClass   Age  Survived  SexCode\n",
       "Sex                                                                          \n",
       "female 0         Allen, Miss Elisabeth Walton    1st  29.0         1        1\n",
       "male   2  Allison, Mr Hudson Joshua Creighton    1st  30.0         0        0"
      ]
     },
     "execution_count": 97,
     "metadata": {},
     "output_type": "execute_result"
    }
   ],
   "source": [
    "# Exemple : afficher la première ligne de chaque groupe\n",
    "dataframe.groupby('Sex').apply(lambda x: x.head(1), include_groups=False)"
   ]
  },
  {
   "cell_type": "markdown",
   "id": "6f46a0e6",
   "metadata": {},
   "source": [
    "# 🔗 Concaténer deux DataFrames avec pandas\n",
    "\n",
    "On souhaite fusionner ou empiler deux DataFrames l’un au-dessus de l’autre ou côte à côte.\n",
    "\n",
    "✅ Solution avec ``pd.concat()``\n",
    "\n",
    "🔹 1. Concaténation par les lignes (axe 0)"
   ]
  },
  {
   "cell_type": "code",
   "execution_count": 98,
   "id": "71b9e37c",
   "metadata": {},
   "outputs": [
    {
     "data": {
      "application/vnd.microsoft.datawrangler.viewer.v0+json": {
       "columns": [
        {
         "name": "index",
         "rawType": "int64",
         "type": "integer"
        },
        {
         "name": "id",
         "rawType": "object",
         "type": "string"
        },
        {
         "name": "first",
         "rawType": "object",
         "type": "string"
        },
        {
         "name": "last",
         "rawType": "object",
         "type": "string"
        }
       ],
       "ref": "529c6e6b-d217-4a85-88d3-bdade514d703",
       "rows": [
        [
         "0",
         "1",
         "Alex",
         "Anderson"
        ],
        [
         "1",
         "2",
         "Amy",
         "Ackerman"
        ],
        [
         "2",
         "3",
         "Allen",
         "Ali"
        ],
        [
         "0",
         "4",
         "Billy",
         "Bonder"
        ],
        [
         "1",
         "5",
         "Brian",
         "Black"
        ],
        [
         "2",
         "6",
         "Bran",
         "Balwner"
        ]
       ],
       "shape": {
        "columns": 3,
        "rows": 6
       }
      },
      "text/html": [
       "<div>\n",
       "<style scoped>\n",
       "    .dataframe tbody tr th:only-of-type {\n",
       "        vertical-align: middle;\n",
       "    }\n",
       "\n",
       "    .dataframe tbody tr th {\n",
       "        vertical-align: top;\n",
       "    }\n",
       "\n",
       "    .dataframe thead th {\n",
       "        text-align: right;\n",
       "    }\n",
       "</style>\n",
       "<table border=\"1\" class=\"dataframe\">\n",
       "  <thead>\n",
       "    <tr style=\"text-align: right;\">\n",
       "      <th></th>\n",
       "      <th>id</th>\n",
       "      <th>first</th>\n",
       "      <th>last</th>\n",
       "    </tr>\n",
       "  </thead>\n",
       "  <tbody>\n",
       "    <tr>\n",
       "      <th>0</th>\n",
       "      <td>1</td>\n",
       "      <td>Alex</td>\n",
       "      <td>Anderson</td>\n",
       "    </tr>\n",
       "    <tr>\n",
       "      <th>1</th>\n",
       "      <td>2</td>\n",
       "      <td>Amy</td>\n",
       "      <td>Ackerman</td>\n",
       "    </tr>\n",
       "    <tr>\n",
       "      <th>2</th>\n",
       "      <td>3</td>\n",
       "      <td>Allen</td>\n",
       "      <td>Ali</td>\n",
       "    </tr>\n",
       "    <tr>\n",
       "      <th>0</th>\n",
       "      <td>4</td>\n",
       "      <td>Billy</td>\n",
       "      <td>Bonder</td>\n",
       "    </tr>\n",
       "    <tr>\n",
       "      <th>1</th>\n",
       "      <td>5</td>\n",
       "      <td>Brian</td>\n",
       "      <td>Black</td>\n",
       "    </tr>\n",
       "    <tr>\n",
       "      <th>2</th>\n",
       "      <td>6</td>\n",
       "      <td>Bran</td>\n",
       "      <td>Balwner</td>\n",
       "    </tr>\n",
       "  </tbody>\n",
       "</table>\n",
       "</div>"
      ],
      "text/plain": [
       "  id  first      last\n",
       "0  1   Alex  Anderson\n",
       "1  2    Amy  Ackerman\n",
       "2  3  Allen       Ali\n",
       "0  4  Billy    Bonder\n",
       "1  5  Brian     Black\n",
       "2  6   Bran   Balwner"
      ]
     },
     "execution_count": 98,
     "metadata": {},
     "output_type": "execute_result"
    }
   ],
   "source": [
    "import pandas as pd\n",
    "\n",
    "# Créer le premier DataFrame\n",
    "data_a = {\n",
    "    'id': ['1', '2', '3'],\n",
    "    'first': ['Alex', 'Amy', 'Allen'],\n",
    "    'last': ['Anderson', 'Ackerman', 'Ali']\n",
    "}\n",
    "dataframe_a = pd.DataFrame(data_a)\n",
    "\n",
    "# Créer le second DataFrame\n",
    "data_b = {\n",
    "    'id': ['4', '5', '6'],\n",
    "    'first': ['Billy', 'Brian', 'Bran'],\n",
    "    'last': ['Bonder', 'Black', 'Balwner']\n",
    "}\n",
    "dataframe_b = pd.DataFrame(data_b)\n",
    "\n",
    "# Concaténer par les lignes (empiler verticalement)\n",
    "pd.concat([dataframe_a, dataframe_b], axis=0)"
   ]
  },
  {
   "cell_type": "markdown",
   "id": "ee22db0f",
   "metadata": {},
   "source": [
    "💡 Les index ne sont pas réinitialisés par défaut. Pour un nouvel index continu :"
   ]
  },
  {
   "cell_type": "code",
   "execution_count": 99,
   "id": "86058415",
   "metadata": {},
   "outputs": [
    {
     "data": {
      "application/vnd.microsoft.datawrangler.viewer.v0+json": {
       "columns": [
        {
         "name": "index",
         "rawType": "int64",
         "type": "integer"
        },
        {
         "name": "id",
         "rawType": "object",
         "type": "string"
        },
        {
         "name": "first",
         "rawType": "object",
         "type": "string"
        },
        {
         "name": "last",
         "rawType": "object",
         "type": "string"
        }
       ],
       "ref": "56cd54ca-7107-4685-9729-978ba085bab5",
       "rows": [
        [
         "0",
         "1",
         "Alex",
         "Anderson"
        ],
        [
         "1",
         "2",
         "Amy",
         "Ackerman"
        ],
        [
         "2",
         "3",
         "Allen",
         "Ali"
        ],
        [
         "3",
         "4",
         "Billy",
         "Bonder"
        ],
        [
         "4",
         "5",
         "Brian",
         "Black"
        ],
        [
         "5",
         "6",
         "Bran",
         "Balwner"
        ]
       ],
       "shape": {
        "columns": 3,
        "rows": 6
       }
      },
      "text/html": [
       "<div>\n",
       "<style scoped>\n",
       "    .dataframe tbody tr th:only-of-type {\n",
       "        vertical-align: middle;\n",
       "    }\n",
       "\n",
       "    .dataframe tbody tr th {\n",
       "        vertical-align: top;\n",
       "    }\n",
       "\n",
       "    .dataframe thead th {\n",
       "        text-align: right;\n",
       "    }\n",
       "</style>\n",
       "<table border=\"1\" class=\"dataframe\">\n",
       "  <thead>\n",
       "    <tr style=\"text-align: right;\">\n",
       "      <th></th>\n",
       "      <th>id</th>\n",
       "      <th>first</th>\n",
       "      <th>last</th>\n",
       "    </tr>\n",
       "  </thead>\n",
       "  <tbody>\n",
       "    <tr>\n",
       "      <th>0</th>\n",
       "      <td>1</td>\n",
       "      <td>Alex</td>\n",
       "      <td>Anderson</td>\n",
       "    </tr>\n",
       "    <tr>\n",
       "      <th>1</th>\n",
       "      <td>2</td>\n",
       "      <td>Amy</td>\n",
       "      <td>Ackerman</td>\n",
       "    </tr>\n",
       "    <tr>\n",
       "      <th>2</th>\n",
       "      <td>3</td>\n",
       "      <td>Allen</td>\n",
       "      <td>Ali</td>\n",
       "    </tr>\n",
       "    <tr>\n",
       "      <th>3</th>\n",
       "      <td>4</td>\n",
       "      <td>Billy</td>\n",
       "      <td>Bonder</td>\n",
       "    </tr>\n",
       "    <tr>\n",
       "      <th>4</th>\n",
       "      <td>5</td>\n",
       "      <td>Brian</td>\n",
       "      <td>Black</td>\n",
       "    </tr>\n",
       "    <tr>\n",
       "      <th>5</th>\n",
       "      <td>6</td>\n",
       "      <td>Bran</td>\n",
       "      <td>Balwner</td>\n",
       "    </tr>\n",
       "  </tbody>\n",
       "</table>\n",
       "</div>"
      ],
      "text/plain": [
       "  id  first      last\n",
       "0  1   Alex  Anderson\n",
       "1  2    Amy  Ackerman\n",
       "2  3  Allen       Ali\n",
       "3  4  Billy    Bonder\n",
       "4  5  Brian     Black\n",
       "5  6   Bran   Balwner"
      ]
     },
     "execution_count": 99,
     "metadata": {},
     "output_type": "execute_result"
    }
   ],
   "source": [
    "pd.concat([dataframe_a, dataframe_b], axis=0, ignore_index=True)"
   ]
  },
  {
   "cell_type": "markdown",
   "id": "2ae2762c",
   "metadata": {},
   "source": [
    "🔹 2. Concaténation par les colonnes (axe 1)"
   ]
  },
  {
   "cell_type": "code",
   "execution_count": 100,
   "id": "41b9925b",
   "metadata": {},
   "outputs": [
    {
     "data": {
      "application/vnd.microsoft.datawrangler.viewer.v0+json": {
       "columns": [
        {
         "name": "index",
         "rawType": "int64",
         "type": "integer"
        },
        {
         "name": "id",
         "rawType": "object",
         "type": "string"
        },
        {
         "name": "first",
         "rawType": "object",
         "type": "string"
        },
        {
         "name": "last",
         "rawType": "object",
         "type": "string"
        },
        {
         "name": "id",
         "rawType": "object",
         "type": "string"
        },
        {
         "name": "first",
         "rawType": "object",
         "type": "string"
        },
        {
         "name": "last",
         "rawType": "object",
         "type": "string"
        }
       ],
       "ref": "4a80d91b-9b21-428d-a1c0-06a688ab4779",
       "rows": [
        [
         "0",
         "1",
         "Alex",
         "Anderson",
         "4",
         "Billy",
         "Bonder"
        ],
        [
         "1",
         "2",
         "Amy",
         "Ackerman",
         "5",
         "Brian",
         "Black"
        ],
        [
         "2",
         "3",
         "Allen",
         "Ali",
         "6",
         "Bran",
         "Balwner"
        ]
       ],
       "shape": {
        "columns": 6,
        "rows": 3
       }
      },
      "text/html": [
       "<div>\n",
       "<style scoped>\n",
       "    .dataframe tbody tr th:only-of-type {\n",
       "        vertical-align: middle;\n",
       "    }\n",
       "\n",
       "    .dataframe tbody tr th {\n",
       "        vertical-align: top;\n",
       "    }\n",
       "\n",
       "    .dataframe thead th {\n",
       "        text-align: right;\n",
       "    }\n",
       "</style>\n",
       "<table border=\"1\" class=\"dataframe\">\n",
       "  <thead>\n",
       "    <tr style=\"text-align: right;\">\n",
       "      <th></th>\n",
       "      <th>id</th>\n",
       "      <th>first</th>\n",
       "      <th>last</th>\n",
       "      <th>id</th>\n",
       "      <th>first</th>\n",
       "      <th>last</th>\n",
       "    </tr>\n",
       "  </thead>\n",
       "  <tbody>\n",
       "    <tr>\n",
       "      <th>0</th>\n",
       "      <td>1</td>\n",
       "      <td>Alex</td>\n",
       "      <td>Anderson</td>\n",
       "      <td>4</td>\n",
       "      <td>Billy</td>\n",
       "      <td>Bonder</td>\n",
       "    </tr>\n",
       "    <tr>\n",
       "      <th>1</th>\n",
       "      <td>2</td>\n",
       "      <td>Amy</td>\n",
       "      <td>Ackerman</td>\n",
       "      <td>5</td>\n",
       "      <td>Brian</td>\n",
       "      <td>Black</td>\n",
       "    </tr>\n",
       "    <tr>\n",
       "      <th>2</th>\n",
       "      <td>3</td>\n",
       "      <td>Allen</td>\n",
       "      <td>Ali</td>\n",
       "      <td>6</td>\n",
       "      <td>Bran</td>\n",
       "      <td>Balwner</td>\n",
       "    </tr>\n",
       "  </tbody>\n",
       "</table>\n",
       "</div>"
      ],
      "text/plain": [
       "  id  first      last id  first     last\n",
       "0  1   Alex  Anderson  4  Billy   Bonder\n",
       "1  2    Amy  Ackerman  5  Brian    Black\n",
       "2  3  Allen       Ali  6   Bran  Balwner"
      ]
     },
     "execution_count": 100,
     "metadata": {},
     "output_type": "execute_result"
    }
   ],
   "source": [
    "pd.concat([dataframe_a, dataframe_b], axis=1)"
   ]
  },
  {
   "cell_type": "markdown",
   "id": "db315f0f",
   "metadata": {},
   "source": [
    "🧠 \n",
    "\n",
    "🔧 Le mot concaténer signifie simplement “coller” deux objets ensemble.\n",
    "- Utilisez ``axis=0`` pour empiler verticalement (ligne après ligne)\n",
    "- Utilisez ``axis=1`` pour ajouter des colonnes (côte à côte)\n",
    "\n",
    "📌 ``pd.concat()`` est particulièrement pratique pour :\n",
    "- fusionner des données de même structure\n",
    "- réunir des résultats partiels\n",
    "- étendre dynamiquement un tableau"
   ]
  },
  {
   "cell_type": "markdown",
   "id": "18abc021",
   "metadata": {},
   "source": [
    "# 🔗 Fusionner deux DataFrames avec pandas (merge)\n",
    "\n",
    "On souhaite combiner deux DataFrames selon une colonne commune.\n",
    "\n",
    "✅ Solution : utiliser ``merge()``\n",
    "\n",
    "🔹 Jointure interne (inner join) : ne garder que les correspondances"
   ]
  },
  {
   "cell_type": "code",
   "execution_count": 101,
   "id": "10414708",
   "metadata": {},
   "outputs": [
    {
     "data": {
      "application/vnd.microsoft.datawrangler.viewer.v0+json": {
       "columns": [
        {
         "name": "index",
         "rawType": "int64",
         "type": "integer"
        },
        {
         "name": "employee_id",
         "rawType": "object",
         "type": "string"
        },
        {
         "name": "name",
         "rawType": "object",
         "type": "string"
        },
        {
         "name": "total_sales",
         "rawType": "int64",
         "type": "integer"
        }
       ],
       "ref": "51d90fc5-5f2c-418f-b1bf-1d633dda4447",
       "rows": [
        [
         "0",
         "3",
         "Alice Bees",
         "23456"
        ],
        [
         "1",
         "4",
         "Tim Horton",
         "2512"
        ]
       ],
       "shape": {
        "columns": 3,
        "rows": 2
       }
      },
      "text/html": [
       "<div>\n",
       "<style scoped>\n",
       "    .dataframe tbody tr th:only-of-type {\n",
       "        vertical-align: middle;\n",
       "    }\n",
       "\n",
       "    .dataframe tbody tr th {\n",
       "        vertical-align: top;\n",
       "    }\n",
       "\n",
       "    .dataframe thead th {\n",
       "        text-align: right;\n",
       "    }\n",
       "</style>\n",
       "<table border=\"1\" class=\"dataframe\">\n",
       "  <thead>\n",
       "    <tr style=\"text-align: right;\">\n",
       "      <th></th>\n",
       "      <th>employee_id</th>\n",
       "      <th>name</th>\n",
       "      <th>total_sales</th>\n",
       "    </tr>\n",
       "  </thead>\n",
       "  <tbody>\n",
       "    <tr>\n",
       "      <th>0</th>\n",
       "      <td>3</td>\n",
       "      <td>Alice Bees</td>\n",
       "      <td>23456</td>\n",
       "    </tr>\n",
       "    <tr>\n",
       "      <th>1</th>\n",
       "      <td>4</td>\n",
       "      <td>Tim Horton</td>\n",
       "      <td>2512</td>\n",
       "    </tr>\n",
       "  </tbody>\n",
       "</table>\n",
       "</div>"
      ],
      "text/plain": [
       "  employee_id        name  total_sales\n",
       "0           3  Alice Bees        23456\n",
       "1           4  Tim Horton         2512"
      ]
     },
     "execution_count": 101,
     "metadata": {},
     "output_type": "execute_result"
    }
   ],
   "source": [
    "import pandas as pd\n",
    "\n",
    "# Créer un DataFrame employés\n",
    "employee_data = {\n",
    "    'employee_id': ['1', '2', '3', '4'],\n",
    "    'name': ['Amy Jones', 'Allen Keys', 'Alice Bees', 'Tim Horton']\n",
    "}\n",
    "dataframe_employees = pd.DataFrame(employee_data)\n",
    "\n",
    "# Créer un DataFrame ventes\n",
    "sales_data = {\n",
    "    'employee_id': ['3', '4', '5', '6'],\n",
    "    'total_sales': [23456, 2512, 2345, 1455]\n",
    "}\n",
    "dataframe_sales = pd.DataFrame(sales_data)\n",
    "\n",
    "# Fusionner les DataFrames par clé commune\n",
    "pd.merge(dataframe_employees, dataframe_sales, on='employee_id')"
   ]
  },
  {
   "cell_type": "markdown",
   "id": "fbd7e9e7",
   "metadata": {},
   "source": [
    "🔸 Jointure externe (outer join) : garder toutes les lignes"
   ]
  },
  {
   "cell_type": "code",
   "execution_count": 102,
   "id": "b02b110f",
   "metadata": {},
   "outputs": [
    {
     "data": {
      "application/vnd.microsoft.datawrangler.viewer.v0+json": {
       "columns": [
        {
         "name": "index",
         "rawType": "int64",
         "type": "integer"
        },
        {
         "name": "employee_id",
         "rawType": "object",
         "type": "string"
        },
        {
         "name": "name",
         "rawType": "object",
         "type": "unknown"
        },
        {
         "name": "total_sales",
         "rawType": "float64",
         "type": "float"
        }
       ],
       "ref": "ffbcb118-ecfa-43a7-9c24-c2568c59203a",
       "rows": [
        [
         "0",
         "1",
         "Amy Jones",
         null
        ],
        [
         "1",
         "2",
         "Allen Keys",
         null
        ],
        [
         "2",
         "3",
         "Alice Bees",
         "23456.0"
        ],
        [
         "3",
         "4",
         "Tim Horton",
         "2512.0"
        ],
        [
         "4",
         "5",
         null,
         "2345.0"
        ],
        [
         "5",
         "6",
         null,
         "1455.0"
        ]
       ],
       "shape": {
        "columns": 3,
        "rows": 6
       }
      },
      "text/html": [
       "<div>\n",
       "<style scoped>\n",
       "    .dataframe tbody tr th:only-of-type {\n",
       "        vertical-align: middle;\n",
       "    }\n",
       "\n",
       "    .dataframe tbody tr th {\n",
       "        vertical-align: top;\n",
       "    }\n",
       "\n",
       "    .dataframe thead th {\n",
       "        text-align: right;\n",
       "    }\n",
       "</style>\n",
       "<table border=\"1\" class=\"dataframe\">\n",
       "  <thead>\n",
       "    <tr style=\"text-align: right;\">\n",
       "      <th></th>\n",
       "      <th>employee_id</th>\n",
       "      <th>name</th>\n",
       "      <th>total_sales</th>\n",
       "    </tr>\n",
       "  </thead>\n",
       "  <tbody>\n",
       "    <tr>\n",
       "      <th>0</th>\n",
       "      <td>1</td>\n",
       "      <td>Amy Jones</td>\n",
       "      <td>NaN</td>\n",
       "    </tr>\n",
       "    <tr>\n",
       "      <th>1</th>\n",
       "      <td>2</td>\n",
       "      <td>Allen Keys</td>\n",
       "      <td>NaN</td>\n",
       "    </tr>\n",
       "    <tr>\n",
       "      <th>2</th>\n",
       "      <td>3</td>\n",
       "      <td>Alice Bees</td>\n",
       "      <td>23456.0</td>\n",
       "    </tr>\n",
       "    <tr>\n",
       "      <th>3</th>\n",
       "      <td>4</td>\n",
       "      <td>Tim Horton</td>\n",
       "      <td>2512.0</td>\n",
       "    </tr>\n",
       "    <tr>\n",
       "      <th>4</th>\n",
       "      <td>5</td>\n",
       "      <td>NaN</td>\n",
       "      <td>2345.0</td>\n",
       "    </tr>\n",
       "    <tr>\n",
       "      <th>5</th>\n",
       "      <td>6</td>\n",
       "      <td>NaN</td>\n",
       "      <td>1455.0</td>\n",
       "    </tr>\n",
       "  </tbody>\n",
       "</table>\n",
       "</div>"
      ],
      "text/plain": [
       "  employee_id        name  total_sales\n",
       "0           1   Amy Jones          NaN\n",
       "1           2  Allen Keys          NaN\n",
       "2           3  Alice Bees      23456.0\n",
       "3           4  Tim Horton       2512.0\n",
       "4           5         NaN       2345.0\n",
       "5           6         NaN       1455.0"
      ]
     },
     "execution_count": 102,
     "metadata": {},
     "output_type": "execute_result"
    }
   ],
   "source": [
    "pd.merge(dataframe_employees, dataframe_sales, on='employee_id', how='outer')"
   ]
  },
  {
   "cell_type": "markdown",
   "id": "f9a72252",
   "metadata": {},
   "source": [
    "🔸 Jointure à gauche (left join) : prioriser les données du DataFrame de gauche"
   ]
  },
  {
   "cell_type": "code",
   "execution_count": 103,
   "id": "9362db32",
   "metadata": {},
   "outputs": [
    {
     "data": {
      "application/vnd.microsoft.datawrangler.viewer.v0+json": {
       "columns": [
        {
         "name": "index",
         "rawType": "int64",
         "type": "integer"
        },
        {
         "name": "employee_id",
         "rawType": "object",
         "type": "string"
        },
        {
         "name": "name",
         "rawType": "object",
         "type": "string"
        },
        {
         "name": "total_sales",
         "rawType": "float64",
         "type": "float"
        }
       ],
       "ref": "89ba7a18-ec2f-4768-a418-a2f49055c260",
       "rows": [
        [
         "0",
         "1",
         "Amy Jones",
         null
        ],
        [
         "1",
         "2",
         "Allen Keys",
         null
        ],
        [
         "2",
         "3",
         "Alice Bees",
         "23456.0"
        ],
        [
         "3",
         "4",
         "Tim Horton",
         "2512.0"
        ]
       ],
       "shape": {
        "columns": 3,
        "rows": 4
       }
      },
      "text/html": [
       "<div>\n",
       "<style scoped>\n",
       "    .dataframe tbody tr th:only-of-type {\n",
       "        vertical-align: middle;\n",
       "    }\n",
       "\n",
       "    .dataframe tbody tr th {\n",
       "        vertical-align: top;\n",
       "    }\n",
       "\n",
       "    .dataframe thead th {\n",
       "        text-align: right;\n",
       "    }\n",
       "</style>\n",
       "<table border=\"1\" class=\"dataframe\">\n",
       "  <thead>\n",
       "    <tr style=\"text-align: right;\">\n",
       "      <th></th>\n",
       "      <th>employee_id</th>\n",
       "      <th>name</th>\n",
       "      <th>total_sales</th>\n",
       "    </tr>\n",
       "  </thead>\n",
       "  <tbody>\n",
       "    <tr>\n",
       "      <th>0</th>\n",
       "      <td>1</td>\n",
       "      <td>Amy Jones</td>\n",
       "      <td>NaN</td>\n",
       "    </tr>\n",
       "    <tr>\n",
       "      <th>1</th>\n",
       "      <td>2</td>\n",
       "      <td>Allen Keys</td>\n",
       "      <td>NaN</td>\n",
       "    </tr>\n",
       "    <tr>\n",
       "      <th>2</th>\n",
       "      <td>3</td>\n",
       "      <td>Alice Bees</td>\n",
       "      <td>23456.0</td>\n",
       "    </tr>\n",
       "    <tr>\n",
       "      <th>3</th>\n",
       "      <td>4</td>\n",
       "      <td>Tim Horton</td>\n",
       "      <td>2512.0</td>\n",
       "    </tr>\n",
       "  </tbody>\n",
       "</table>\n",
       "</div>"
      ],
      "text/plain": [
       "  employee_id        name  total_sales\n",
       "0           1   Amy Jones          NaN\n",
       "1           2  Allen Keys          NaN\n",
       "2           3  Alice Bees      23456.0\n",
       "3           4  Tim Horton       2512.0"
      ]
     },
     "execution_count": 103,
     "metadata": {},
     "output_type": "execute_result"
    }
   ],
   "source": [
    "pd.merge(dataframe_employees, dataframe_sales, on='employee_id', how='left')"
   ]
  },
  {
   "cell_type": "markdown",
   "id": "14a640d8",
   "metadata": {},
   "source": [
    "🔸 Jointure à droite (right join) : prioriser les données du DataFrame de droite"
   ]
  },
  {
   "cell_type": "code",
   "execution_count": 104,
   "id": "ba408cf0",
   "metadata": {},
   "outputs": [
    {
     "data": {
      "application/vnd.microsoft.datawrangler.viewer.v0+json": {
       "columns": [
        {
         "name": "index",
         "rawType": "int64",
         "type": "integer"
        },
        {
         "name": "employee_id",
         "rawType": "object",
         "type": "string"
        },
        {
         "name": "name",
         "rawType": "object",
         "type": "unknown"
        },
        {
         "name": "total_sales",
         "rawType": "int64",
         "type": "integer"
        }
       ],
       "ref": "b12ace44-2353-4e4f-9062-7d1a553479ec",
       "rows": [
        [
         "0",
         "3",
         "Alice Bees",
         "23456"
        ],
        [
         "1",
         "4",
         "Tim Horton",
         "2512"
        ],
        [
         "2",
         "5",
         null,
         "2345"
        ],
        [
         "3",
         "6",
         null,
         "1455"
        ]
       ],
       "shape": {
        "columns": 3,
        "rows": 4
       }
      },
      "text/html": [
       "<div>\n",
       "<style scoped>\n",
       "    .dataframe tbody tr th:only-of-type {\n",
       "        vertical-align: middle;\n",
       "    }\n",
       "\n",
       "    .dataframe tbody tr th {\n",
       "        vertical-align: top;\n",
       "    }\n",
       "\n",
       "    .dataframe thead th {\n",
       "        text-align: right;\n",
       "    }\n",
       "</style>\n",
       "<table border=\"1\" class=\"dataframe\">\n",
       "  <thead>\n",
       "    <tr style=\"text-align: right;\">\n",
       "      <th></th>\n",
       "      <th>employee_id</th>\n",
       "      <th>name</th>\n",
       "      <th>total_sales</th>\n",
       "    </tr>\n",
       "  </thead>\n",
       "  <tbody>\n",
       "    <tr>\n",
       "      <th>0</th>\n",
       "      <td>3</td>\n",
       "      <td>Alice Bees</td>\n",
       "      <td>23456</td>\n",
       "    </tr>\n",
       "    <tr>\n",
       "      <th>1</th>\n",
       "      <td>4</td>\n",
       "      <td>Tim Horton</td>\n",
       "      <td>2512</td>\n",
       "    </tr>\n",
       "    <tr>\n",
       "      <th>2</th>\n",
       "      <td>5</td>\n",
       "      <td>NaN</td>\n",
       "      <td>2345</td>\n",
       "    </tr>\n",
       "    <tr>\n",
       "      <th>3</th>\n",
       "      <td>6</td>\n",
       "      <td>NaN</td>\n",
       "      <td>1455</td>\n",
       "    </tr>\n",
       "  </tbody>\n",
       "</table>\n",
       "</div>"
      ],
      "text/plain": [
       "  employee_id        name  total_sales\n",
       "0           3  Alice Bees        23456\n",
       "1           4  Tim Horton         2512\n",
       "2           5         NaN         2345\n",
       "3           6         NaN         1455"
      ]
     },
     "execution_count": 104,
     "metadata": {},
     "output_type": "execute_result"
    }
   ],
   "source": [
    "pd.merge(dataframe_employees, dataframe_sales, on='employee_id', how='right')"
   ]
  },
  {
   "cell_type": "markdown",
   "id": "d4eca4f3",
   "metadata": {},
   "source": [
    "🔁 Fusion avec colonnes différentes (mais correspondantes)"
   ]
  },
  {
   "cell_type": "code",
   "execution_count": 105,
   "id": "1ebdd204",
   "metadata": {},
   "outputs": [
    {
     "data": {
      "application/vnd.microsoft.datawrangler.viewer.v0+json": {
       "columns": [
        {
         "name": "index",
         "rawType": "int64",
         "type": "integer"
        },
        {
         "name": "employee_id",
         "rawType": "object",
         "type": "string"
        },
        {
         "name": "name",
         "rawType": "object",
         "type": "string"
        },
        {
         "name": "total_sales",
         "rawType": "int64",
         "type": "integer"
        }
       ],
       "ref": "515a82e6-d4fe-4b12-87c5-f1043b3e7024",
       "rows": [
        [
         "0",
         "3",
         "Alice Bees",
         "23456"
        ],
        [
         "1",
         "4",
         "Tim Horton",
         "2512"
        ]
       ],
       "shape": {
        "columns": 3,
        "rows": 2
       }
      },
      "text/html": [
       "<div>\n",
       "<style scoped>\n",
       "    .dataframe tbody tr th:only-of-type {\n",
       "        vertical-align: middle;\n",
       "    }\n",
       "\n",
       "    .dataframe tbody tr th {\n",
       "        vertical-align: top;\n",
       "    }\n",
       "\n",
       "    .dataframe thead th {\n",
       "        text-align: right;\n",
       "    }\n",
       "</style>\n",
       "<table border=\"1\" class=\"dataframe\">\n",
       "  <thead>\n",
       "    <tr style=\"text-align: right;\">\n",
       "      <th></th>\n",
       "      <th>employee_id</th>\n",
       "      <th>name</th>\n",
       "      <th>total_sales</th>\n",
       "    </tr>\n",
       "  </thead>\n",
       "  <tbody>\n",
       "    <tr>\n",
       "      <th>0</th>\n",
       "      <td>3</td>\n",
       "      <td>Alice Bees</td>\n",
       "      <td>23456</td>\n",
       "    </tr>\n",
       "    <tr>\n",
       "      <th>1</th>\n",
       "      <td>4</td>\n",
       "      <td>Tim Horton</td>\n",
       "      <td>2512</td>\n",
       "    </tr>\n",
       "  </tbody>\n",
       "</table>\n",
       "</div>"
      ],
      "text/plain": [
       "  employee_id        name  total_sales\n",
       "0           3  Alice Bees        23456\n",
       "1           4  Tim Horton         2512"
      ]
     },
     "execution_count": 105,
     "metadata": {},
     "output_type": "execute_result"
    }
   ],
   "source": [
    "pd.merge(\n",
    "    dataframe_employees,\n",
    "    dataframe_sales,\n",
    "    left_on='employee_id',\n",
    "    right_on='employee_id'\n",
    ")"
   ]
  },
  {
   "cell_type": "markdown",
   "id": "e0193e6a",
   "metadata": {},
   "source": [
    "✔️ Même résultat que on=\"employee_id\" si les noms de colonnes sont identiques.\n",
    "\n",
    "🧱 Fusion sur les index plutôt que sur les colonnes"
   ]
  },
  {
   "cell_type": "code",
   "execution_count": 106,
   "id": "aa6f69f6",
   "metadata": {},
   "outputs": [
    {
     "data": {
      "application/vnd.microsoft.datawrangler.viewer.v0+json": {
       "columns": [
        {
         "name": "employee_id",
         "rawType": "object",
         "type": "string"
        },
        {
         "name": "name",
         "rawType": "object",
         "type": "string"
        },
        {
         "name": "total_sales",
         "rawType": "int64",
         "type": "integer"
        }
       ],
       "ref": "0694cb65-bc16-40ef-bc30-904b67f658bc",
       "rows": [
        [
         "3",
         "Alice Bees",
         "23456"
        ],
        [
         "4",
         "Tim Horton",
         "2512"
        ]
       ],
       "shape": {
        "columns": 2,
        "rows": 2
       }
      },
      "text/html": [
       "<div>\n",
       "<style scoped>\n",
       "    .dataframe tbody tr th:only-of-type {\n",
       "        vertical-align: middle;\n",
       "    }\n",
       "\n",
       "    .dataframe tbody tr th {\n",
       "        vertical-align: top;\n",
       "    }\n",
       "\n",
       "    .dataframe thead th {\n",
       "        text-align: right;\n",
       "    }\n",
       "</style>\n",
       "<table border=\"1\" class=\"dataframe\">\n",
       "  <thead>\n",
       "    <tr style=\"text-align: right;\">\n",
       "      <th></th>\n",
       "      <th>name</th>\n",
       "      <th>total_sales</th>\n",
       "    </tr>\n",
       "    <tr>\n",
       "      <th>employee_id</th>\n",
       "      <th></th>\n",
       "      <th></th>\n",
       "    </tr>\n",
       "  </thead>\n",
       "  <tbody>\n",
       "    <tr>\n",
       "      <th>3</th>\n",
       "      <td>Alice Bees</td>\n",
       "      <td>23456</td>\n",
       "    </tr>\n",
       "    <tr>\n",
       "      <th>4</th>\n",
       "      <td>Tim Horton</td>\n",
       "      <td>2512</td>\n",
       "    </tr>\n",
       "  </tbody>\n",
       "</table>\n",
       "</div>"
      ],
      "text/plain": [
       "                   name  total_sales\n",
       "employee_id                         \n",
       "3            Alice Bees        23456\n",
       "4            Tim Horton         2512"
      ]
     },
     "execution_count": 106,
     "metadata": {},
     "output_type": "execute_result"
    }
   ],
   "source": [
    "pd.merge(\n",
    "    dataframe_employees.set_index('employee_id'),\n",
    "    dataframe_sales.set_index('employee_id'),\n",
    "    left_index=True,\n",
    "    right_index=True\n",
    ")"
   ]
  },
  {
   "cell_type": "markdown",
   "id": "3077f6ab",
   "metadata": {},
   "source": [
    "🧠 \n",
    "\n",
    "La fusion avec ``merge()`` est essentielle pour :\n",
    "- Rassembler des données provenant de sources différentes\n",
    "- Simuler des opérations de jointure SQL dans pandas\n",
    "- Gérer des cas de correspondances partielles ou complètes\n",
    "\n",
    "| Type de jointure | Ce que vous obtenez | \n",
    "|-----------------|----------------------|\n",
    "| ``inner`` | Seulement les valeurs communes | \n",
    "|``outer`` | Toutes les lignes avec des NaN pour les absents | \n",
    "| ``left`` | Toutes les lignes du DataFrame gauche | \n",
    "| ``right`` | Toutes les lignes du DataFrame droit | "
   ]
  }
 ],
 "metadata": {
  "kernelspec": {
   "display_name": ".venv",
   "language": "python",
   "name": "python3"
  },
  "language_info": {
   "codemirror_mode": {
    "name": "ipython",
    "version": 3
   },
   "file_extension": ".py",
   "mimetype": "text/x-python",
   "name": "python",
   "nbconvert_exporter": "python",
   "pygments_lexer": "ipython3",
   "version": "3.13.5"
  }
 },
 "nbformat": 4,
 "nbformat_minor": 5
}
