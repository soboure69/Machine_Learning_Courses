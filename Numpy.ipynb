{
 "cells": [
  {
   "cell_type": "markdown",
   "id": "9dd53d84",
   "metadata": {},
   "source": [
    "Travailler avec des vecteurs, des matrices et des tableaux dans NumPy"
   ]
  },
  {
   "cell_type": "markdown",
   "id": "cdedef23",
   "metadata": {},
   "source": [
    "# Introduction\n",
    "NumPy est un outil fondamental de la pile Python de machine learning. Il permet d'effectuer des opérations efficaces sur les structures de données fréquemment utilisées en machine learning : vecteurs, matrices et tenseurs. Ce chapitre aborde les opérations NumPy les plus courantes que nous sommes susceptibles de rencontrer lors de nos travaux de machine learning."
   ]
  },
  {
   "cell_type": "markdown",
   "id": "eafafdb0",
   "metadata": {},
   "source": [
    "# Installation et chargement de NumPy"
   ]
  },
  {
   "cell_type": "code",
   "execution_count": 2,
   "id": "708c77fa",
   "metadata": {},
   "outputs": [],
   "source": [
    "#Installation et import\n",
    "#!pip install numpy\n",
    "import numpy as np\n"
   ]
  },
  {
   "cell_type": "markdown",
   "id": "bf3d8d98",
   "metadata": {},
   "source": [
    "# Création d’un vecteur\n",
    "\n",
    "On veut créer un vecteur.\n",
    "\n",
    "Pour ce faire, on utilise NumPy pour créer un tableau unidimensionnel :\n"
   ]
  },
  {
   "cell_type": "code",
   "execution_count": 7,
   "id": "5a629e78",
   "metadata": {},
   "outputs": [],
   "source": [
    "# Créer un vecteur comme une ligne\n",
    "vecteur_ligne = np.array([1, 2, 3])\n",
    "\n",
    "# Créer un vecteur comme une colonne\n",
    "vecteur_colonne = np.array([[1],\n",
    "                            [2],\n",
    "                            [3]])"
   ]
  },
  {
   "cell_type": "markdown",
   "id": "b0a94a34",
   "metadata": {},
   "source": [
    "La principale structure de données de NumPy est le tableau multidimensionnel. Un vecteur est simplement un tableau avec une seule dimension.\n",
    "Pour créer un vecteur, on crée donc un tableau unidimensionnel.\n",
    "Comme les vecteurs, ces tableaux peuvent être représentés horizontalement (c’est-à-dire en lignes) ou verticalement (c’est-à-dire en colonnes).\n"
   ]
  },
  {
   "cell_type": "markdown",
   "id": "70d44246",
   "metadata": {},
   "source": [
    "# Création d’une matrice\n",
    "\n",
    "On souhaite créer une matrice.\n",
    "\n",
    "Pour cela, on utilise NumPy pour créer un tableau à deux dimensions :\n"
   ]
  },
  {
   "cell_type": "code",
   "execution_count": 8,
   "id": "c841aa76",
   "metadata": {},
   "outputs": [],
   "source": [
    "# Créer une matrice\n",
    "matrice = np.array([[1, 2],\n",
    "                    [1, 2],\n",
    "                    [1, 2]])"
   ]
  },
  {
   "cell_type": "markdown",
   "id": "ed45f8aa",
   "metadata": {},
   "source": [
    "Pour créer une matrice, on peut utiliser un tableau à deux dimensions avec NumPy.\n",
    "Dans notre exemple, la matrice contient trois lignes et deux colonnes (une colonne de 1 et une colonne de 2).\n",
    "NumPy possède en réalité une structure de données spécifique pour les matrices :\n",
    "````python\n",
    "matrice_objet = np.mat([[1, 2],\n",
    "                        [1, 2],\n",
    "                        [1, 2]])\n",
    "````\n",
    "\n",
    "Ce qui donnerait :\n",
    "```\n",
    "matrix([[1, 2],\n",
    "        [1, 2],\n",
    "        [1, 2]])\n",
    "```\n",
    "\n",
    "Cependant, cette structure pour les matrices n’est pas recommandée pour deux raisons :\n",
    "- Les tableaux (array) sont la structure de données standard utilisée dans NumPy.\n",
    "- La grande majorité des opérations effectuées avec NumPy retournent des tableaux, et non des objets matrix.\n",
    "\n"
   ]
  },
  {
   "cell_type": "markdown",
   "id": "52f3b784",
   "metadata": {},
   "source": [
    "# Création d’une matrice creuse\n",
    "\n",
    "On dispose de données avec très peu de valeurs non nulles et on veut les représenter efficacement.\n",
    "\n",
    "On crée donc une matrice creuse :\n"
   ]
  },
  {
   "cell_type": "code",
   "execution_count": null,
   "id": "61a3ede4",
   "metadata": {},
   "outputs": [
    {
     "name": "stdout",
     "output_type": "stream",
     "text": [
      "Requirement already satisfied: scipy in c:\\users\\bello\\documents\\machine_learning_courses\\.venv\\lib\\site-packages (1.16.0)\n",
      "Requirement already satisfied: numpy<2.6,>=1.25.2 in c:\\users\\bello\\documents\\machine_learning_courses\\.venv\\lib\\site-packages (from scipy) (2.3.1)\n"
     ]
    }
   ],
   "source": [
    "#!pip install scipy"
   ]
  },
  {
   "cell_type": "code",
   "execution_count": 14,
   "id": "3e5da115",
   "metadata": {},
   "outputs": [],
   "source": [
    "# chager la bibliothèque sparse de scipy pour travailler avec des matrices creuses (sparse matrices)\n",
    "from scipy import sparse\n",
    "\n",
    "# Créer une matrice\n",
    "matrice = np.array([[0, 0],\n",
    "                    [0, 1],\n",
    "                    [3, 0]])\n",
    "\n",
    "# Créer une matrice creuse au format CSR (Compressed Sparse Row)\n",
    "matrice_creuse = sparse.csr_matrix(matrice)"
   ]
  },
  {
   "cell_type": "code",
   "execution_count": 15,
   "id": "75037cfa",
   "metadata": {},
   "outputs": [
    {
     "name": "stdout",
     "output_type": "stream",
     "text": [
      "<Compressed Sparse Row sparse matrix of dtype 'int64'\n",
      "\twith 2 stored elements and shape (3, 2)>\n",
      "  Coords\tValues\n",
      "  (1, 1)\t1\n",
      "  (2, 0)\t3\n"
     ]
    }
   ],
   "source": [
    "print(matrice_creuse)"
   ]
  },
  {
   "cell_type": "markdown",
   "id": "357fcf6d",
   "metadata": {},
   "source": [
    "En apprentissage automatique, on rencontre souvent de très grandes quantités de données, dont la majorité des éléments sont des zéros.\n",
    "\n",
    "Par exemple, imaginons une matrice où les colonnes représentent tous les films disponibles sur Netflix, les lignes représentent les utilisateurs, et chaque valeur indique combien de fois un utilisateur a regardé un film donné.\n",
    "La matrice aurait des dizaines de milliers de colonnes et des millions de lignes ! Mais comme la plupart des gens ne regardent qu’une petite fraction de ces films, l’immense majorité des valeurs serait nulle.\n",
    "\n",
    "Une matrice creuse est une matrice dans laquelle la plupart des éléments sont à zéro. Ces matrices ne stockent que les valeurs non nulles et supposent que les autres sont des zéros, ce qui permet de gagner en mémoire et en performance.\n",
    "\n",
    "Dans l’exemple ci-dessus, nous avons créé une matrice NumPy avec deux éléments non nuls, puis nous l’avons convertie en matrice creuse. \n",
    "Si on affiche cette matrice :\n",
    "\n",
    "````python\n",
    "print(matrice_creuse)\n",
    "````\n",
    "\n",
    "Cela donne :\n",
    "````\n",
    "  (1, 1)\t1\n",
    "  (2, 0)\t3\n",
    "````\n",
    "\n",
    "Cela signifie que seuls les éléments non nuls sont stockés :\n",
    "- Le 1 est à l’indice (1, 1) — deuxième ligne, deuxième colonne\n",
    "- Le 3 est à l’indice (2, 0) — troisième ligne, première colonne\n",
    "\n",
    "**Comparaison avec une matrice plus grande**\n",
    "\n",
    "Si on crée une matrice plus grande, avec beaucoup plus de zéros :\n",
    "\n",
    "````python\n",
    "matrice_large = np.array([[0, 0, 0, 0, 0, 0, 0, 0, 0, 0],\n",
    "                          [0, 1, 0, 0, 0, 0, 0, 0, 0, 0],\n",
    "                          [3, 0, 0, 0, 0, 0, 0, 0, 0, 0]])\n",
    "\n",
    "matrice_large_creuse = sparse.csr_matrix(matrice_large)\n",
    "\n",
    "print(matrice_large_creuse)\n",
    "````\n",
    "\n",
    "On obtient :\n",
    "````\n",
    "  (1, 1)\t1\n",
    "  (2, 0)\t3\n",
    "````\n",
    "\n",
    "Même avec davantage de colonnes et de zéros, la représentation creuse est identique. Cela montre bien l’intérêt de ce type de structure : la taille en mémoire reste la même tant que les éléments non nuls ne changent pas.\n",
    "\n",
    "**Types de matrices creuses**\n",
    "\n",
    "Il existe plusieurs formats de matrices creuses, parmi lesquels :\n",
    "- CSR (Compressed Sparse Row)\n",
    "- CSC (Compressed Sparse Column)\n",
    "- Liste de listes (lil)\n",
    "- Dictionnaire de clés (dok)\n",
    "\n",
    "Chaque format a ses avantages et inconvénients. Il n’y a pas de « meilleur » format universel, mais il est important de choisir en fonction du contexte et des opérations à effectuer.\n"
   ]
  },
  {
   "cell_type": "markdown",
   "id": "41c0e2dd",
   "metadata": {},
   "source": [
    "# Préallocation de tableaux NumPy\n",
    "\n",
    "On est amener à préallouer des tableaux d’une taille donnée avec une certaine valeur.\n",
    "\n",
    "NumPy propose des fonctions pour générer des vecteurs et des matrices de n’importe quelle taille contenant des zéros, des uns, ou la valeur de au choix :\n"
   ]
  },
  {
   "cell_type": "code",
   "execution_count": 19,
   "id": "dfe9d682",
   "metadata": {},
   "outputs": [
    {
     "name": "stdout",
     "output_type": "stream",
     "text": [
      "Résultat de np.zeros(shape=5) : \n",
      "[0. 0. 0. 0. 0.]\n"
     ]
    }
   ],
   "source": [
    "# Charger la bibliothèque\n",
    "import numpy as np\n",
    "\n",
    "# Générer un vecteur de forme (1,5) contenant uniquement des zéros\n",
    "vecteur = np.zeros(shape=5)\n",
    "\n",
    "# Afficher le vecteur\n",
    "print(\"Résultat de np.zeros(shape=5) : \")\n",
    "print(vecteur)\n",
    "\n"
   ]
  },
  {
   "cell_type": "code",
   "execution_count": null,
   "id": "c94c5123",
   "metadata": {},
   "outputs": [
    {
     "name": "stdout",
     "output_type": "stream",
     "text": [
      "Résultat de np.full(shape=(3,3), fill_value=1) : \n",
      "[[1 1 1]\n",
      " [1 1 1]\n",
      " [1 1 1]]\n"
     ]
    }
   ],
   "source": [
    "# Générer une matrice de forme (3,3) contenant uniquement des uns\n",
    "matrice = np.full(shape=(3,3), fill_value=1)\n",
    "\n",
    "# Afficher la matrice\n",
    "print(\"Résultat de np.full(shape=(3,3), fill_value=1) : \")\n",
    "print(matrice)"
   ]
  },
  {
   "cell_type": "markdown",
   "id": "95bf7b07",
   "metadata": {},
   "source": [
    "Générer des tableaux préremplis avec des données est utile dans plusieurs cas, comme :\n",
    "- Améliorer les performances du code\n",
    "- Créer des données synthétiques pour tester des algorithmes\n",
    "Dans de nombreux langages de programmation, préallouer un tableau avec des valeurs par défaut (comme des zéros) est une pratique courante pour rendre le code plus stable et plus rapide.\n"
   ]
  },
  {
   "cell_type": "markdown",
   "id": "ca6d88c3",
   "metadata": {},
   "source": [
    "# Sélection d’éléments\n",
    "\n",
    "On souhaite sélectionner un ou plusieurs éléments dans un vecteur ou une matrice.\n",
    "\n",
    "Pour ce faire, les tableaux NumPy rendent la sélection d’éléments très simple :\n"
   ]
  },
  {
   "cell_type": "code",
   "execution_count": 22,
   "id": "40d6d0e6",
   "metadata": {},
   "outputs": [
    {
     "data": {
      "text/plain": [
       "np.int64(3)"
      ]
     },
     "execution_count": 22,
     "metadata": {},
     "output_type": "execute_result"
    }
   ],
   "source": [
    "# Créer un vecteur ligne\n",
    "vecteur = np.array([1, 2, 3, 4, 5, 6])\n",
    "\n",
    "# Sélectionner le troisième élément du vecteur\n",
    "vecteur[2]  # Résultat : 3"
   ]
  },
  {
   "cell_type": "code",
   "execution_count": 23,
   "id": "40a1c315",
   "metadata": {},
   "outputs": [
    {
     "data": {
      "text/plain": [
       "np.int64(5)"
      ]
     },
     "execution_count": 23,
     "metadata": {},
     "output_type": "execute_result"
    }
   ],
   "source": [
    "# Créer une matrice\n",
    "matrice = np.array([[1, 2, 3],\n",
    "                    [4, 5, 6],\n",
    "                    [7, 8, 9]])\n",
    "\n",
    "# Sélectionner l’élément de la deuxième ligne, deuxième colonne\n",
    "matrice[1, 1]  # Résultat : 5"
   ]
  },
  {
   "cell_type": "markdown",
   "id": "f16e9f38",
   "metadata": {},
   "source": [
    "Comme dans la majorité des cas en Python, les tableaux NumPy sont indexés à partir de zéro, c’est-à-dire que le premier élément a l’indice 0.\n",
    "NumPy offre une grande variété de méthodes pour sélectionner (indexer et découper) des éléments ou groupes d’éléments :\n",
    "````python\n",
    "# Sélectionner tous les éléments d’un vecteur\n",
    "vecteur[:]  # array([1, 2, 3, 4, 5, 6])\n",
    "\n",
    "# Sélectionner tout jusqu’au troisième élément inclus\n",
    "vecteur[:3]  # array([1, 2, 3])\n",
    "\n",
    "# Sélectionner tout à partir du quatrième élément\n",
    "vecteur[3:]  # array([4, 5, 6])\n",
    "\n",
    "# Sélectionner le dernier élément\n",
    "vecteur[-1]  # 6\n",
    "\n",
    "# Inverser le vecteur\n",
    "vecteur[::-1]  # array([6, 5, 4, 3, 2, 1])\n",
    "\n",
    "# Sélectionner les deux premières lignes et toutes les colonnes de la matrice\n",
    "matrice[:2, :]  \n",
    "# Résultat : array([[1, 2, 3],\n",
    "#                  [4, 5, 6]])\n",
    "\n",
    "# Sélectionner toutes les lignes et la deuxième colonne\n",
    "matrice[:, 1:2]  \n",
    "# Résultat : array([[2],\n",
    "#                  [5],\n",
    "#                  [8]])\n",
    "````\n",
    " 🧠📐\n"
   ]
  },
  {
   "cell_type": "markdown",
   "id": "cffe1b39",
   "metadata": {},
   "source": [
    "# Description d’une matrice\n",
    "\n",
    "On veut connaître la forme, la taille et les dimensions d’une matrice.\n",
    "\n",
    "On utilise les attributs ``shape``, ``size`` et ``ndim`` d’un objet NumPy :\n"
   ]
  },
  {
   "cell_type": "code",
   "execution_count": 24,
   "id": "23f8553f",
   "metadata": {},
   "outputs": [
    {
     "data": {
      "text/plain": [
       "(3, 4)"
      ]
     },
     "execution_count": 24,
     "metadata": {},
     "output_type": "execute_result"
    }
   ],
   "source": [
    "# Créer une matrice\n",
    "matrice = np.array([[1, 2, 3, 4],\n",
    "                    [5, 6, 7, 8],\n",
    "                    [9, 10, 11, 12]])\n",
    "\n",
    "# Afficher le nombre de lignes et de colonnes\n",
    "matrice.shape  # Résultat : (3, 4)"
   ]
  },
  {
   "cell_type": "code",
   "execution_count": 25,
   "id": "62ab52f2",
   "metadata": {},
   "outputs": [
    {
     "data": {
      "text/plain": [
       "12"
      ]
     },
     "execution_count": 25,
     "metadata": {},
     "output_type": "execute_result"
    }
   ],
   "source": [
    "# Afficher le nombre total d’éléments (lignes × colonnes)\n",
    "matrice.size  # Résultat : 12"
   ]
  },
  {
   "cell_type": "code",
   "execution_count": 26,
   "id": "c6bffc20",
   "metadata": {},
   "outputs": [
    {
     "data": {
      "text/plain": [
       "2"
      ]
     },
     "execution_count": 26,
     "metadata": {},
     "output_type": "execute_result"
    }
   ],
   "source": [
    "# Afficher le nombre de dimensions\n",
    "matrice.ndim  # Résultat : 2"
   ]
  },
  {
   "cell_type": "markdown",
   "id": "8b2cbefb",
   "metadata": {},
   "source": [
    "Cela peut paraître basique (et ça l’est), mais c’est extrêmement utile pour :\n",
    "- vérifier la cohérence des opérations qu'on fais sur les matrices\n",
    "- comprendre la structure des données\n",
    "- anticiper les erreurs liées à des formes incompatibles\n",
    "Que ce soit en phase de débogage, de préparation de données, ou simplement en train de valider les calculs, ces attributs sont des alliés précieux dans l’univers de NumPy.\n"
   ]
  },
  {
   "cell_type": "markdown",
   "id": "badb26a1",
   "metadata": {},
   "source": [
    "# Application de fonctions à chaque élément\n",
    "\n",
    "On veut appliquer une fonction à tous les éléments d’un tableau.\n",
    "\n",
    "On utilise la méthode vectorize de NumPy :\n"
   ]
  },
  {
   "cell_type": "code",
   "execution_count": 27,
   "id": "29f3ee82",
   "metadata": {},
   "outputs": [
    {
     "data": {
      "text/plain": [
       "array([[101, 102, 103],\n",
       "       [104, 105, 106],\n",
       "       [107, 108, 109]])"
      ]
     },
     "execution_count": 27,
     "metadata": {},
     "output_type": "execute_result"
    }
   ],
   "source": [
    "# Créer une matrice\n",
    "matrice = np.array([[1, 2, 3],\n",
    "                    [4, 5, 6],\n",
    "                    [7, 8, 9]])\n",
    "\n",
    "# Créer une fonction qui ajoute 100 à un élément\n",
    "ajouter_100 = lambda i: i + 100\n",
    "\n",
    "# Créer une fonction vectorisée\n",
    "fonction_vectorisée = np.vectorize(ajouter_100)\n",
    "\n",
    "# Appliquer la fonction à tous les éléments de la matrice\n",
    "fonction_vectorisée(matrice)\n",
    "\n",
    "# Résultat :\n",
    "# array([[101, 102, 103],\n",
    "#        [104, 105, 106],\n",
    "#        [107, 108, 109]])"
   ]
  },
  {
   "cell_type": "markdown",
   "id": "403387a0",
   "metadata": {},
   "source": [
    "La méthode ``vectorize`` de NumPy permet de convertir une fonction en une fonction qui peut s’appliquer à chaque élément d’un tableau (ou d’un sous-tableau).\n",
    "Cependant, il est important de noter que ``vectorize`` fonctionne comme une boucle ``for`` sur les éléments et n’améliore pas les performances.\n",
    "\n",
    "NumPy permet aussi d’appliquer des opérations directement sur les tableaux, grâce à un mécanisme appelé **broadcasting**.\n",
    "\n",
    "Par exemple, on peut simplifier la solution précédente :\n",
    "````python\n",
    "# Ajouter 100 à tous les éléments\n",
    "matrice + 100\n",
    "\n",
    "# Résultat :\n",
    "# array([[101, 102, 103],\n",
    "#        [104, 105, 106],\n",
    "#        [107, 108, 109]])\n",
    "````\n",
    "\n",
    "🌀 Broadcasting ne fonctionne pas dans toutes les situations ni avec toutes les formes de tableaux, mais c’est une méthode courante et puissante pour effectuer des opérations simples sur chaque élément d’un tableau NumPy.\n",
    "\n",
    "💡🐍\n"
   ]
  },
  {
   "cell_type": "markdown",
   "id": "fa10dc60",
   "metadata": {},
   "source": [
    "# Trouver les valeurs maximale et minimale\n",
    "\n",
    "On souhaite avoir la valeur maximale ou minimale dans un tableau.\n",
    "\n",
    "On utilise les méthodes ``max`` et ``min`` de NumPy :\n"
   ]
  },
  {
   "cell_type": "code",
   "execution_count": 28,
   "id": "ff6706cf",
   "metadata": {},
   "outputs": [
    {
     "data": {
      "text/plain": [
       "np.int64(9)"
      ]
     },
     "execution_count": 28,
     "metadata": {},
     "output_type": "execute_result"
    }
   ],
   "source": [
    "# Créer une matrice\n",
    "matrice = np.array([[1, 2, 3],\n",
    "                    [4, 5, 6],\n",
    "                    [7, 8, 9]])\n",
    "\n",
    "# Retourner l’élément maximal\n",
    "np.max(matrice)  # Résultat : 9"
   ]
  },
  {
   "cell_type": "code",
   "execution_count": 29,
   "id": "62fa9eab",
   "metadata": {},
   "outputs": [
    {
     "data": {
      "text/plain": [
       "np.int64(1)"
      ]
     },
     "execution_count": 29,
     "metadata": {},
     "output_type": "execute_result"
    }
   ],
   "source": [
    "# Retourner l’élément minimal\n",
    "np.min(matrice)  # Résultat : 1"
   ]
  },
  {
   "cell_type": "markdown",
   "id": "d7a4edf4",
   "metadata": {},
   "source": [
    "Il est fréquent de vouloir connaître la valeur maximale ou minimale dans un tableau ou dans une portion du tableau. Pour cela, on utilise simplement les méthodes ``max`` et ``min``.\n",
    "\n",
    "Grâce au paramètre ``axis``, on peut appliquer ces opérations selon un axe particulier :\n",
    "````python\n",
    "# Trouver l’élément maximal de chaque colonne\n",
    "np.max(matrice, axis=0)  # Résultat : array([7, 8, 9])\n",
    "\n",
    "# Trouver l’élément maximal de chaque ligne\n",
    "np.max(matrice, axis=1)  # Résultat : array([3, 6, 9])\n",
    "````\n",
    "\n",
    "📌 À noter :\n",
    "- ``axis=0`` signifie qu’on applique la fonction verticalement, c’est-à-dire sur chaque colonne.\n",
    "- ``axis=1`` signifie qu’on applique la fonction horizontalement, c’est-à-dire sur chaque ligne.\n"
   ]
  },
  {
   "cell_type": "markdown",
   "id": "8c1ad470",
   "metadata": {},
   "source": [
    "# Calcul de la moyenne, de la variance et de l’écart type\n",
    "\n",
    "On veut calculer des statistiques descriptives sur un tableau.\n",
    "\n",
    "On utilise les fonctions ``mean``, ``var`` et ``std`` de NumPy :"
   ]
  },
  {
   "cell_type": "code",
   "execution_count": 30,
   "id": "8141613a",
   "metadata": {},
   "outputs": [
    {
     "data": {
      "text/plain": [
       "np.float64(5.0)"
      ]
     },
     "execution_count": 30,
     "metadata": {},
     "output_type": "execute_result"
    }
   ],
   "source": [
    "# Créer une matrice\n",
    "matrice = np.array([[1, 2, 3],\n",
    "                    [4, 5, 6],\n",
    "                    [7, 8, 9]])\n",
    "\n",
    "# Calculer la moyenne\n",
    "np.mean(matrice)  # Résultat : 5.0"
   ]
  },
  {
   "cell_type": "code",
   "execution_count": 31,
   "id": "d1de2eb9",
   "metadata": {},
   "outputs": [
    {
     "data": {
      "text/plain": [
       "np.float64(6.666666666666667)"
      ]
     },
     "execution_count": 31,
     "metadata": {},
     "output_type": "execute_result"
    }
   ],
   "source": [
    "# Calculer la variance\n",
    "np.var(matrice)  # Résultat : 6.666666666666667"
   ]
  },
  {
   "cell_type": "code",
   "execution_count": 32,
   "id": "bb77f103",
   "metadata": {},
   "outputs": [
    {
     "data": {
      "text/plain": [
       "np.float64(2.581988897471611)"
      ]
     },
     "execution_count": 32,
     "metadata": {},
     "output_type": "execute_result"
    }
   ],
   "source": [
    "# Calculer l’écart type\n",
    "np.std(matrice)  # Résultat : 2.5819888974716112"
   ]
  },
  {
   "cell_type": "markdown",
   "id": "65bb3e2a",
   "metadata": {},
   "source": [
    "Comme avec max et min, on peut facilement extraire des statistiques descriptives sur l’ensemble d’un tableau ou bien selon un axe spécifique :\n",
    "````python\n",
    "# Calculer la moyenne de chaque colonne\n",
    "np.mean(matrice, axis=0)  # Résultat : array([4., 5., 6.])\n",
    "````\n",
    "\n",
    "📌 Rappel utile :\n",
    "- ``axis=0`` applique l’opération colonne par colonne (verticalement).\n",
    "- ``axis=1`` l’applique ligne par ligne (horizontalement).\n"
   ]
  },
  {
   "cell_type": "markdown",
   "id": "ad7ea35f",
   "metadata": {},
   "source": [
    "# Remodeler des tableaux\n",
    "\n",
    "On veut modifier la forme (nombre de lignes et de colonnes) d’un tableau sans en changer les valeurs.\n",
    "\n",
    "Pour ce faire, on utilise la fonction ``reshape`` de NumPy :\n"
   ]
  },
  {
   "cell_type": "code",
   "execution_count": 33,
   "id": "8f80c1b0",
   "metadata": {},
   "outputs": [
    {
     "data": {
      "text/plain": [
       "array([[ 1,  2,  3,  4,  5,  6],\n",
       "       [ 7,  8,  9, 10, 11, 12]])"
      ]
     },
     "execution_count": 33,
     "metadata": {},
     "output_type": "execute_result"
    }
   ],
   "source": [
    "# Créer une matrice 4x3\n",
    "matrice = np.array([[1, 2, 3],\n",
    "                    [4, 5, 6],\n",
    "                    [7, 8, 9],\n",
    "                    [10, 11, 12]])\n",
    "\n",
    "# Remodeler la matrice en une matrice 2x6\n",
    "matrice.reshape(2, 6)\n",
    "\n",
    "# Résultat :\n",
    "# array([[ 1, 2, 3, 4, 5, 6],\n",
    "#        [ 7, 8, 9, 10, 11, 12]])"
   ]
  },
  {
   "cell_type": "markdown",
   "id": "b42ec783",
   "metadata": {},
   "source": [
    "La fonction reshape permet de restructurer un tableau, en conservant toutes les données mais en modifiant leur disposition (lignes et colonnes).\n",
    "\n",
    "📌 Condition importante :\n",
    "Le nombre d’éléments dans la matrice d’origine et la nouvelle forme doit être identique.\n",
    "On peut vérifier le nombre d’éléments avec :\n",
    "\n",
    "````python\n",
    "matrice.size  # Résultat : 12\n",
    "````\n",
    "\n",
    "Une option très pratique est d’utiliser -1 comme argument pour signifier « autant que nécessaire » :\n",
    "\n",
    "````python\n",
    "# Une ligne, autant de colonnes que nécessaire\n",
    "matrice.reshape(1, -1)\n",
    "\n",
    "# Résultat :\n",
    "# array([[ 1, 2, 3, 4, 5, 6, 7, 8, 9, 10, 11, 12]])\n",
    "````\n",
    "\n",
    "Et si tu donnes un seul entier, tu obtiens un tableau unidimensionnel :\n",
    "````python\n",
    "matrice.reshape(12)\n",
    "\n",
    "# Résultat :\n",
    "# array([ 1, 2, 3, 4, 5, 6, 7, 8, 9, 10, 11, 12])\n",
    "````"
   ]
  },
  {
   "cell_type": "markdown",
   "id": "d0d09866",
   "metadata": {},
   "source": [
    "# Transposer un vecteur ou une matrice\n",
    "\n",
    "On souhaite transposer un vecteur ou une matrice.\n",
    "\n",
    "On utilise donc la méthode ``.T`` :\n"
   ]
  },
  {
   "cell_type": "code",
   "execution_count": 34,
   "id": "4e371ea4",
   "metadata": {},
   "outputs": [
    {
     "data": {
      "text/plain": [
       "array([[1, 4, 7],\n",
       "       [2, 5, 8],\n",
       "       [3, 6, 9]])"
      ]
     },
     "execution_count": 34,
     "metadata": {},
     "output_type": "execute_result"
    }
   ],
   "source": [
    "# Créer une matrice\n",
    "matrice = np.array([[1, 2, 3],\n",
    "                    [4, 5, 6],\n",
    "                    [7, 8, 9]])\n",
    "\n",
    "# Transposer la matrice\n",
    "matrice.T\n",
    "\n",
    "# Résultat :\n",
    "# array([[1, 4, 7],\n",
    "#        [2, 5, 8],\n",
    "#        [3, 6, 9]])"
   ]
  },
  {
   "cell_type": "markdown",
   "id": "38165374",
   "metadata": {},
   "source": [
    "La transposition est une opération courante en algèbre linéaire qui consiste à échanger les lignes et les colonnes d’une matrice.\n",
    "\n",
    "📌 À savoir :\n",
    "\n",
    "Techniquement, un vecteur simple (comme ``np.array([1, 2, 3])``) ne peut pas être transposé car c’est simplement une liste de valeurs sans orientation (ni ligne ni colonne). Par exemple :\n",
    "\n",
    "````python\n",
    "# Transposer un vecteur simple\n",
    "np.array([1, 2, 3, 4, 5, 6]).T  # Résultat : array([1, 2, 3, 4, 5, 6])\n",
    "````\n",
    "\n",
    "Mais si on crée explicitement un vecteur ligne, on peut le transposer en vecteur colonne :\n",
    "\n",
    "````python\n",
    "# Transposer un vecteur ligne en vecteur colonne\n",
    "np.array([[1, 2, 3, 4, 5, 6]]).T\n",
    "\n",
    "# Résultat :\n",
    "# array([[1],\n",
    "#        [2],\n",
    "#        [3],\n",
    "#        [4],\n",
    "#        [5],\n",
    "#        [6]])\n",
    "````\n",
    "\n",
    "Et bien sûr, cela fonctionne aussi dans l’autre sens.\n"
   ]
  },
  {
   "cell_type": "markdown",
   "id": "cd810d39",
   "metadata": {},
   "source": [
    "# 🧮 Aplatir une matrice\n",
    "\n",
    "Il est question ici de transformer une matrice en tableau à une seule dimension.\n",
    "\n",
    "Pour cela, on utilise la méthode ``flatten`` :\n"
   ]
  },
  {
   "cell_type": "code",
   "execution_count": 3,
   "id": "6c83d9c5",
   "metadata": {},
   "outputs": [
    {
     "data": {
      "text/plain": [
       "array([1, 2, 3, 4, 5, 6, 7, 8, 9])"
      ]
     },
     "execution_count": 3,
     "metadata": {},
     "output_type": "execute_result"
    }
   ],
   "source": [
    "# Créer la matrice\n",
    "matrix = np.array([[1, 2, 3],\n",
    "                   [4, 5, 6],\n",
    "                   [7, 8, 9]])\n",
    "\n",
    "# Aplatir la matrice\n",
    "matrix.flatten()\n",
    "# Résultat : array([1, 2, 3, 4, 5, 6, 7, 8, 9])"
   ]
  },
  {
   "cell_type": "markdown",
   "id": "fd00d7ad",
   "metadata": {},
   "source": [
    "``flatten`` est une méthode simple qui permet de transformer une matrice en un tableau à une dimension.\n",
    "\n",
    "➡️ Alternativement, on peut utiliser ``reshape`` pour créer un vecteur ligne :\n",
    "````python\n",
    "matrix.reshape(1, -1)\n",
    "# Résultat : array([[1, 2, 3, 4, 5, 6, 7, 8, 9]])\n",
    "````\n",
    "\n",
    "➡️ Une autre méthode courante est ``ravel``. Contrairement à ``flatten``, qui retourne une copie du tableau original, ``ravel`` travaille directement sur l’objet existant, ce qui le rend légèrement plus rapide. Elle permet aussi d’aplatir une liste de tableaux, ce que ``flatten`` ne peut pas faire. Cette opération est donc utile pour les très grands tableaux et pour optimiser le code :\n",
    "\n",
    "````python\n",
    "# Créer une première matrice\n",
    "matrix_a = np.array([[1, 2],\n",
    "                     [3, 4]])\n",
    "\n",
    "# Créer une seconde matrice\n",
    "matrix_b = np.array([[5, 6],\n",
    "                     [7, 8]])\n",
    "\n",
    "# Créer une liste de matrices\n",
    "matrix_list = [matrix_a, matrix_b]\n",
    "\n",
    "# Aplatir toute la liste de matrices\n",
    "np.ravel(matrix_list)\n",
    "# Résultat : array([1, 2, 3, 4, 5, 6, 7, 8])\n",
    "\n",
    "````\n",
    "\n",
    "\n"
   ]
  },
  {
   "cell_type": "markdown",
   "id": "fe783162",
   "metadata": {},
   "source": [
    "# 📏 Déterminer le rang d'une matrice\n",
    "\n",
    "On est amener à connaître le rang d'une matrice.\n",
    "\n",
    "Pour cela , on utilise la méthode ``matrix_rank`` de l'algèbre linéaire de NumPy :\n"
   ]
  },
  {
   "cell_type": "code",
   "execution_count": 4,
   "id": "957aa896",
   "metadata": {},
   "outputs": [
    {
     "data": {
      "text/plain": [
       "np.int64(2)"
      ]
     },
     "execution_count": 4,
     "metadata": {},
     "output_type": "execute_result"
    }
   ],
   "source": [
    "# Créer la matrice\n",
    "matrix = np.array([[1, 1, 1],\n",
    "                   [1, 1, 10],\n",
    "                   [1, 1, 15]])\n",
    "\n",
    "# Retourner le rang de la matrice\n",
    "np.linalg.matrix_rank(matrix)\n",
    "# Résultat : 2"
   ]
  },
  {
   "cell_type": "markdown",
   "id": "08e4202a",
   "metadata": {},
   "source": [
    "Le **rang** d'une matrice correspond aux dimensions de l’espace vectoriel engendré par ses colonnes ou ses lignes.\n",
    "Mieux, le nombre de vecteurs colonnes/lignes de la matrice qui sont linéairement indépendants.\n",
    "Grâce à la fonction ``matrix_rank`` dans NumPy, déterminer ce rang devient très simple.\n"
   ]
  },
  {
   "cell_type": "markdown",
   "id": "92d05f40",
   "metadata": {},
   "source": [
    "# 🔢 Extraire la diagonale d'une matrice\n",
    "\n",
    "On est amener parfois à extraire les éléments diagonaux d'une matrice.\n",
    "\n",
    "Donc, on utilise la méthode ``diagonal`` de NumPy :\n"
   ]
  },
  {
   "cell_type": "code",
   "execution_count": 5,
   "id": "a6c53c7b",
   "metadata": {},
   "outputs": [
    {
     "data": {
      "text/plain": [
       "array([1, 4, 9])"
      ]
     },
     "execution_count": 5,
     "metadata": {},
     "output_type": "execute_result"
    }
   ],
   "source": [
    "# Créer la matrice\n",
    "matrix = np.array([[1, 2, 3],\n",
    "                   [2, 4, 6],\n",
    "                   [3, 8, 9]])\n",
    "\n",
    "# Retourner les éléments diagonaux\n",
    "matrix.diagonal()\n",
    "# Résultat : array([1, 4, 9])"
   ]
  },
  {
   "cell_type": "markdown",
   "id": "b77278cd",
   "metadata": {},
   "source": [
    "NumPy rend l’extraction des éléments diagonaux très simple grâce à la méthode ``diagonal``.`\n",
    "\n",
    "➡️ Il est également possible d’obtenir une diagonale décalée par rapport à la diagonale principale en utilisant le paramètre ``offset`` :\n",
    "````python\n",
    "# Diagonale une position au-dessus de la principale\n",
    "matrix.diagonal(offset=1)\n",
    "# Résultat : array([2, 6])\n",
    "\n",
    "# Diagonale une position en dessous de la principale\n",
    "matrix.diagonal(offset=-1)\n",
    "# Résultat : array([2, 8])\n",
    "````\n",
    "\n",
    "\n",
    "\n"
   ]
  },
  {
   "cell_type": "markdown",
   "id": "a8151799",
   "metadata": {},
   "source": [
    "# ➕ Calculer la trace d'une matrice\n",
    "\n",
    "On souhaite calculer la trace d'une matrice.\n",
    "\n",
    "On utilise la méthode ``trace`` :\n"
   ]
  },
  {
   "cell_type": "code",
   "execution_count": 6,
   "id": "692687a0",
   "metadata": {},
   "outputs": [
    {
     "data": {
      "text/plain": [
       "np.int64(14)"
      ]
     },
     "execution_count": 6,
     "metadata": {},
     "output_type": "execute_result"
    }
   ],
   "source": [
    "# Créer la matrice\n",
    "matrix = np.array([[1, 2, 3],\n",
    "                   [2, 4, 6],\n",
    "                   [3, 8, 9]])\n",
    "\n",
    "# Retourner la trace de la matrice\n",
    "matrix.trace()\n",
    "# Résultat : 14"
   ]
  },
  {
   "cell_type": "markdown",
   "id": "148044e8",
   "metadata": {},
   "source": [
    "La trace d'une matrice est la somme des éléments diagonaux. Elle est souvent utilisée dans des méthodes d'apprentissage automatique.\n",
    "\n",
    "➡️ Avec un tableau multidimensionnel NumPy, on peut utiliser directement ``trace``.\n",
    "\n",
    "➡️ Alternativement, on peut extraire les éléments diagonaux avec ``diagonal()`` et en faire la somme :\n",
    "````python\n",
    "# Extraire la diagonale et sommer les éléments\n",
    "sum(matrix.diagonal())\n",
    "# Résultat : 14\n",
    "````\n",
    "\n",
    "\n",
    "\n"
   ]
  },
  {
   "cell_type": "markdown",
   "id": "c1e7ff0e",
   "metadata": {},
   "source": [
    "# 🔘 Calcul du produit scalaire de deux vecteurs\n",
    "\n",
    "On doit calculer ici le produit scalaire de deux vecteurs.\n",
    "\n",
    "Pour ce faire, on utilise la fonction ``dot`` de NumPy :\n"
   ]
  },
  {
   "cell_type": "code",
   "execution_count": 7,
   "id": "39305624",
   "metadata": {},
   "outputs": [
    {
     "data": {
      "text/plain": [
       "np.int64(32)"
      ]
     },
     "execution_count": 7,
     "metadata": {},
     "output_type": "execute_result"
    }
   ],
   "source": [
    "# Créer deux vecteurs\n",
    "vector_a = np.array([1, 2, 3])\n",
    "vector_b = np.array([4, 5, 6])\n",
    "\n",
    "# Calculer le produit scalaire\n",
    "np.dot(vector_a, vector_b)\n",
    "# Résultat : 32"
   ]
  },
  {
   "cell_type": "markdown",
   "id": "edff667b",
   "metadata": {},
   "source": [
    "Le produit scalaire de deux vecteurs, a et b, est défini comme :\n",
    "\n",
    "$\\sum_{i=1}^{n} a_i \\cdot b_i$\n",
    "\n",
    "où $a_i$ est le i-ème élément du vecteur a, et $b_i$ celui du vecteur b.\n",
    "\n",
    "➡️ Avec NumPy, on peut utiliser ``dot`` pour le calculer facilement.\n",
    "\n",
    "➡️ Depuis Python 3.5+, on peut aussi utiliser l’opérateur ``@`` :\n",
    "````python\n",
    "# Calculer le produit scalaire avec l’opérateur @\n",
    "vector_a @ vector_b\n",
    "# Résultat : 32\n",
    "````\n",
    "\n",
    "\n",
    "\n"
   ]
  },
  {
   "cell_type": "markdown",
   "id": "e95e35d6",
   "metadata": {},
   "source": [
    "# ➕➖ Addition et soustraction de matrices\n",
    "\n",
    "On souhaite additionner ou soustraire deux matrices.\n",
    "\n",
    "On utilise les fonctions ``add`` et ``subtract`` de NumPy :\n"
   ]
  },
  {
   "cell_type": "code",
   "execution_count": 8,
   "id": "e55faf66",
   "metadata": {},
   "outputs": [
    {
     "data": {
      "text/plain": [
       "array([[ 2,  4,  2],\n",
       "       [ 2,  4,  2],\n",
       "       [ 2,  4, 10]])"
      ]
     },
     "execution_count": 8,
     "metadata": {},
     "output_type": "execute_result"
    }
   ],
   "source": [
    "# Créer la première matrice\n",
    "matrix_a = np.array([[1, 1, 1],\n",
    "                     [1, 1, 1],\n",
    "                     [1, 1, 2]])\n",
    "\n",
    "# Créer la deuxième matrice\n",
    "matrix_b = np.array([[1, 3, 1],\n",
    "                     [1, 3, 1],\n",
    "                     [1, 3, 8]])\n",
    "\n",
    "# Additionner les deux matrices\n",
    "np.add(matrix_a, matrix_b)\n",
    "# Résultat : array([[ 2, 4, 2],\n",
    "#                   [ 2, 4, 2],\n",
    "#                   [ 2, 4, 10]])\n"
   ]
  },
  {
   "cell_type": "code",
   "execution_count": 9,
   "id": "3f099565",
   "metadata": {},
   "outputs": [
    {
     "data": {
      "text/plain": [
       "array([[ 0, -2,  0],\n",
       "       [ 0, -2,  0],\n",
       "       [ 0, -2, -6]])"
      ]
     },
     "execution_count": 9,
     "metadata": {},
     "output_type": "execute_result"
    }
   ],
   "source": [
    "\n",
    "# Soustraire les deux matrices\n",
    "np.subtract(matrix_a, matrix_b)\n",
    "# Résultat : array([[ 0, -2, 0],\n",
    "#                   [ 0, -2, 0],\n",
    "#                   [ 0, -2, -6]])"
   ]
  },
  {
   "cell_type": "markdown",
   "id": "d733df09",
   "metadata": {},
   "source": [
    "On peut aussi utiliser les opérateurs ``+`` et ``–`` pour faire la même chose de manière plus concise :\n",
    "````python\n",
    "# Additionner deux matrices\n",
    "matrix_a + matrix_b\n",
    "# Résultat : array([[ 2, 4, 2],\n",
    "#                   [ 2, 4, 2],\n",
    "#                   [ 2, 4, 10]])\n",
    "````\n",
    "\n",
    "ℹ️ Il faudrait s'assurer que les matrices ont les mêmes dimensions, sinon NumPy lèvera une erreur.\n"
   ]
  },
  {
   "cell_type": "markdown",
   "id": "63187193",
   "metadata": {},
   "source": [
    "# ✖️ Multiplication de matrices\n",
    "\n",
    "On souhaite effectuer une multiplication entre deux matrices.\n",
    "\n",
    "Donc, on utilise la fonction ``dot`` de NumPy :\n"
   ]
  },
  {
   "cell_type": "code",
   "execution_count": 10,
   "id": "1146768b",
   "metadata": {},
   "outputs": [
    {
     "data": {
      "text/plain": [
       "array([[2, 5],\n",
       "       [3, 7]])"
      ]
     },
     "execution_count": 10,
     "metadata": {},
     "output_type": "execute_result"
    }
   ],
   "source": [
    "# Créer la première matrice\n",
    "matrix_a = np.array([[1, 1],\n",
    "                     [1, 2]])\n",
    "\n",
    "# Créer la seconde matrice\n",
    "matrix_b = np.array([[1, 3],\n",
    "                     [1, 2]])\n",
    "\n",
    "# Effectuer la multiplication matricielle\n",
    "np.dot(matrix_a, matrix_b)\n",
    "# Résultat : array([[2, 5],\n",
    "#                   [3, 7]])"
   ]
  },
  {
   "cell_type": "markdown",
   "id": "ac5d7cee",
   "metadata": {},
   "source": [
    "➡️ Depuis Python 3.5+, on peut utiliser l'opérateur ``@`` pour une syntaxe plus intuitive :\n",
    "\n",
    "````python\n",
    "# Multiplication matricielle avec l'opérateur @\n",
    "matrix_a @ matrix_b\n",
    "# Résultat : array([[2, 5],\n",
    "#                   [3, 7]])\n",
    "````\n",
    "\n",
    "➡️ Pour effectuer une multiplication élément par élément (et non une multiplication matricielle), on utilise l'opérateur ``*`` :\n",
    "\n",
    "````python\n",
    "# Multiplication élément par élément\n",
    "matrix_a * matrix_b\n",
    "# Résultat : array([[1, 3],\n",
    "#                   [1, 4]])\n",
    "````\n",
    "\n",
    "ℹ️ La multiplication matricielle suit les règles de l’algèbre linéaire classique :\n",
    "\n",
    "Le nombre de colonnes dans la première matrice doit correspondre au nombre de lignes dans la seconde.\n"
   ]
  },
  {
   "cell_type": "markdown",
   "id": "b32bbbbd",
   "metadata": {},
   "source": [
    "# 🔁 Inversion d'une matrice carrée\n",
    "\n",
    "On souhaite calculer l’inverse d’une matrice carrée.\n",
    "\n",
    "Pour cela, on utilise la méthode ``inv`` du module ``linalg`` de NumPy :\n"
   ]
  },
  {
   "cell_type": "code",
   "execution_count": 11,
   "id": "07169ab7",
   "metadata": {},
   "outputs": [
    {
     "data": {
      "text/plain": [
       "array([[-1.66666667,  1.33333333],\n",
       "       [ 0.66666667, -0.33333333]])"
      ]
     },
     "execution_count": 11,
     "metadata": {},
     "output_type": "execute_result"
    }
   ],
   "source": [
    "# Créer une matrice carrée\n",
    "matrix = np.array([[1, 4],\n",
    "                   [2, 5]])\n",
    "\n",
    "# Calculer l'inverse de la matrice\n",
    "np.linalg.inv(matrix)\n",
    "# Résultat : array([[-1.66666667,  1.33333333],\n",
    "#                  [ 0.66666667, -0.33333333]])"
   ]
  },
  {
   "cell_type": "markdown",
   "id": "83bc4f0f",
   "metadata": {},
   "source": [
    "L’**inverse** d’une matrice carrée $A$ est une matrice $A^{-1}$ telle que :\n",
    "\n",
    "$A \\cdot A^{-1} = I$\n",
    "\n",
    "où $I$ est la matrice identité.\n",
    "\n",
    "➡️ NumPy permet de calculer cette matrice inverse grâce à ``np.linalg.inv()`` si l’inverse existe (c’est-à-dire si la matrice est non singulière).\n",
    "\n",
    "📌 Pour vérifier, on peut multiplier la matrice par son inverse :\n",
    "````python\n",
    "# Multiplier la matrice par son inverse\n",
    "matrix @ np.linalg.inv(matrix)\n",
    "# Résultat : array([[1., 0.],\n",
    "#                   [0., 1.]])\n",
    "````\n",
    "\n",
    "Cela donne bien la matrice identité, preuve que l’inversion a réussi.\n"
   ]
  },
  {
   "cell_type": "markdown",
   "id": "c7089edd",
   "metadata": {},
   "source": [
    "# 🎲 Génération de valeurs aléatoires\n",
    "\n",
    "On souhaite générer des valeurs pseudo-aléatoires.\n",
    "\n",
    "Pour cela, il faudrait utiliser le module ``random`` de NumPy :\n"
   ]
  },
  {
   "cell_type": "code",
   "execution_count": 12,
   "id": "1980f3f1",
   "metadata": {},
   "outputs": [
    {
     "data": {
      "text/plain": [
       "array([0.5488135 , 0.71518937, 0.60276338])"
      ]
     },
     "execution_count": 12,
     "metadata": {},
     "output_type": "execute_result"
    }
   ],
   "source": [
    "# Définir une graine (seed) pour rendre les résultats reproductibles\n",
    "np.random.seed(0)\n",
    "\n",
    "# Générer trois nombres flottants aléatoires entre 0.0 et 1.0\n",
    "np.random.random(3)\n",
    "# Résultat : array([0.5488135 , 0.71518937, 0.60276338]) ---> on a utilisé la graine 0 pour que les résultats soient toujours les mêmes\n",
    "# (si on ne met pas de graine, les résultats seront différents à chaque exécution"
   ]
  },
  {
   "cell_type": "markdown",
   "id": "11269f58",
   "metadata": {},
   "source": [
    "NumPy offre une grande variété de fonctions pour générer des nombres aléatoires — bien plus que ce qu’on peut couvrir ici.\n",
    "\n",
    "✅ Exemple de génération d’entiers aléatoires :\n",
    "````python\n",
    "# Générer trois entiers aléatoires entre 0 et 10 inclus\n",
    "np.random.randint(0, 11, 3)\n",
    "# Résultat : array([3, 7, 9])\n",
    "````\n",
    "\n",
    "✅ Tirage depuis des distributions statistiques (attention, ce n’est pas techniquement aléatoire, mais basé sur des lois probabilistes) :\n",
    "````python\n",
    "# Tirage dans une distribution normale (moyenne = 0.0, écart-type = 1.0)\n",
    "np.random.normal(0.0, 1.0, 3)\n",
    "# Résultat : array([-1.42232584, 1.52006949, -0.29139398])\n",
    "\n",
    "# Tirage dans une distribution logistique (moyenne = 0.0, échelle = 1.0)\n",
    "np.random.logistic(0.0, 1.0, 3)\n",
    "# Résultat : array([-0.98118713, -0.08939902, 1.46416405])\n",
    "\n",
    "# Tirage uniforme entre 1.0 inclus et 2.0 exclus\n",
    "np.random.uniform(1.0, 2.0, 3)\n",
    "# Résultat : array([1.47997717, 1.3927848 , 1.83607876])\n",
    "````\n",
    "\n",
    "🔁 Pour que les résultats soient prévisibles et reproductibles, on utilise la graine (seed) du générateur. Deux exécutions avec la même graine produisent les mêmes résultats, ce qui est très pratique pour les tests ou les tutoriels.\n"
   ]
  },
  {
   "cell_type": "markdown",
   "id": "64645a50",
   "metadata": {},
   "source": [
    "# Création des données avec numpy "
   ]
  },
  {
   "cell_type": "markdown",
   "id": "90fe929f",
   "metadata": {},
   "source": [
    "## Créer un numpy array avec une liste/liste de liste (matrice)"
   ]
  },
  {
   "cell_type": "code",
   "execution_count": 13,
   "id": "6c76508d",
   "metadata": {},
   "outputs": [
    {
     "name": "stdout",
     "output_type": "stream",
     "text": [
      "[1 2 3 4 5]\n"
     ]
    }
   ],
   "source": [
    "# Création à partir d'un liste\n",
    "liste = [1, 2, 3, 4, 5]  # Définition de la liste d'élément\n",
    "array_with_liste = np.array(liste)\n",
    "print(array_with_liste)  # affiche le numpy array"
   ]
  },
  {
   "cell_type": "code",
   "execution_count": 14,
   "id": "54deefc3",
   "metadata": {},
   "outputs": [
    {
     "name": "stdout",
     "output_type": "stream",
     "text": [
      "[[1 2 3]\n",
      " [4 5 6]\n",
      " [7 8 9]]\n"
     ]
    }
   ],
   "source": [
    "# Création à partir d'une matrice\n",
    "# Création d'un numpy array à partir d'une liste de listes (matrice)\n",
    "matrice = [[1, 2, 3], [4, 5, 6], [7, 8, 9]]\n",
    "array_with_matrice = np.array(matrice)\n",
    "print(array_with_matrice)"
   ]
  },
  {
   "cell_type": "markdown",
   "id": "697fbd87",
   "metadata": {},
   "source": [
    "## Créer un numpy array à partir des fonctions intégrées"
   ]
  },
  {
   "cell_type": "code",
   "execution_count": null,
   "id": "60ca6d70",
   "metadata": {},
   "outputs": [
    {
     "name": "stdout",
     "output_type": "stream",
     "text": [
      "[[0. 0. 0.]\n",
      " [0. 0. 0.]\n",
      " [0. 0. 0.]]\n"
     ]
    }
   ],
   "source": [
    "#Créer un numpy array à partir de la fonction zeros\n",
    "array_zeros = np.zeros((3,3))\n",
    "print(array_zeros)"
   ]
  },
  {
   "cell_type": "code",
   "execution_count": null,
   "id": "49f3dda8",
   "metadata": {},
   "outputs": [
    {
     "name": "stdout",
     "output_type": "stream",
     "text": [
      "[[1. 1.]\n",
      " [1. 1.]\n",
      " [1. 1.]\n",
      " [1. 1.]]\n"
     ]
    }
   ],
   "source": [
    "#Créer un numpy array à partir de la fonction ones\n",
    "array_ones = np.ones((4,2))\n",
    "print(array_ones)"
   ]
  },
  {
   "cell_type": "code",
   "execution_count": null,
   "id": "56f9c403",
   "metadata": {},
   "outputs": [
    {
     "data": {
      "text/plain": [
       "array([[1., 0., 0.],\n",
       "       [0., 1., 0.],\n",
       "       [0., 0., 1.]])"
      ]
     },
     "metadata": {},
     "output_type": "display_data"
    }
   ],
   "source": [
    "#Créer un numpay array avec la fonction eye \n",
    "array_eye = np.eye(3) #Pour créer la matrice identité\n",
    "array_eye\n"
   ]
  },
  {
   "cell_type": "code",
   "execution_count": null,
   "id": "8462be55",
   "metadata": {},
   "outputs": [
    {
     "data": {
      "text/plain": [
       "array([ 0,  2,  4,  6,  8, 10])"
      ]
     },
     "metadata": {},
     "output_type": "display_data"
    }
   ],
   "source": [
    "#Créer un numpay array avec la fonction arange: pour créer des nombre entre le minimum et le maximum avec un pas\n",
    "array_arange = np.arange(0, 11, 2) # Pour créer un tableau de 0 à 10 avec un pas de 2\n",
    "array_arange"
   ]
  },
  {
   "cell_type": "code",
   "execution_count": null,
   "id": "5487b6a6",
   "metadata": {},
   "outputs": [
    {
     "data": {
      "text/plain": [
       "array([0.        , 0.11111111, 0.22222222, 0.33333333, 0.44444444,\n",
       "       0.55555556, 0.66666667, 0.77777778, 0.88888889, 1.        ])"
      ]
     },
     "metadata": {},
     "output_type": "display_data"
    }
   ],
   "source": [
    "#Créer un numpay array avec la fonction linspace \n",
    "#générer une séquence de nombre \n",
    "#entre deux valeurs données avec un nombre de points donné\n",
    "#Très utile pour les graphiques\n",
    "array_linspace = np.linspace(0, 1, 10) # Pour créer un tableau de 0 à 1 avec 10 points exacts\n",
    "array_linspace"
   ]
  },
  {
   "cell_type": "code",
   "execution_count": null,
   "id": "4a64651b",
   "metadata": {},
   "outputs": [
    {
     "name": "stdout",
     "output_type": "stream",
     "text": [
      "[[0.38460183 0.91191777 0.26433874 0.42778659]\n",
      " [0.86015894 0.33599314 0.07096604 0.53405233]\n",
      " [0.38777336 0.92685784 0.37362457 0.37665129]\n",
      " [0.66224501 0.04220367 0.09486011 0.24925666]\n",
      " [0.29675815 0.27890915 0.4802953  0.13089389]]\n"
     ]
    }
   ],
   "source": [
    "# Créer un numpy array de valeurs aléatoires avec la fonction random\n",
    "# Utile pour initialiser les poids dans les réseaux de neurones, générer des données d'apprentissage synthétiques\n",
    "array_random = np.random.random((5,4)) # Pour créer un tableau de 5 lignes et 4 colonnes avec des valeurs aléatoires comprises entre 0 et 1\n",
    "print(array_random)"
   ]
  },
  {
   "cell_type": "markdown",
   "id": "d301c475",
   "metadata": {},
   "source": [
    "On peut utiliser aussi : \n",
    "\n",
    "-  ``np.random.rand(5,4)`` pour créer un tableau de 5 lignes et 4 colonnes avec des valeurs aléatoires comprises entre 0 et 1\n",
    "\n",
    "-  ``np.random.randn(5,4)`` pour créer un tableau de 5 lignes et 4 colonnes avec des valeurs aléatoires suivant une distribution normale\n",
    "\n",
    "-  ``np.random.randint(0, 10, (5,4))`` pour créer un tableau de 5 lignes et 4 colonnes avec des valeurs aléatoires entières entre 0 et 10\n",
    "\n",
    "-  ``np.random.choice([1, 2, 3, 4, 5], size=(5,4))`` pour créer un tableau de 5 lignes et 4 colonnes avec des valeurs aléatoires \n",
    "choisies parmi une liste\n",
    "\n",
    "-  ``np.random.permutation([1, 2, 3, 4, 5])`` pour créer un tableau de 5 éléments avec des valeurs aléatoires choisies parmi une liste\n",
    "\n",
    "-  ``np.random.shuffle([1, 2, 3, 4, 5])`` pour mélanger les éléments d'une liste\n",
    "\n",
    "- ``np.random.choice([1, 2, 3, 4, 5], size=(5,4), replace=True)`` pour créer un tableau de 5 lignes et 4 colonnes avec des valeurs aléatoires choisies parmi une liste avec remplacement\n",
    "\n",
    "-  ``np.random.choice([1, 2, 3, 4, 5], size=(5,4), replace=False)`` pour créer un tableau de 5 lignes et 4 colonnes avec des valeurs aléatoires choisies parmi une liste sans remplacement\n",
    "\n",
    "- `` np.random.uniform(0, 1, (5,4))``  Pour créer un tableau de 5 lignes et 4 colonnes avec des valeurs aléatoires comprises entre 0 et 1\n",
    "\n",
    "- ``np.random.normal(0, 1, (5,4))``  Pour créer un tableau de 5 lignes et 4 colonnes avec des valeurs aléatoires suivant une distribution normale  de moyenne=0.0 et ecart-type=1.0 \n"
   ]
  },
  {
   "cell_type": "markdown",
   "id": "8faa78e0",
   "metadata": {},
   "source": [
    "# Fonctions mathématiques et statistiques avec Numpy"
   ]
  },
  {
   "cell_type": "code",
   "execution_count": null,
   "id": "d4ebef6c",
   "metadata": {},
   "outputs": [
    {
     "data": {
      "text/plain": [
       "15"
      ]
     },
     "metadata": {},
     "output_type": "display_data"
    }
   ],
   "source": [
    "#Fonction mathématiques basiques\n",
    "array1=array_with_liste\n",
    "array_sum = np.sum(array1)\n",
    "array_mean = np.mean(array1)\n",
    "array_std = np.std(array1)\n",
    "array_min = np.min(array1)\n",
    "array_max = np.max(array1)\n",
    "array_sqrt = np.sqrt(array1)\n",
    "array_abs = np.abs(array1)\n",
    "array_power = np.power(array1, 2)\n",
    "array_exp = np.exp(array1)\n",
    "array_log = np.log(np.abs(array1))\n",
    "array_sin = np.sin(array1)\n",
    "array_median = np.median(array1)\n",
    "array_sum"
   ]
  },
  {
   "cell_type": "code",
   "execution_count": null,
   "id": "41df1e2b",
   "metadata": {},
   "outputs": [
    {
     "data": {
      "text/plain": [
       "3.0"
      ]
     },
     "metadata": {},
     "output_type": "display_data"
    }
   ],
   "source": [
    "array_median"
   ]
  },
  {
   "cell_type": "markdown",
   "id": "82a8556f",
   "metadata": {},
   "source": [
    "# Manipulation des matrices avec Numpy"
   ]
  },
  {
   "cell_type": "code",
   "execution_count": null,
   "id": "afbb944e",
   "metadata": {},
   "outputs": [
    {
     "name": "stdout",
     "output_type": "stream",
     "text": [
      "[[ 30  36  42]\n",
      " [ 66  81  96]\n",
      " [102 126 150]]\n"
     ]
    }
   ],
   "source": [
    "# Produit matriciel\n",
    "matrice = [[1, 2, 3], [4, 5, 6], [7, 8, 9]]\n",
    "produit_matriciel = np.dot(array_with_matrice, array_with_matrice)\n",
    "print(produit_matriciel)"
   ]
  },
  {
   "cell_type": "code",
   "execution_count": null,
   "id": "af57f8f4",
   "metadata": {},
   "outputs": [
    {
     "name": "stdout",
     "output_type": "stream",
     "text": [
      "[[1 4 7]\n",
      " [2 5 8]\n",
      " [3 6 9]]\n"
     ]
    }
   ],
   "source": [
    "# Transposée\n",
    "transposee = np.transpose(array_with_matrice)\n",
    "print(transposee)"
   ]
  },
  {
   "cell_type": "code",
   "execution_count": null,
   "id": "ec0d58e4",
   "metadata": {},
   "outputs": [
    {
     "name": "stdout",
     "output_type": "stream",
     "text": [
      "[[1. 0. 0.]\n",
      " [0. 1. 0.]\n",
      " [0. 0. 1.]]\n"
     ]
    }
   ],
   "source": [
    "# Inversion (pour les matrices carrées non singulières)\n",
    "inverse = np.linalg.inv(array_eye)\n",
    "print(inverse)"
   ]
  },
  {
   "cell_type": "code",
   "execution_count": null,
   "id": "62eb9add",
   "metadata": {},
   "outputs": [
    {
     "name": "stdout",
     "output_type": "stream",
     "text": [
      "1.0\n"
     ]
    }
   ],
   "source": [
    "#Déterminant\n",
    "determinant=np.linalg.det(array_eye)\n",
    "print(determinant)  "
   ]
  },
  {
   "cell_type": "markdown",
   "id": "2ee8628c",
   "metadata": {},
   "source": [
    "# Accéder  aux éléments, sélectionner, modifier et mettre à jour un numpy array"
   ]
  },
  {
   "cell_type": "code",
   "execution_count": null,
   "id": "ebf1064a",
   "metadata": {},
   "outputs": [
    {
     "name": "stdout",
     "output_type": "stream",
     "text": [
      "1\n"
     ]
    }
   ],
   "source": [
    "# Accès aux éléments\n",
    "array1 = np.array([1,2,3,4,5]) \n",
    "premier_element = array1[0]\n",
    "print(premier_element)\n"
   ]
  },
  {
   "cell_type": "code",
   "execution_count": null,
   "id": "da9060fe",
   "metadata": {},
   "outputs": [
    {
     "data": {
      "text/plain": [
       "3"
      ]
     },
     "metadata": {},
     "output_type": "display_data"
    }
   ],
   "source": [
    "array1[2]"
   ]
  },
  {
   "cell_type": "code",
   "execution_count": null,
   "id": "71e6c817",
   "metadata": {},
   "outputs": [
    {
     "name": "stdout",
     "output_type": "stream",
     "text": [
      "[15  2  3  4  5]\n"
     ]
    }
   ],
   "source": [
    "# Modification d'un élément\n",
    "array1[0] = 15\n",
    "print(array1)"
   ]
  },
  {
   "cell_type": "code",
   "execution_count": null,
   "id": "58b1b420",
   "metadata": {},
   "outputs": [
    {
     "data": {
      "text/plain": [
       "array([15,  3,  4,  5])"
      ]
     },
     "metadata": {},
     "output_type": "display_data"
    }
   ],
   "source": [
    "# Sélection des éléments qui respectent une condition\n",
    "condition = array1 > 5 # Sélectionne les éléments supérieurs à 5\n",
    "elements_respectant_condition = array1[array1 > 2] # Assigne à une nouvelle variable les élements qui respectent la condition\n",
    "elements_respectant_condition"
   ]
  },
  {
   "cell_type": "code",
   "execution_count": null,
   "id": "335f0e64",
   "metadata": {},
   "outputs": [
    {
     "data": {
      "text/plain": [
       "(array([0, 3, 4]),)"
      ]
     },
     "metadata": {},
     "output_type": "display_data"
    }
   ],
   "source": [
    "condition = array1 > 3\n",
    "condition\n",
    "indices = np.where(array1 > 3) # pour obtenir les indices des éléments qui respectent la condition\n",
    "indices"
   ]
  },
  {
   "cell_type": "code",
   "execution_count": null,
   "id": "33865666",
   "metadata": {},
   "outputs": [
    {
     "data": {
      "text/plain": [
       "array([ True, False, False, False, False])"
      ]
     },
     "metadata": {},
     "output_type": "display_data"
    }
   ],
   "source": [
    "array1 > 5 # affiche un tableau de true/false pour chaque élément du tableau array vérifiant la condition (True) ou non (False) "
   ]
  },
  {
   "cell_type": "code",
   "execution_count": null,
   "id": "55b5ab94",
   "metadata": {},
   "outputs": [],
   "source": [
    "# Utilisation de np.where\n",
    "indices = np.where(array1 > 5)\n",
    "elements_respectant_condition_np_where = array1[indices]\n",
    "print(elements_respectant_condition_np_where)"
   ]
  },
  {
   "cell_type": "code",
   "execution_count": null,
   "id": "618cb98e",
   "metadata": {},
   "outputs": [
    {
     "name": "stdout",
     "output_type": "stream",
     "text": [
      "[0 2 3 0 0]\n"
     ]
    }
   ],
   "source": [
    "# Mise à jour d'un numpy array\n",
    "array1[condition] = 0 # Met à zéro les éléments qui respectent la condition\n",
    "print(array1)"
   ]
  },
  {
   "cell_type": "code",
   "execution_count": null,
   "id": "48a6e5d6",
   "metadata": {},
   "outputs": [
    {
     "data": {
      "text/plain": [
       "array([1, 2, 3])"
      ]
     },
     "metadata": {},
     "output_type": "display_data"
    }
   ],
   "source": [
    "#  Slicing et indexation avancée\n",
    "array6 = np.array([[1, 2, 3], [4, 5, 6], [7, 8, 9]])\n",
    "# Slicing\n",
    "premiere_ligne = array6[0, :]\n",
    "premiere_ligne"
   ]
  },
  {
   "cell_type": "code",
   "execution_count": null,
   "id": "4d53c80d",
   "metadata": {},
   "outputs": [
    {
     "data": {
      "text/plain": [
       "array([1, 4, 7])"
      ]
     },
     "metadata": {},
     "output_type": "display_data"
    }
   ],
   "source": [
    "#Première colonne\n",
    "premiere_colonne = array6[:, 0]\n",
    "premiere_colonne\n"
   ]
  },
  {
   "cell_type": "code",
   "execution_count": null,
   "id": "7308ba03",
   "metadata": {},
   "outputs": [
    {
     "data": {
      "text/plain": [
       "array([[5, 6],\n",
       "       [8, 9]])"
      ]
     },
     "metadata": {},
     "output_type": "display_data"
    }
   ],
   "source": [
    "#sous matrice\n",
    "sous_matrice = array6[1:3, 1:3]\n",
    "sous_matrice"
   ]
  },
  {
   "cell_type": "code",
   "execution_count": null,
   "id": "1f9e89cb",
   "metadata": {},
   "outputs": [
    {
     "data": {
      "text/plain": [
       "array([2, 6])"
      ]
     },
     "metadata": {},
     "output_type": "display_data"
    }
   ],
   "source": [
    "# Indexation avancée\n",
    "lignes = [0, 1]\n",
    "colonnes = [1, 2]\n",
    "elements_selectionnes = array6[lignes, colonnes]\n",
    "elements_selectionnes"
   ]
  },
  {
   "cell_type": "code",
   "execution_count": null,
   "id": "126efc9a",
   "metadata": {},
   "outputs": [
    {
     "data": {
      "text/plain": [
       "array([5, 7, 9])"
      ]
     },
     "metadata": {},
     "output_type": "display_data"
    }
   ],
   "source": [
    "# Opérations élémentaires et diffusion (broadcasting)\n",
    "array7 = np.array([1, 2, 3])\n",
    "array8 = np.array([4, 5, 6])\n",
    "\n",
    "\n",
    "# Addition élémentaire\n",
    "array_addition = array7 + array8\n",
    "array_addition"
   ]
  },
  {
   "cell_type": "code",
   "execution_count": null,
   "id": "63b8ab5c",
   "metadata": {},
   "outputs": [
    {
     "data": {
      "text/plain": [
       "array([ 4, 10, 18])"
      ]
     },
     "metadata": {},
     "output_type": "display_data"
    }
   ],
   "source": [
    "# Multiplication élémentaire\n",
    "array_multiplication = array7 * array8\n",
    "array_multiplication\n"
   ]
  },
  {
   "cell_type": "code",
   "execution_count": null,
   "id": "86150a5e",
   "metadata": {},
   "outputs": [
    {
     "data": {
      "text/plain": [
       "array([[ 2,  4,  6],\n",
       "       [ 5,  7,  9],\n",
       "       [ 8, 10, 12]])"
      ]
     },
     "metadata": {},
     "output_type": "display_data"
    }
   ],
   "source": [
    "# Diffusion (broadcasting)\n",
    "array9 = np.array([[1, 2, 3], [4, 5, 6], [7, 8, 9]])\n",
    "array10 = np.array([1, 2, 3])\n",
    "array9+array10"
   ]
  },
  {
   "cell_type": "code",
   "execution_count": null,
   "id": "fc698788",
   "metadata": {},
   "outputs": [],
   "source": []
  },
  {
   "cell_type": "markdown",
   "id": "43601e26",
   "metadata": {},
   "source": [
    "# Redimensionnement, append, type de données taille etc"
   ]
  },
  {
   "cell_type": "code",
   "execution_count": null,
   "id": "822d940e",
   "metadata": {},
   "outputs": [
    {
     "name": "stdout",
     "output_type": "stream",
     "text": [
      "[[0 1 2]\n",
      " [3 4 5]\n",
      " [6 7 8]]\n"
     ]
    }
   ],
   "source": [
    "#r redimensionné le numpy array\n",
    "array3 = np.arange(9)\n",
    "array3_redimensionne = array3.reshape((3, 3))\n",
    "print(array3_redimensionne)"
   ]
  },
  {
   "cell_type": "code",
   "execution_count": null,
   "id": "f05f90e1",
   "metadata": {},
   "outputs": [
    {
     "data": {
      "text/plain": [
       "array([0, 1, 2, 3, 4, 5, 6, 7, 8])"
      ]
     },
     "metadata": {},
     "output_type": "display_data"
    }
   ],
   "source": [
    "array3 = np.arange(9)\n",
    "array3"
   ]
  },
  {
   "cell_type": "code",
   "execution_count": null,
   "id": "ba96c9c2",
   "metadata": {},
   "outputs": [
    {
     "name": "stdout",
     "output_type": "stream",
     "text": [
      "[0 2 3 0 0 6 7 8]\n"
     ]
    }
   ],
   "source": [
    "#Ajouter des éléments dans un numpy array\n",
    "array1_allonge = np.append(array1, [6, 7, 8])\n",
    "print(array1_allonge)"
   ]
  },
  {
   "cell_type": "code",
   "execution_count": null,
   "id": "67b59bdb",
   "metadata": {},
   "outputs": [
    {
     "data": {
      "text/plain": [
       "(3, 3)"
      ]
     },
     "metadata": {},
     "output_type": "display_data"
    }
   ],
   "source": [
    "#Connaitre les caractéristiques d'un numpy array\n",
    "array_with_matrice.shape #dimension de l'array "
   ]
  },
  {
   "cell_type": "code",
   "execution_count": null,
   "id": "252c61fa",
   "metadata": {},
   "outputs": [
    {
     "data": {
      "text/plain": [
       "numpy.ndarray"
      ]
     },
     "metadata": {},
     "output_type": "display_data"
    }
   ],
   "source": [
    "#Connaitre le type de l'objet\n",
    "type(array_with_matrice) #type de l'objet"
   ]
  },
  {
   "cell_type": "code",
   "execution_count": null,
   "id": "452a8d1d",
   "metadata": {},
   "outputs": [
    {
     "data": {
      "text/plain": [
       "dtype('int64')"
      ]
     },
     "metadata": {},
     "output_type": "display_data"
    }
   ],
   "source": [
    "#Connaitre le type des él\n",
    "array1.dtype #type des objets contenu dans le numpy array"
   ]
  },
  {
   "cell_type": "code",
   "execution_count": null,
   "id": "29788174",
   "metadata": {},
   "outputs": [
    {
     "data": {
      "text/plain": [
       "dtype('<U1')"
      ]
     },
     "metadata": {},
     "output_type": "display_data"
    }
   ],
   "source": [
    "array7 = np.array(['1', '2', '3'])\n",
    "array7.dtype"
   ]
  }
 ],
 "metadata": {
  "kernelspec": {
   "display_name": ".venv",
   "language": "python",
   "name": "python3"
  },
  "language_info": {
   "codemirror_mode": {
    "name": "ipython",
    "version": 3
   },
   "file_extension": ".py",
   "mimetype": "text/x-python",
   "name": "python",
   "nbconvert_exporter": "python",
   "pygments_lexer": "ipython3",
   "version": "3.13.5"
  }
 },
 "nbformat": 4,
 "nbformat_minor": 5
}
