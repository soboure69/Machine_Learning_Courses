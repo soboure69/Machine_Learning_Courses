{
 "cells": [
  {
   "cell_type": "markdown",
   "id": "b510f353",
   "metadata": {},
   "source": [
    "📥 Chargement de données"
   ]
  },
  {
   "cell_type": "markdown",
   "id": "dc09b490",
   "metadata": {},
   "source": [
    "# Introduction\n",
    "📊 La première étape dans tout projet d’apprentissage automatique consiste à charger les données brutes dans le système.\n",
    "Ces données brutes peuvent provenir d’un fichier journal (log), d’un fichier de dataset, d’une base de données ou d’un stockage d’objets dans le cloud, tel que Amazon S3.\n",
    "\n",
    "👉 Souvent, nous devons récupérer des données depuis plusieurs sources à la fois.\n",
    "\n",
    "🔍 Les recettes présentées dans ce chapitre explorent plusieurs méthodes pour charger des données issues de sources variées, notamment les fichiers CSV et les bases de données SQL.\n",
    "\n",
    "🧪 Nous couvrons également des techniques permettant de générer des données simulées avec des propriétés spécifiques pour faciliter l’expérimentation.\n",
    "\n",
    "🛠️ Bien qu’il existe de nombreuses façons de charger des données dans l’écosystème Python, ce chapitre met l’accent sur :\n",
    "- la bibliothèque pandas et ses nombreuses méthodes pour charger des données externes ;\n",
    "- la librairie scikit-learn, un outil open-source d’apprentissage automatique, utilisée ici pour générer des données simulées.\n"
   ]
  },
  {
   "cell_type": "markdown",
   "id": "c2f24af0",
   "metadata": {},
   "source": [
    "# 📂 Chargement d’un jeu de données d’exemple\n",
    "\n",
    "On souhaite charger un jeu de données préexistant fourni par la bibliothèque ``scikit-learn``.\n",
    "\n",
    "Scikit-learn propose plusieurs jeux de données populaires prêts à l’emploi :\n"
   ]
  },
  {
   "cell_type": "code",
   "execution_count": 3,
   "id": "b845dbdd",
   "metadata": {},
   "outputs": [],
   "source": [
    "#!pip install scikit-learn"
   ]
  },
  {
   "cell_type": "code",
   "execution_count": 4,
   "id": "9680fc48",
   "metadata": {},
   "outputs": [
    {
     "data": {
      "text/plain": [
       "array([ 0.,  0.,  5., 13.,  9.,  1.,  0.,  0.,  0.,  0., 13., 15., 10.,\n",
       "       15.,  5.,  0.,  0.,  3., 15.,  2.,  0., 11.,  8.,  0.,  0.,  4.,\n",
       "       12.,  0.,  0.,  8.,  8.,  0.,  0.,  5.,  8.,  0.,  0.,  9.,  8.,\n",
       "        0.,  0.,  4., 11.,  0.,  1., 12.,  7.,  0.,  0.,  2., 14.,  5.,\n",
       "       10., 12.,  0.,  0.,  0.,  0.,  6., 13., 10.,  0.,  0.,  0.])"
      ]
     },
     "execution_count": 4,
     "metadata": {},
     "output_type": "execute_result"
    }
   ],
   "source": [
    "# Charger les jeux de données de scikit-learn\n",
    "from sklearn import datasets\n",
    "\n",
    "# Charger le jeu de données des chiffres manuscrits\n",
    "digits = datasets.load_digits()\n",
    "\n",
    "# Créer la matrice de caractéristiques (features)\n",
    "features = digits.data\n",
    "\n",
    "# Créer le vecteur cible (target)\n",
    "target = digits.target\n",
    "\n",
    "# Afficher la première observation\n",
    "features[0]\n",
    "# Résultat : tableau de 64 valeurs représentant une image 8x8"
   ]
  },
  {
   "cell_type": "markdown",
   "id": "6fe0bba8",
   "metadata": {},
   "source": [
    "🔍 Dans la pratique, nous n’avons pas toujours le temps de chercher, nettoyer et transformer des données réelles avant d’expérimenter un algorithme d’apprentissage automatique.\n",
    "\n",
    "🎯 Heureusement, scikit-learn intègre des datasets (toy datasets), qui sont :\n",
    "- de taille réduite\n",
    "- propres et standardisés\n",
    "- parfaits pour l’entraînement, l’exploration ou la démonstration rapide\n",
    "\n",
    "✅ Deux des plus courants : \n",
    "| Dataset         | Description                                                                 | \n",
    "|----------------|-------------------------------------------------------------------------------| \n",
    "| load_iris     | 150 observations de mesures de fleurs d'iris, idéal pour la classification   | \n",
    "| load_digits   | 1 797 images de chiffres manuscrits (résolution 8×8), parfait pour l’imagerie |\n",
    "\n",
    "📋 Pour afficher les détails du jeu de données, on utilise l’attribut DESCR :\n",
    "\n"
   ]
  },
  {
   "cell_type": "code",
   "execution_count": 5,
   "id": "8b04e91c",
   "metadata": {},
   "outputs": [
    {
     "name": "stdout",
     "output_type": "stream",
     "text": [
      ".. _digits_dataset:\n",
      "\n",
      "Optical recognition of handwritten digits dataset\n",
      "--------------------------------------------------\n",
      "\n",
      "**Data Set Characteristics:**\n",
      "\n",
      ":Number of Instances: 1797\n",
      ":Number of Attributes: 64\n",
      ":Attribute Information: 8x8 image of integer pixels in the range 0..16.\n",
      ":Missing Attribute Values: None\n",
      ":Creator: E. Alpaydin (alpaydin '@' boun.edu.tr)\n",
      ":Date: July; 1998\n",
      "\n",
      "This is a copy of the test set of the UCI ML hand-written digits datasets\n",
      "https://archive.ics.uci.edu/ml/datasets/Optical+Recognition+of+Handwritten+Digits\n",
      "\n",
      "The data set contains images of hand-written digits: 10 classes where\n",
      "each class refers to a digit.\n",
      "\n",
      "Preprocessing programs made available by NIST were used to extract\n",
      "normalized bitmaps of handwritten digits from a preprinted form. From a\n",
      "total of 43 people, 30 contributed to the training set and different 13\n",
      "to the test set. 32x32 bitmaps are divided into nonoverlapping blocks of\n",
      "4x4 and the number of on pixels are counted in each block. This generates\n",
      "an input matrix of 8x8 where each element is an integer in the range\n",
      "0..16. This reduces dimensionality and gives invariance to small\n",
      "distortions.\n",
      "\n",
      "For info on NIST preprocessing routines, see M. D. Garris, J. L. Blue, G.\n",
      "T. Candela, D. L. Dimmick, J. Geist, P. J. Grother, S. A. Janet, and C.\n",
      "L. Wilson, NIST Form-Based Handprint Recognition System, NISTIR 5469,\n",
      "1994.\n",
      "\n",
      ".. dropdown:: References\n",
      "\n",
      "  - C. Kaynak (1995) Methods of Combining Multiple Classifiers and Their\n",
      "    Applications to Handwritten Digit Recognition, MSc Thesis, Institute of\n",
      "    Graduate Studies in Science and Engineering, Bogazici University.\n",
      "  - E. Alpaydin, C. Kaynak (1998) Cascading Classifiers, Kybernetika.\n",
      "  - Ken Tang and Ponnuthurai N. Suganthan and Xi Yao and A. Kai Qin.\n",
      "    Linear dimensionalityreduction using relevance weighted LDA. School of\n",
      "    Electrical and Electronic Engineering Nanyang Technological University.\n",
      "    2005.\n",
      "  - Claudio Gentile. A New Approximate Maximal Margin Classification\n",
      "    Algorithm. NIPS. 2000.\n",
      "\n"
     ]
    }
   ],
   "source": [
    "# Imprimer la description du dataset\n",
    "print(digits.DESCR)"
   ]
  },
  {
   "cell_type": "markdown",
   "id": "c226117c",
   "metadata": {},
   "source": [
    "Cela nous donne une vue complète : nombre d’instances, nature des variables, auteur, etc."
   ]
  },
  {
   "cell_type": "markdown",
   "id": "687f79e6",
   "metadata": {},
   "source": [
    "# 🧪 Création d’un jeu de données simulé\n",
    "\n",
    "On a besoin de générer un jeu de données simulé.\n",
    "\n",
    "La bibliothèque ``scikit-learn`` propose plusieurs méthodes pour générer des données simulées. Les trois méthodes les plus couramment utilisées sont :\n",
    "- ``make_regression`` → pour la régression linéaire\n",
    "- ``make_classification`` → pour la classification supervisée\n",
    "- ``make_blobs`` → pour les techniques de clustering\n",
    "\n",
    "🔹 Exemple : Régression linéaire simulée\n"
   ]
  },
  {
   "cell_type": "code",
   "execution_count": 9,
   "id": "1835de7a",
   "metadata": {},
   "outputs": [
    {
     "name": "stdout",
     "output_type": "stream",
     "text": [
      "Matrice de caractéristiques :\n",
      " [[ 1.29322588 -0.61736206 -0.11044703]\n",
      " [-2.793085    0.36633201  1.93752881]\n",
      " [ 0.80186103 -0.18656977  0.0465673 ]]\n",
      "Vecteur cible :\n",
      " [-10.37865986  25.5124503   19.67705609]\n"
     ]
    }
   ],
   "source": [
    "from sklearn.datasets import make_regression\n",
    "\n",
    "# Générer les données\n",
    "features, target, coefficients = make_regression(n_samples=100,\n",
    "                                                  n_features=3,\n",
    "                                                  n_informative=3,\n",
    "                                                  n_targets=1,\n",
    "                                                  noise=0.0,\n",
    "                                                  coef=True,\n",
    "                                                  random_state=1)\n",
    "\n",
    "# Afficher les premières valeurs\n",
    "print(\"Matrice de caractéristiques :\\n\", features[:3])\n",
    "print(\"Vecteur cible :\\n\", target[:3])"
   ]
  },
  {
   "cell_type": "markdown",
   "id": "a0752d16",
   "metadata": {},
   "source": [
    "🧮 Résultat : une matrice de caractéristiques et un vecteur cible en valeurs flottantes.\n",
    "\n",
    "🔹 Exemple : Classification simulée\n"
   ]
  },
  {
   "cell_type": "code",
   "execution_count": 10,
   "id": "ff52ffd1",
   "metadata": {},
   "outputs": [
    {
     "name": "stdout",
     "output_type": "stream",
     "text": [
      "Matrice de caractéristiques :\n",
      " [[ 1.06354768 -1.42632219  1.02163151]\n",
      " [ 0.23156977  1.49535261  0.33251578]\n",
      " [ 0.15972951  0.83533515 -0.40869554]]\n",
      "Vecteur cible :\n",
      " [1 0 0]\n"
     ]
    }
   ],
   "source": [
    "from sklearn.datasets import make_classification\n",
    "\n",
    "# Générer les données\n",
    "features, target = make_classification(n_samples=100,\n",
    "                                       n_features=3,\n",
    "                                       n_informative=3,\n",
    "                                       n_redundant=0,\n",
    "                                       n_classes=2,\n",
    "                                       weights=[.25, .75],\n",
    "                                       random_state=1)\n",
    "\n",
    "# Afficher les premières valeurs\n",
    "print(\"Matrice de caractéristiques :\\n\", features[:3])\n",
    "print(\"Vecteur cible :\\n\", target[:3])"
   ]
  },
  {
   "cell_type": "markdown",
   "id": "35bcbc99",
   "metadata": {},
   "source": [
    "📊 Résultat : un vecteur cible avec des valeurs entières représentant les classes.\n",
    "\n",
    "🔹 Exemple : Clustering avec ``make_blobs``"
   ]
  },
  {
   "cell_type": "code",
   "execution_count": 11,
   "id": "ebbae942",
   "metadata": {},
   "outputs": [
    {
     "name": "stdout",
     "output_type": "stream",
     "text": [
      "Matrice de caractéristiques :\n",
      " [[ -1.22685609   3.25572052]\n",
      " [ -9.57463218  -4.38310652]\n",
      " [-10.71976941  -4.20558148]]\n",
      "Vecteur cible :\n",
      " [0 1 1]\n"
     ]
    }
   ],
   "source": [
    "from sklearn.datasets import make_blobs\n",
    "\n",
    "# Générer les données\n",
    "features, target = make_blobs(n_samples=100,\n",
    "                              n_features=2,\n",
    "                              centers=3,\n",
    "                              cluster_std=0.5,\n",
    "                              shuffle=True,\n",
    "                              random_state=1)\n",
    "\n",
    "# Afficher les premières valeurs\n",
    "print(\"Matrice de caractéristiques :\\n\", features[:3])\n",
    "print(\"Vecteur cible :\\n\", target[:3])"
   ]
  },
  {
   "cell_type": "markdown",
   "id": "dd89f612",
   "metadata": {},
   "source": [
    "📈 On peut facilement visualiser les groupes créés :"
   ]
  },
  {
   "cell_type": "code",
   "execution_count": 12,
   "id": "7c1b6f4c",
   "metadata": {},
   "outputs": [
    {
     "data": {
      "image/png": "[encoded data removed]",
      "text/plain": [
       "<Figure size 640x480 with 1 Axes>"
      ]
     },
     "metadata": {},
     "output_type": "display_data"
    }
   ],
   "source": [
    "import matplotlib.pyplot as plt\n",
    "\n",
    "plt.scatter(features[:, 0], features[:, 1], c=target)\n",
    "plt.title(\"Clusters simulés\")\n",
    "plt.show()"
   ]
  },
  {
   "cell_type": "markdown",
   "id": "99b4dbcb",
   "metadata": {},
   "source": [
    "🗣️ À savoir\n",
    "- ``make_regression`` ➝ renvoie des floats\n",
    "- ``make_classification`` et ``make_blobs`` ➝ renvoient des entiers pour les classes\n",
    "- Le paramètre ``n_informative`` détermine le nombre de variables explicatives utilisées pour générer la cible\n",
    "- ``weights`` permet de déséquilibrer les classes dans ``make_classification``\n",
    "- ``centers`` détermine le nombre de clusters dans ``make_blobs``"
   ]
  },
  {
   "cell_type": "markdown",
   "id": "f3110681",
   "metadata": {},
   "source": [
    "# 📄 Chargement d’un fichier CSV\n",
    "\n",
    "On souhaite importer un fichier CSV (valeurs séparées par des virgules).\n",
    "\n",
    "Pour ce faire, on utilise la fonction ``read_csv`` de la bibliothèque pandas pour charger un fichier CSV local ou en ligne dans un DataFrame pandas :\n"
   ]
  },
  {
   "cell_type": "code",
   "execution_count": 13,
   "id": "0a144347",
   "metadata": {},
   "outputs": [
    {
     "data": {
      "application/vnd.microsoft.datawrangler.viewer.v0+json": {
       "columns": [
        {
         "name": "index",
         "rawType": "int64",
         "type": "integer"
        },
        {
         "name": "integer",
         "rawType": "int64",
         "type": "integer"
        },
        {
         "name": "datetime",
         "rawType": "object",
         "type": "string"
        },
        {
         "name": "category",
         "rawType": "int64",
         "type": "integer"
        }
       ],
       "ref": "85153efa-b4d2-4d30-9d18-c5a5828c5b9f",
       "rows": [
        [
         "0",
         "5",
         "2015-01-01 00:00:00",
         "0"
        ],
        [
         "1",
         "5",
         "2015-01-01 00:00:01",
         "0"
        ]
       ],
       "shape": {
        "columns": 3,
        "rows": 2
       }
      },
      "text/html": [
       "<div>\n",
       "<style scoped>\n",
       "    .dataframe tbody tr th:only-of-type {\n",
       "        vertical-align: middle;\n",
       "    }\n",
       "\n",
       "    .dataframe tbody tr th {\n",
       "        vertical-align: top;\n",
       "    }\n",
       "\n",
       "    .dataframe thead th {\n",
       "        text-align: right;\n",
       "    }\n",
       "</style>\n",
       "<table border=\"1\" class=\"dataframe\">\n",
       "  <thead>\n",
       "    <tr style=\"text-align: right;\">\n",
       "      <th></th>\n",
       "      <th>integer</th>\n",
       "      <th>datetime</th>\n",
       "      <th>category</th>\n",
       "    </tr>\n",
       "  </thead>\n",
       "  <tbody>\n",
       "    <tr>\n",
       "      <th>0</th>\n",
       "      <td>5</td>\n",
       "      <td>2015-01-01 00:00:00</td>\n",
       "      <td>0</td>\n",
       "    </tr>\n",
       "    <tr>\n",
       "      <th>1</th>\n",
       "      <td>5</td>\n",
       "      <td>2015-01-01 00:00:01</td>\n",
       "      <td>0</td>\n",
       "    </tr>\n",
       "  </tbody>\n",
       "</table>\n",
       "</div>"
      ],
      "text/plain": [
       "   integer             datetime  category\n",
       "0        5  2015-01-01 00:00:00         0\n",
       "1        5  2015-01-01 00:00:01         0"
      ]
     },
     "execution_count": 13,
     "metadata": {},
     "output_type": "execute_result"
    }
   ],
   "source": [
    "# Importer la bibliothèque\n",
    "import pandas as pd\n",
    "\n",
    "# Définir l'URL du fichier CSV\n",
    "url = 'https://raw.githubusercontent.com/chrisalbon/sim_data/master/data.csv'\n",
    "\n",
    "# Charger le dataset\n",
    "dataframe = pd.read_csv(url)\n",
    "\n",
    "# Afficher les deux premières lignes\n",
    "dataframe.head(2)"
   ]
  },
  {
   "cell_type": "markdown",
   "id": "53406319",
   "metadata": {},
   "source": [
    "✅ Voici deux points importants à connaître :\n",
    "\n",
    "- Prévisualisation :\n",
    "Avant de charger un fichier CSV, il est souvent utile d’en examiner le contenu. Cela permet de comprendre sa structure et de savoir quels paramètres utiliser pour le lire correctement.\n",
    "- Paramètres de ``read_csv`` :\n",
    "La fonction possède plus de 30 paramètres, ce qui peut paraître intimidant, mais cela la rend capable de gérer une grande variété de formats de fichiers CSV.\n",
    "\n",
    "📌 Malgré leur nom, les fichiers CSV peuvent parfois utiliser des séparateurs autres que la virgule, comme les tabulations (appelés fichiers TSV).\n",
    "\n",
    "➡️ Le paramètre ``sep`` vous permet de spécifier le séparateur utilisé.\n",
    "\n",
    "➡️ Le paramètre ``header`` sert à indiquer si la première ligne contient les noms de colonnes. Si ce n’est pas le cas, on utilise ``header=None``.\n",
    "\n",
    "🔄 En sortie, ``read_csv`` retourne un DataFrame pandas, qui est une structure de données tabulaire très utilisée pour analyser, filtrer ou transformer les données.\n"
   ]
  },
  {
   "cell_type": "markdown",
   "id": "30df99cf",
   "metadata": {},
   "source": [
    "# 📊 Chargement d’un fichier Excel\n",
    "\n",
    "On souhaite importer un fichier Excel dans notre programme Python.\n",
    "\n",
    "On utilise donc la fonction ``read_excel`` de la bibliothèque pandas :\n"
   ]
  },
  {
   "cell_type": "code",
   "execution_count": 14,
   "id": "e147826a",
   "metadata": {},
   "outputs": [
    {
     "data": {
      "application/vnd.microsoft.datawrangler.viewer.v0+json": {
       "columns": [
        {
         "name": "index",
         "rawType": "int64",
         "type": "integer"
        },
        {
         "name": "integer",
         "rawType": "int64",
         "type": "integer"
        },
        {
         "name": "datetime",
         "rawType": "datetime64[ns]",
         "type": "datetime"
        },
        {
         "name": "category",
         "rawType": "int64",
         "type": "integer"
        }
       ],
       "ref": "b35c7789-7d5b-4bbe-a848-44b1e19e4b40",
       "rows": [
        [
         "0",
         "5",
         "2015-01-01 00:00:00",
         "0"
        ],
        [
         "1",
         "5",
         "2015-01-01 00:00:01",
         "0"
        ]
       ],
       "shape": {
        "columns": 3,
        "rows": 2
       }
      },
      "text/html": [
       "<div>\n",
       "<style scoped>\n",
       "    .dataframe tbody tr th:only-of-type {\n",
       "        vertical-align: middle;\n",
       "    }\n",
       "\n",
       "    .dataframe tbody tr th {\n",
       "        vertical-align: top;\n",
       "    }\n",
       "\n",
       "    .dataframe thead th {\n",
       "        text-align: right;\n",
       "    }\n",
       "</style>\n",
       "<table border=\"1\" class=\"dataframe\">\n",
       "  <thead>\n",
       "    <tr style=\"text-align: right;\">\n",
       "      <th></th>\n",
       "      <th>integer</th>\n",
       "      <th>datetime</th>\n",
       "      <th>category</th>\n",
       "    </tr>\n",
       "  </thead>\n",
       "  <tbody>\n",
       "    <tr>\n",
       "      <th>0</th>\n",
       "      <td>5</td>\n",
       "      <td>2015-01-01 00:00:00</td>\n",
       "      <td>0</td>\n",
       "    </tr>\n",
       "    <tr>\n",
       "      <th>1</th>\n",
       "      <td>5</td>\n",
       "      <td>2015-01-01 00:00:01</td>\n",
       "      <td>0</td>\n",
       "    </tr>\n",
       "  </tbody>\n",
       "</table>\n",
       "</div>"
      ],
      "text/plain": [
       "   integer            datetime  category\n",
       "0        5 2015-01-01 00:00:00         0\n",
       "1        5 2015-01-01 00:00:01         0"
      ]
     },
     "execution_count": 14,
     "metadata": {},
     "output_type": "execute_result"
    }
   ],
   "source": [
    "# Charger la bibliothèque\n",
    "import pandas as pd\n",
    "\n",
    "# Définir l’URL du fichier Excel\n",
    "url = 'https://raw.githubusercontent.com/chrisalbon/sim_data/master/data.xlsx'\n",
    "\n",
    "# Charger les données depuis la feuille Excel\n",
    "dataframe = pd.read_excel(url, sheet_name=0, header=0)\n",
    "\n",
    "# Afficher les deux premières lignes\n",
    "dataframe.head(2)"
   ]
  },
  {
   "cell_type": "markdown",
   "id": "226055f9",
   "metadata": {},
   "source": [
    "Cette solution ressemble beaucoup à celle utilisée pour lire un fichier CSV.\n",
    "La grande différence ici est le paramètre supplémentaire ``sheet_name``, qui permet de préciser quelle feuille de calcul dans le fichier Excel on souhaite charger.\n",
    "\n",
    "🔸 ``sheet_name`` peut être :\n",
    "- un entier → désigne la position de la feuille (commence à 0)\n",
    "- une chaîne de caractères → désigne le nom de la feuille\n",
    "\n",
    "📝 Pour charger plusieurs feuilles, on passe une liste de noms ou d’index :"
   ]
  },
  {
   "cell_type": "code",
   "execution_count": 20,
   "id": "a8eea349",
   "metadata": {},
   "outputs": [],
   "source": [
    "# Charger plusieurs feuilles\n",
    "#dataframes = pd.read_excel(url, sheet_name=[0, 1, 2, \"Monthly Sales\"])"
   ]
  },
  {
   "cell_type": "markdown",
   "id": "73a79c28",
   "metadata": {},
   "source": [
    "📦 Cela retourne un dictionnaire de DataFrames, avec les noms des feuilles comme clés."
   ]
  },
  {
   "cell_type": "markdown",
   "id": "3095847d",
   "metadata": {},
   "source": [
    "# 📦 Chargement d’un fichier JSON\n",
    "\n",
    "On souhaite charger un fichier JSON pour le prétraitement des données.\n",
    "\n",
    "La bibliothèque pandas propose la fonction ``read_json`` pour convertir un fichier JSON en objet pandas :\n"
   ]
  },
  {
   "cell_type": "code",
   "execution_count": 21,
   "id": "5408e2ff",
   "metadata": {},
   "outputs": [
    {
     "data": {
      "application/vnd.microsoft.datawrangler.viewer.v0+json": {
       "columns": [
        {
         "name": "index",
         "rawType": "int64",
         "type": "integer"
        },
        {
         "name": "integer",
         "rawType": "int64",
         "type": "integer"
        },
        {
         "name": "datetime",
         "rawType": "datetime64[ns]",
         "type": "datetime"
        },
        {
         "name": "category",
         "rawType": "int64",
         "type": "integer"
        }
       ],
       "ref": "6138133f-abef-4f70-b939-08f156120291",
       "rows": [
        [
         "0",
         "5",
         "2015-01-01 00:00:00",
         "0"
        ],
        [
         "1",
         "5",
         "2015-01-01 00:00:01",
         "0"
        ]
       ],
       "shape": {
        "columns": 3,
        "rows": 2
       }
      },
      "text/html": [
       "<div>\n",
       "<style scoped>\n",
       "    .dataframe tbody tr th:only-of-type {\n",
       "        vertical-align: middle;\n",
       "    }\n",
       "\n",
       "    .dataframe tbody tr th {\n",
       "        vertical-align: top;\n",
       "    }\n",
       "\n",
       "    .dataframe thead th {\n",
       "        text-align: right;\n",
       "    }\n",
       "</style>\n",
       "<table border=\"1\" class=\"dataframe\">\n",
       "  <thead>\n",
       "    <tr style=\"text-align: right;\">\n",
       "      <th></th>\n",
       "      <th>integer</th>\n",
       "      <th>datetime</th>\n",
       "      <th>category</th>\n",
       "    </tr>\n",
       "  </thead>\n",
       "  <tbody>\n",
       "    <tr>\n",
       "      <th>0</th>\n",
       "      <td>5</td>\n",
       "      <td>2015-01-01 00:00:00</td>\n",
       "      <td>0</td>\n",
       "    </tr>\n",
       "    <tr>\n",
       "      <th>1</th>\n",
       "      <td>5</td>\n",
       "      <td>2015-01-01 00:00:01</td>\n",
       "      <td>0</td>\n",
       "    </tr>\n",
       "  </tbody>\n",
       "</table>\n",
       "</div>"
      ],
      "text/plain": [
       "   integer            datetime  category\n",
       "0        5 2015-01-01 00:00:00         0\n",
       "1        5 2015-01-01 00:00:01         0"
      ]
     },
     "execution_count": 21,
     "metadata": {},
     "output_type": "execute_result"
    }
   ],
   "source": [
    "# Importer la bibliothèque\n",
    "import pandas as pd\n",
    "\n",
    "# Définir l’URL du fichier JSON\n",
    "url = 'https://raw.githubusercontent.com/chrisalbon/sim_data/master/data.json'\n",
    "\n",
    "# Charger les données\n",
    "dataframe = pd.read_json(url, orient='columns')\n",
    "\n",
    "# Afficher les deux premières lignes\n",
    "dataframe.head(2)"
   ]
  },
  {
   "cell_type": "markdown",
   "id": "ba23889a",
   "metadata": {},
   "source": [
    "Le chargement d’un fichier JSON avec pandas ressemble aux recettes précédentes (CSV, Excel, etc.).\n",
    "\n",
    "➡️ Le paramètre clé ici est ``orient``, qui indique à pandas comment les données JSON sont organisées.\n",
    "\n",
    "🧭 Parmi les options disponibles : \n",
    "\n",
    "| Orient       | Description                                 | \n",
    "|--------------|---------------------------------------------| \n",
    "| 'split'    | dictionnaire avec columns, data, index | \n",
    "| 'records'  | liste de dictionnaires (une par ligne)       | \n",
    "| 'index'    | dictionnaire imbriqué, index comme clé        | \n",
    "| 'columns'  | comme 'index', mais avec colonnes en clé    | \n",
    "| 'values'   | liste de listes, sans infos structurelles     |\n",
    "\n",
    "Il peut être nécessaire de tester plusieurs options pour trouver celle qui correspond à la structure du fichier.\n",
    "\n",
    "📍 Pour les JSON semi-structurés (avec des niveaux imbriqués), la fonction ``json_normalize()`` peut être très utile pour aplanir les données en DataFrame\n"
   ]
  },
  {
   "cell_type": "code",
   "execution_count": 23,
   "id": "8372b5a0",
   "metadata": {},
   "outputs": [],
   "source": [
    "from pandas import json_normalize\n",
    "#json_normalize(data)"
   ]
  },
  {
   "cell_type": "markdown",
   "id": "2637d681",
   "metadata": {},
   "source": [
    "# 📚 Chargement d’un fichier Parquet\n",
    "\n",
    "On souhaite importer un fichier Parquet dans notre environnement Python.\n",
    "\n",
    "La fonction ``read_parquet`` de pandas permet de lire directement un fichier Parquet :\n"
   ]
  },
  {
   "cell_type": "code",
   "execution_count": 25,
   "id": "ceacf50c",
   "metadata": {},
   "outputs": [],
   "source": [
    "# Charger la bibliothèque\n",
    "import pandas as pd\n",
    "\n",
    "# Définir l’URL du fichier Parquet\n",
    "url = 'https://machine-learning-python-cookbook.s3.amazonaws.com/data.parquet'\n",
    "\n",
    "# Charger les données\n",
    "#dataframe = pd.read_parquet(url)\n",
    "\n",
    "# Afficher les deux premières lignes\n",
    "#dataframe.head(2)"
   ]
  },
  {
   "cell_type": "markdown",
   "id": "499bb2a5",
   "metadata": {},
   "source": [
    "En exéctant le code précedent (sans # au niveau du dataframe), on obtient un message d'erreur indiquant que pandas ne peut pas lire le fichier Parquet car il lui manque l’un des deux moteurs nécessaires : ``pyarrow`` ou ``fastparquet``. Il faut installer donc l'un ou l'autre.\n"
   ]
  },
  {
   "cell_type": "code",
   "execution_count": 27,
   "id": "990f610d",
   "metadata": {},
   "outputs": [],
   "source": [
    "#!pip install pyarrow fastparquet"
   ]
  },
  {
   "cell_type": "code",
   "execution_count": 30,
   "id": "27a49f0d",
   "metadata": {},
   "outputs": [
    {
     "data": {
      "application/vnd.microsoft.datawrangler.viewer.v0+json": {
       "columns": [
        {
         "name": "index",
         "rawType": "int64",
         "type": "integer"
        },
        {
         "name": "integer",
         "rawType": "int64",
         "type": "integer"
        },
        {
         "name": "datetime",
         "rawType": "object",
         "type": "string"
        },
        {
         "name": "category",
         "rawType": "int64",
         "type": "integer"
        }
       ],
       "ref": "16300224-8cdb-4a1b-b767-1f1320fddfb1",
       "rows": [
        [
         "0",
         "5",
         "2015-01-01 00:00:00",
         "0"
        ],
        [
         "1",
         "5",
         "2015-01-01 00:00:01",
         "0"
        ]
       ],
       "shape": {
        "columns": 3,
        "rows": 2
       }
      },
      "text/html": [
       "<div>\n",
       "<style scoped>\n",
       "    .dataframe tbody tr th:only-of-type {\n",
       "        vertical-align: middle;\n",
       "    }\n",
       "\n",
       "    .dataframe tbody tr th {\n",
       "        vertical-align: top;\n",
       "    }\n",
       "\n",
       "    .dataframe thead th {\n",
       "        text-align: right;\n",
       "    }\n",
       "</style>\n",
       "<table border=\"1\" class=\"dataframe\">\n",
       "  <thead>\n",
       "    <tr style=\"text-align: right;\">\n",
       "      <th></th>\n",
       "      <th>integer</th>\n",
       "      <th>datetime</th>\n",
       "      <th>category</th>\n",
       "    </tr>\n",
       "  </thead>\n",
       "  <tbody>\n",
       "    <tr>\n",
       "      <th>0</th>\n",
       "      <td>5</td>\n",
       "      <td>2015-01-01 00:00:00</td>\n",
       "      <td>0</td>\n",
       "    </tr>\n",
       "    <tr>\n",
       "      <th>1</th>\n",
       "      <td>5</td>\n",
       "      <td>2015-01-01 00:00:01</td>\n",
       "      <td>0</td>\n",
       "    </tr>\n",
       "  </tbody>\n",
       "</table>\n",
       "</div>"
      ],
      "text/plain": [
       "   integer             datetime  category\n",
       "0        5  2015-01-01 00:00:00         0\n",
       "1        5  2015-01-01 00:00:01         0"
      ]
     },
     "execution_count": 30,
     "metadata": {},
     "output_type": "execute_result"
    }
   ],
   "source": [
    "# Charger les données\n",
    "dataframe = pd.read_parquet(url, engine=\"fastparquet\")\n",
    "\n",
    "# Afficher les deux premières lignes\n",
    "dataframe.head(2)"
   ]
  },
  {
   "cell_type": "markdown",
   "id": "76ac5124",
   "metadata": {},
   "source": [
    "En utilisant l'option ``engine=\"pyarrow\"`` , on obtient, cette erreur ``ArrowKeyError: No type extension with name arrow.py_extension_type found`` . Cela vient probablement d’une incompatibilité ou d’un conflit entre les versions de la bibliothèque pyarrow et le fichier Parquet qu'on essaye de lire.\n",
    "\n",
    "🎯 Causes possibles\n",
    "- utiliser une version récente de ``pyarrow`` qui ne reconnaît pas une extension personnalisée appelée ``arrow.py_extension_type`` dans le fichier.\n",
    "- Le fichier Parquet a été écrit avec une extension personnalisée non standard ou spécifique à un environnement particulier.\n",
    "- Le fichier a pu être produit dans un outil ou framework qui utilise des métadonnées ou des structures avancées non encore supportées dans ``pyarrow``.\n"
   ]
  },
  {
   "cell_type": "markdown",
   "id": "29f0fb47",
   "metadata": {},
   "source": [
    "Le format Parquet est largement utilisé dans le domaine de la donnée volumineuse (big data).\n",
    "\n",
    "💾 Il est optimisé pour le stockage efficace et la vitesse d’accès, et s’intègre bien avec des outils comme Hadoop ou Apache Spark.\n",
    "\n",
    "✅ Bien que PySpark ne soit pas traité ici, il est utile de connaître la façon de charger un fichier Parquet dans un DataFrame pandas, car ce format est fréquent dans les infrastructures de données d’entreprise.\n",
    "\n",
    "💡 Contrairement aux fichiers CSV ou Excel, Parquet est un format binaire, compressé et colonnes-orienté, ce qui le rend particulièrement adapté au traitement de grands volumes de données\n"
   ]
  },
  {
   "cell_type": "markdown",
   "id": "d053c4f5",
   "metadata": {},
   "source": [
    "# 📦 Chargement d’un fichier Avro\n",
    "\n",
    "On souhaite importer un fichier Avro dans un DataFrame pandas.\n",
    "\n",
    "On utilise la bibliothèque ``pandavro`` et sa méthode ``read_avro()`` :\n"
   ]
  },
  {
   "cell_type": "code",
   "execution_count": 33,
   "id": "37fa8a12",
   "metadata": {},
   "outputs": [],
   "source": [
    "#!pip install pandavro"
   ]
  },
  {
   "cell_type": "code",
   "execution_count": 49,
   "id": "a3fdc02f",
   "metadata": {},
   "outputs": [],
   "source": [
    "# Importer les bibliothèques\n",
    "#import requests\n",
    "#import pandavro as pdx\n",
    "\n",
    "# Définir l'URL du fichier Avro\n",
    "#url = 'https://machine-learning-python-cookbook.s3.amazonaws.com/data.avro'\n",
    "\n",
    "# Télécharger le fichier localement\n",
    "#r = requests.get(url)\n",
    "#open('data.avro', 'wb').write(r.content)\n",
    "\n",
    "# Charger le fichier Avro dans un DataFrame\n",
    "#dataframe = pdx.read_avro('data.avro')\n",
    "\n",
    "# Afficher les deux premières lignes\n",
    "#dataframe.head(2)"
   ]
  },
  {
   "cell_type": "markdown",
   "id": "fd3565e6",
   "metadata": {},
   "source": [
    "🧠 Apache Avro est un format binaire open source qui utilise des schémas pour décrire la structure des données.\n",
    "\n",
    "Il est moins répandu que Parquet, mais très apprécié pour sa efficacité, notamment dans les systèmes de données volumineuses.\n",
    "🔎 D'autres formats binaires dans le même domaine incluent :\n",
    "- Thrift\n",
    "- Protocol Buffers\n",
    "\n",
    "Ces formats deviennent de plus en plus populaires car ils permettent :\n",
    "- un stockage compact\n",
    "- un accès rapide\n",
    "- une bonne compatibilité avec les outils de Big Data\n",
    "\n",
    "🎓 Si l'on travaille avec des systèmes de données à grande échelle, il est probable de rencontrer l’un de ces formats\n"
   ]
  },
  {
   "cell_type": "markdown",
   "id": "de8fe74d",
   "metadata": {},
   "source": [
    "# 🗂️ Interroger une base de données SQLite\n",
    "\n",
    "Nous souhaitons charger des données à partir d'une base de données en utilisant le langage SQL.\n",
    "\n",
    "La fonction ``read_sql_query`` de pandas nous permet d’envoyer une requête SQL à une base de données et de charger le résultat dans un DataFrame :\n"
   ]
  },
  {
   "cell_type": "code",
   "execution_count": 53,
   "id": "40cc06c9",
   "metadata": {},
   "outputs": [],
   "source": [
    "#!pip install sqlalchemy"
   ]
  },
  {
   "cell_type": "code",
   "execution_count": 55,
   "id": "fbb156f4",
   "metadata": {},
   "outputs": [],
   "source": [
    "# Importer les bibliothèques\n",
    "#import pandas as pd\n",
    "#from sqlalchemy import create_engine\n",
    "\n",
    "# Créer une connexion vers la base SQLite (fichier local)\n",
    "#database_connection = create_engine('sqlite:///sample.db')\n",
    "\n",
    "# Exécuter la requête SQL et charger les données dans un DataFrame\n",
    "#dataframe = pd.read_sql_query('SELECT * FROM data', database_connection)\n",
    "\n",
    "# Afficher les deux premières lignes\n",
    "#dataframe.head(2)\n"
   ]
  },
  {
   "cell_type": "markdown",
   "id": "63d9b2c5",
   "metadata": {},
   "source": [
    "🧠 Le langage SQL (Structured Query Language) est la langue universelle des bases de données relationnelles.\n",
    "\n",
    "Dans cette recette, on :\n",
    "- Utilise ``create_engine`` de SQLAlchemy pour établir une connexion vers une base SQLite.\n",
    "- Utilise ``read_sql_query`` de pandas pour envoyer une requête SQL ``(SELECT * FROM data)`` à cette base.\n",
    "- Récupère les résultats dans un DataFrame pandas, parfait pour l’analyse tabulaire.\n",
    "\n",
    "🛑 À noter :\n",
    "Cette recette ne fonctionnera pas sans code supplémentaire car elle suppose que le fichier ``sample.db`` existe déjà dans le répertoire local et qu’il contient une table nommée ``data``.\n"
   ]
  },
  {
   "cell_type": "markdown",
   "id": "eec1bbc2",
   "metadata": {},
   "source": [
    "# 🌐 Interroger une base de données SQL distante\n",
    "\n",
    "On souhaite se connecter à une base SQL distante et lire des données avec une requête SQL.\n",
    "\n",
    "On utilise donc la bibliothèque ``pymysql`` pour établir la connexion, puis ``pandas`` pour exécuter la requête et récupérer les résultats dans un DataFrame :\n"
   ]
  },
  {
   "cell_type": "code",
   "execution_count": 2,
   "id": "51a08e54",
   "metadata": {},
   "outputs": [],
   "source": [
    "#!pip install pymysql"
   ]
  },
  {
   "cell_type": "code",
   "execution_count": 2,
   "id": "e8261373",
   "metadata": {},
   "outputs": [],
   "source": [
    "# Importer les bibliothèques\n",
    "#import pymysql\n",
    "#import pandas as pd\n",
    "\n",
    "# Établir la connexion avec la base distante (exemple ici en local)\n",
    "#conn = pymysql.connect(\n",
    " #   host='localhost',       # Adresse du serveur distant\n",
    "  #  user='root',            # Nom d'utilisateur\n",
    "   # password='',            # Mot de passe\n",
    "    #db='db'                 # Nom de la base\n",
    "#)\n",
    "\n",
    "# Lire la requête SQL dans un DataFrame\n",
    "#dataframe = pd.read_sql(\"SELECT * FROM data\", conn)\n",
    "\n",
    "# Afficher les deux premières lignes\n",
    "#dataframe.head(2)"
   ]
  },
  {
   "cell_type": "markdown",
   "id": "b9a1b0a5",
   "metadata": {},
   "source": [
    "🔹 Cette recette est probablement la plus utilisée dans le monde réel.\n",
    "\n",
    "Se connecter à une base SQLite en local est utile pour tester, mais en environnement professionnel, on sera souvent amené à interroger des bases SQL hébergées sur des serveurs distants.\n",
    "\n",
    "✅ Cela implique généralement :\n",
    "- Spécifier le host (nom du serveur ou IP)\n",
    "- Le port (souvent 3306 pour MySQL)\n",
    "- Un identifiant et un mot de passe\n",
    "- Le nom de la base de données concernée\n",
    "\n",
    "⚠️ Dans cet exemple, l’hôte est ``localhost``, mais dans une vraie situation, ce serait souvent une adresse distante comme ``sql.example.com``.\n",
    "\n",
    "🛠️ Ce code suppose qu'on a lancé une instance MySQL locale pour simuler ce comportement. Une base exemple est disponible ici : 👉 [mysql-db-example (GitHub)](https://github.com/kylegallatin/mysql-db-example)\n",
    "\n",
    "\n"
   ]
  },
  {
   "cell_type": "markdown",
   "id": "4423cb08",
   "metadata": {},
   "source": [
    "# 📄 Charger un Google Sheet dans Python\n",
    "\n",
    "On souhaite lire un Google Sheet directement dans un script Python, sans le télécharger manuellement.\n",
    "\n",
    "On utilise donc ``read_csv`` de pandas et passer une URL qui exporte la feuille en format CSV :\n"
   ]
  },
  {
   "cell_type": "code",
   "execution_count": 1,
   "id": "ea750332",
   "metadata": {},
   "outputs": [
    {
     "data": {
      "application/vnd.microsoft.datawrangler.viewer.v0+json": {
       "columns": [
        {
         "name": "index",
         "rawType": "int64",
         "type": "integer"
        },
        {
         "name": "integer",
         "rawType": "int64",
         "type": "integer"
        },
        {
         "name": "datetime",
         "rawType": "object",
         "type": "string"
        },
        {
         "name": "category",
         "rawType": "int64",
         "type": "integer"
        }
       ],
       "ref": "1478063e-6e01-4ebe-9972-868f36fe7e4d",
       "rows": [
        [
         "0",
         "5",
         "2015-01-01 0:00:00",
         "0"
        ],
        [
         "1",
         "5",
         "2015-01-01 0:00:01",
         "0"
        ]
       ],
       "shape": {
        "columns": 3,
        "rows": 2
       }
      },
      "text/html": [
       "<div>\n",
       "<style scoped>\n",
       "    .dataframe tbody tr th:only-of-type {\n",
       "        vertical-align: middle;\n",
       "    }\n",
       "\n",
       "    .dataframe tbody tr th {\n",
       "        vertical-align: top;\n",
       "    }\n",
       "\n",
       "    .dataframe thead th {\n",
       "        text-align: right;\n",
       "    }\n",
       "</style>\n",
       "<table border=\"1\" class=\"dataframe\">\n",
       "  <thead>\n",
       "    <tr style=\"text-align: right;\">\n",
       "      <th></th>\n",
       "      <th>integer</th>\n",
       "      <th>datetime</th>\n",
       "      <th>category</th>\n",
       "    </tr>\n",
       "  </thead>\n",
       "  <tbody>\n",
       "    <tr>\n",
       "      <th>0</th>\n",
       "      <td>5</td>\n",
       "      <td>2015-01-01 0:00:00</td>\n",
       "      <td>0</td>\n",
       "    </tr>\n",
       "    <tr>\n",
       "      <th>1</th>\n",
       "      <td>5</td>\n",
       "      <td>2015-01-01 0:00:01</td>\n",
       "      <td>0</td>\n",
       "    </tr>\n",
       "  </tbody>\n",
       "</table>\n",
       "</div>"
      ],
      "text/plain": [
       "   integer            datetime  category\n",
       "0        5  2015-01-01 0:00:00         0\n",
       "1        5  2015-01-01 0:00:01         0"
      ]
     },
     "execution_count": 1,
     "metadata": {},
     "output_type": "execute_result"
    }
   ],
   "source": [
    "# Importer la bibliothèque pandas\n",
    "import pandas as pd\n",
    "\n",
    "# Définir l'URL d'exportation du Google Sheet en format CSV\n",
    "url = \"https://docs.google.com/spreadsheets/d/\"\\\n",
    "      \"1ehC-9otcAuitqnmWksqt1mOrTRCL38dv0K9UjhwzTOA/export?format=csv\"\n",
    "\n",
    "# Lire la feuille Google Sheet dans un DataFrame pandas\n",
    "dataframe = pd.read_csv(url)\n",
    "\n",
    "# Afficher les deux premières lignes\n",
    "dataframe.head(2)"
   ]
  },
  {
   "cell_type": "markdown",
   "id": "bfb29e32",
   "metadata": {},
   "source": [
    "Bien que les Google Sheets soient facilement téléchargeables, il est souvent bien plus pratique de les importer directement dans Python pour automatiser le traitement des données.\n",
    "\n",
    "🔹 Le paramètre ``export?format=csv`` à la fin de l’URL permet de :\n",
    "- générer un lien d’exportation au format CSV\n",
    "- le lire automatiquement dans pandas comme s’il s’agissait d’un fichier classique\n",
    "\n",
    "🎯 Cela évite toute étape intermédiaire et nous permet d’avoir un workflow fluide pour nos analyses.\n",
    "\n",
    "💡 Astuce : s'assurer que le Google Sheet est public ou que le lien est partagé avec autorisation de lecture, sinon pandas ne pourra pas l’atteindre.\n"
   ]
  },
  {
   "cell_type": "markdown",
   "id": "6780f591",
   "metadata": {},
   "source": [
    "# ☁️ Chargement d’un fichier CSV depuis un bucket S3\n",
    "Problème\n",
    "On souhaite lire un fichier CSV situé dans un bucket Amazon S3.\n",
    "\n",
    "Pour cela, on ajoute des options de stockage dans pandas pour lui permettre d'accéder à l'objet S3 :\n"
   ]
  },
  {
   "cell_type": "code",
   "execution_count": 2,
   "id": "ec2af9c7",
   "metadata": {},
   "outputs": [],
   "source": [
    "# Importer la bibliothèque pandas\n",
    "#import pandas as pd\n",
    "\n",
    "# Définir l'URI S3 du fichier CSV\n",
    "#s3_uri = \"s3://machine-learning-python-cookbook/data.csv\"\n",
    "\n",
    "# Définir les identifiants AWS (à remplacer par les nôtres)\n",
    "#ACCESS_KEY_ID = \"xxxxxxxxxxxxx\"\n",
    "#SECRET_ACCESS_KEY = \"xxxxxxxxxxxxxxxx\"\n",
    "\n",
    "# Lire le fichier CSV dans un DataFrame pandas\n",
    "#dataframe = pd.read_csv(\n",
    " #   s3_uri,\n",
    "  #  storage_options={\n",
    "   #     \"key\": ACCESS_KEY_ID,\n",
    "    #    \"secret\": SECRET_ACCESS_KEY,\n",
    "    #}\n",
    "#)\n",
    "\n",
    "# Afficher les deux premières lignes\n",
    "#dataframe.head(2)"
   ]
  },
  {
   "cell_type": "markdown",
   "id": "d7b35b68",
   "metadata": {},
   "source": [
    "De plus en plus d’entreprises stockent leurs données dans des services cloud comme Amazon S3 ou Google Cloud Storage (GCS).\n",
    "\n",
    "Les professionnels du machine learning y accèdent fréquemment pour entraîner ou tester leurs modèles.\n",
    "\n",
    "🔐 Même si l’objet S3 semble public (ex : ``s3://machine-learning-python-cookbook/data.csv``), l’accès peut tout de même nécessiter des identifiants AWS.\n",
    "\n",
    "📎 D’ailleurs, ces objets publics peuvent souvent aussi être téléchargés via une URL HTTP, comme :\n",
    "``https://machine-learning-python-cookbook.s3.amazonaws.com/data.csv``\n",
    "\n",
    "💭 En résumé, S3 combine souplesse, performance et accessibilité pour des workflows de traitement de données modernes.\n",
    "\n",
    "\n"
   ]
  },
  {
   "cell_type": "markdown",
   "id": "2ceac8c1",
   "metadata": {},
   "source": [
    "# 📝 Chargement de données non structurées\n",
    "\n",
    "On a besoin de charger des données non structurées, comme du texte ou des images.\n",
    "\n",
    "Pour ce faire, on utilise la fonction de base ``open`` en Python pour lire les fichiers :\n",
    "\n"
   ]
  },
  {
   "cell_type": "code",
   "execution_count": 3,
   "id": "3a879ed5",
   "metadata": {},
   "outputs": [
    {
     "name": "stdout",
     "output_type": "stream",
     "text": [
      "Hello there!\n"
     ]
    }
   ],
   "source": [
    "# Importer les bibliothèques\n",
    "import requests\n",
    "\n",
    "# Définir l'URL du fichier texte\n",
    "txt_url = \"https://machine-learning-python-cookbook.s3.amazonaws.com/text.txt\"\n",
    "\n",
    "# Télécharger le fichier distant\n",
    "r = requests.get(txt_url)\n",
    "\n",
    "# Enregistrer le fichier localement\n",
    "with open('text.txt', 'wb') as f:\n",
    "    f.write(r.content)\n",
    "\n",
    "# Lire le contenu du fichier\n",
    "with open('text.txt', 'r') as f:\n",
    "    text = f.read()\n",
    "\n",
    "# Afficher le contenu\n",
    "print(text)\n"
   ]
  },
  {
   "cell_type": "markdown",
   "id": "a807275c",
   "metadata": {},
   "source": [
    "📌 Les données structurées (comme les fichiers CSV, JSON ou les bases de données SQL) sont faciles à importer et à manipuler.\n",
    "\n",
    "🔍 En revanche, les données non structurées (textes bruts, images, fichiers audio, etc.) peuvent être plus complexes à traiter et nécessitent souvent un prétraitement personnalisé.\n",
    "\n",
    "⚙️ L’utilisation de la fonction native ``open()`` de Python permet de :\n",
    "- ouvrir un fichier local\n",
    "- lire son contenu (sous forme de chaîne de caractères)\n",
    "- préparer le terrain pour des opérations plus avancées : extraction de texte, nettoyage, encodage, etc."
   ]
  }
 ],
 "metadata": {
  "kernelspec": {
   "display_name": ".venv",
   "language": "python",
   "name": "python3"
  },
  "language_info": {
   "codemirror_mode": {
    "name": "ipython",
    "version": 3
   },
   "file_extension": ".py",
   "mimetype": "text/x-python",
   "name": "python",
   "nbconvert_exporter": "python",
   "pygments_lexer": "ipython3",
   "version": "3.13.5"
  }
 },
 "nbformat": 4,
 "nbformat_minor": 5
}
